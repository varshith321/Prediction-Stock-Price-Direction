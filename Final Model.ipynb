{
 "cells": [
  {
   "cell_type": "markdown",
   "metadata": {},
   "source": [
    "# Importing Libraries"
   ]
  },
  {
   "cell_type": "code",
   "execution_count": 58,
   "metadata": {},
   "outputs": [],
   "source": [
    "import numpy as np\n",
    "import pandas as pd\n",
    "import scipy \n",
    "import matplotlib\n",
    "\n",
    "#matplotlib.use('agg')\n",
    "import matplotlib.pyplot as plt\n",
    "from sklearn.preprocessing  import MinMaxScaler\n",
    "import seaborn as sns\n",
    "import sklearn\n",
    "import keras\n",
    "%matplotlib inline"
   ]
  },
  {
   "cell_type": "markdown",
   "metadata": {},
   "source": [
    "# Importing Data"
   ]
  },
  {
   "cell_type": "code",
   "execution_count": 73,
   "metadata": {},
   "outputs": [],
   "source": [
    "df = pd.read_csv('AAPL (1).csv')\n",
    "data = pd.read_csv('News_Apple_Reddit2.csv', encoding = \"ISO-8859-1\")"
   ]
  },
  {
   "cell_type": "markdown",
   "metadata": {},
   "source": [
    "# Univariate Analysis"
   ]
  },
  {
   "cell_type": "code",
   "execution_count": 74,
   "metadata": {},
   "outputs": [],
   "source": [
    "df = df.sort_values('Date')"
   ]
  },
  {
   "cell_type": "code",
   "execution_count": 75,
   "metadata": {},
   "outputs": [
    {
     "data": {
      "text/html": [
       "<div>\n",
       "<style>\n",
       "    .dataframe thead tr:only-child th {\n",
       "        text-align: right;\n",
       "    }\n",
       "\n",
       "    .dataframe thead th {\n",
       "        text-align: left;\n",
       "    }\n",
       "\n",
       "    .dataframe tbody tr th {\n",
       "        vertical-align: top;\n",
       "    }\n",
       "</style>\n",
       "<table border=\"1\" class=\"dataframe\">\n",
       "  <thead>\n",
       "    <tr style=\"text-align: right;\">\n",
       "      <th></th>\n",
       "      <th>Date</th>\n",
       "      <th>Open</th>\n",
       "      <th>High</th>\n",
       "      <th>Low</th>\n",
       "      <th>Close</th>\n",
       "      <th>Adj Close</th>\n",
       "      <th>Volume</th>\n",
       "    </tr>\n",
       "  </thead>\n",
       "  <tbody>\n",
       "    <tr>\n",
       "      <th>0</th>\n",
       "      <td>2010-12-31</td>\n",
       "      <td>46.135715</td>\n",
       "      <td>46.21143</td>\n",
       "      <td>45.901428</td>\n",
       "      <td>46.080002</td>\n",
       "      <td>31.194164</td>\n",
       "      <td>48377000</td>\n",
       "    </tr>\n",
       "  </tbody>\n",
       "</table>\n",
       "</div>"
      ],
      "text/plain": [
       "         Date       Open      High        Low      Close  Adj Close    Volume\n",
       "0  2010-12-31  46.135715  46.21143  45.901428  46.080002  31.194164  48377000"
      ]
     },
     "execution_count": 75,
     "metadata": {},
     "output_type": "execute_result"
    }
   ],
   "source": [
    "df.head(1)"
   ]
  },
  {
   "cell_type": "code",
   "execution_count": 76,
   "metadata": {},
   "outputs": [
    {
     "data": {
      "text/html": [
       "<div>\n",
       "<style>\n",
       "    .dataframe thead tr:only-child th {\n",
       "        text-align: right;\n",
       "    }\n",
       "\n",
       "    .dataframe thead th {\n",
       "        text-align: left;\n",
       "    }\n",
       "\n",
       "    .dataframe tbody tr th {\n",
       "        vertical-align: top;\n",
       "    }\n",
       "</style>\n",
       "<table border=\"1\" class=\"dataframe\">\n",
       "  <thead>\n",
       "    <tr style=\"text-align: right;\">\n",
       "      <th></th>\n",
       "      <th>body_x</th>\n",
       "      <th>score_x</th>\n",
       "      <th>title_x</th>\n",
       "      <th>url_x</th>\n",
       "      <th>date</th>\n",
       "      <th>body_y</th>\n",
       "      <th>score_y</th>\n",
       "      <th>title_y</th>\n",
       "      <th>url_y</th>\n",
       "      <th>body</th>\n",
       "      <th>score</th>\n",
       "      <th>title</th>\n",
       "      <th>url</th>\n",
       "    </tr>\n",
       "  </thead>\n",
       "  <tbody>\n",
       "    <tr>\n",
       "      <th>0</th>\n",
       "      <td>NaN</td>\n",
       "      <td>1614</td>\n",
       "      <td>Apple's Steve Jobs says resigns as CEO</td>\n",
       "      <td>http://www.reuters.com/</td>\n",
       "      <td>2011-08-25</td>\n",
       "      <td>\\r\\n\\r\\nWelcome to the daily Tech Support thre...</td>\n",
       "      <td>1.0</td>\n",
       "      <td>Daily Tech Support Thread [April 15]</td>\n",
       "      <td>https://www.reddit.com/r/apple/comments/8cfqin...</td>\n",
       "      <td>NaN</td>\n",
       "      <td>NaN</td>\n",
       "      <td>NaN</td>\n",
       "      <td>NaN</td>\n",
       "    </tr>\n",
       "  </tbody>\n",
       "</table>\n",
       "</div>"
      ],
      "text/plain": [
       "  body_x  score_x                                 title_x  \\\n",
       "0    NaN     1614  Apple's Steve Jobs says resigns as CEO   \n",
       "\n",
       "                     url_x        date  \\\n",
       "0  http://www.reuters.com/  2011-08-25   \n",
       "\n",
       "                                              body_y  score_y  \\\n",
       "0  \\r\\n\\r\\nWelcome to the daily Tech Support thre...      1.0   \n",
       "\n",
       "                                title_y  \\\n",
       "0  Daily Tech Support Thread [April 15]   \n",
       "\n",
       "                                               url_y body  score title  url  \n",
       "0  https://www.reddit.com/r/apple/comments/8cfqin...  NaN    NaN   NaN  NaN  "
      ]
     },
     "execution_count": 76,
     "metadata": {},
     "output_type": "execute_result"
    }
   ],
   "source": [
    "data.head(1)"
   ]
  },
  {
   "cell_type": "code",
   "execution_count": 77,
   "metadata": {},
   "outputs": [
    {
     "data": {
      "text/plain": [
       "Index(['Date', 'Open', 'High', 'Low', 'Close', 'Adj Close', 'Volume'], dtype='object')"
      ]
     },
     "execution_count": 77,
     "metadata": {},
     "output_type": "execute_result"
    }
   ],
   "source": [
    "df.columns"
   ]
  },
  {
   "cell_type": "code",
   "execution_count": 89,
   "metadata": {},
   "outputs": [],
   "source": [
    "df.columns = ['date', 'Open', 'High', 'Low', 'Close', 'Adj Close', 'Volume']"
   ]
  },
  {
   "cell_type": "code",
   "execution_count": 90,
   "metadata": {},
   "outputs": [
    {
     "data": {
      "text/plain": [
       "Timestamp('2012-04-20 00:00:00')"
      ]
     },
     "execution_count": 90,
     "metadata": {},
     "output_type": "execute_result"
    }
   ],
   "source": [
    "df['date'].iloc[164]"
   ]
  },
  {
   "cell_type": "code",
   "execution_count": 91,
   "metadata": {},
   "outputs": [],
   "source": [
    "df = df.iloc[164:,]"
   ]
  },
  {
   "cell_type": "code",
   "execution_count": null,
   "metadata": {},
   "outputs": [],
   "source": []
  },
  {
   "cell_type": "code",
   "execution_count": null,
   "metadata": {},
   "outputs": [],
   "source": []
  },
  {
   "cell_type": "code",
   "execution_count": 92,
   "metadata": {},
   "outputs": [],
   "source": [
    "data_final = pd.merge(df, data, how = 'left', on=['date'])"
   ]
  },
  {
   "cell_type": "code",
   "execution_count": 93,
   "metadata": {},
   "outputs": [
    {
     "data": {
      "text/plain": [
       "(1434, 7)"
      ]
     },
     "execution_count": 93,
     "metadata": {},
     "output_type": "execute_result"
    }
   ],
   "source": [
    "df.shape"
   ]
  },
  {
   "cell_type": "code",
   "execution_count": 94,
   "metadata": {},
   "outputs": [
    {
     "data": {
      "text/plain": [
       "0       2011-08-25\n",
       "1       2011-10-06\n",
       "2       2011-11-13\n",
       "3       2012-01-29\n",
       "4       2012-03-27\n",
       "5       2012-03-30\n",
       "6       2012-04-18\n",
       "7       2012-05-18\n",
       "8       2012-05-18\n",
       "9       2012-05-18\n",
       "10      2012-05-18\n",
       "11      2012-05-22\n",
       "12      2012-06-12\n",
       "13      2012-06-14\n",
       "14      2012-07-18\n",
       "15      2012-07-26\n",
       "16      2012-07-27\n",
       "17      2012-07-28\n",
       "18      2012-08-12\n",
       "19      2012-08-19\n",
       "20      2012-08-23\n",
       "21      2012-08-24\n",
       "22      2012-08-31\n",
       "23      2012-09-03\n",
       "24      2012-09-08\n",
       "25      2012-09-13\n",
       "26      2012-09-14\n",
       "27      2012-09-15\n",
       "28      2012-09-16\n",
       "29      2012-09-17\n",
       "           ...    \n",
       "2308    2018-04-20\n",
       "2309    2018-04-20\n",
       "2310    2018-04-20\n",
       "2311    2018-04-21\n",
       "2312    2018-04-21\n",
       "2313    2018-04-21\n",
       "2314    2018-04-21\n",
       "2315    2018-04-22\n",
       "2316    2018-04-22\n",
       "2317    2018-04-22\n",
       "2318    2018-04-22\n",
       "2319    2018-04-23\n",
       "2320    2018-04-24\n",
       "2321    2018-04-24\n",
       "2322    2018-04-24\n",
       "2323    2018-04-24\n",
       "2324    2018-04-25\n",
       "2325    2018-04-25\n",
       "2326    2018-04-25\n",
       "2327    2018-04-25\n",
       "2328    2018-04-26\n",
       "2329    2018-04-26\n",
       "2330    2018-04-26\n",
       "2331    2018-04-26\n",
       "2332    2018-04-26\n",
       "2333    2018-04-26\n",
       "2334    2018-04-26\n",
       "2335    2018-04-26\n",
       "2336    2018-04-27\n",
       "2337    2018-04-28\n",
       "Name: date, Length: 2338, dtype: object"
      ]
     },
     "execution_count": 94,
     "metadata": {},
     "output_type": "execute_result"
    }
   ],
   "source": [
    "data['date']"
   ]
  },
  {
   "cell_type": "code",
   "execution_count": null,
   "metadata": {},
   "outputs": [],
   "source": []
  },
  {
   "cell_type": "code",
   "execution_count": 95,
   "metadata": {},
   "outputs": [
    {
     "data": {
      "text/plain": [
       "(2338, 13)"
      ]
     },
     "execution_count": 95,
     "metadata": {},
     "output_type": "execute_result"
    }
   ],
   "source": [
    "data.shape"
   ]
  },
  {
   "cell_type": "code",
   "execution_count": 96,
   "metadata": {},
   "outputs": [
    {
     "data": {
      "text/plain": [
       "(1434, 19)"
      ]
     },
     "execution_count": 96,
     "metadata": {},
     "output_type": "execute_result"
    }
   ],
   "source": [
    "data_final.shape"
   ]
  },
  {
   "cell_type": "code",
   "execution_count": 97,
   "metadata": {},
   "outputs": [
    {
     "data": {
      "text/html": [
       "<div>\n",
       "<style>\n",
       "    .dataframe thead tr:only-child th {\n",
       "        text-align: right;\n",
       "    }\n",
       "\n",
       "    .dataframe thead th {\n",
       "        text-align: left;\n",
       "    }\n",
       "\n",
       "    .dataframe tbody tr th {\n",
       "        vertical-align: top;\n",
       "    }\n",
       "</style>\n",
       "<table border=\"1\" class=\"dataframe\">\n",
       "  <thead>\n",
       "    <tr style=\"text-align: right;\">\n",
       "      <th></th>\n",
       "      <th>date</th>\n",
       "      <th>Open</th>\n",
       "      <th>High</th>\n",
       "      <th>Low</th>\n",
       "      <th>Close</th>\n",
       "      <th>Adj Close</th>\n",
       "      <th>Volume</th>\n",
       "      <th>body_x</th>\n",
       "      <th>score_x</th>\n",
       "      <th>title_x</th>\n",
       "      <th>url_x</th>\n",
       "      <th>body_y</th>\n",
       "      <th>score_y</th>\n",
       "      <th>title_y</th>\n",
       "      <th>url_y</th>\n",
       "      <th>body</th>\n",
       "      <th>score</th>\n",
       "      <th>title</th>\n",
       "      <th>url</th>\n",
       "    </tr>\n",
       "  </thead>\n",
       "  <tbody>\n",
       "    <tr>\n",
       "      <th>0</th>\n",
       "      <td>2012-04-20 00:00:00</td>\n",
       "      <td>84.482857</td>\n",
       "      <td>84.945717</td>\n",
       "      <td>81.488571</td>\n",
       "      <td>81.854286</td>\n",
       "      <td>55.411781</td>\n",
       "      <td>257746300</td>\n",
       "      <td>NaN</td>\n",
       "      <td>NaN</td>\n",
       "      <td>NaN</td>\n",
       "      <td>NaN</td>\n",
       "      <td>NaN</td>\n",
       "      <td>NaN</td>\n",
       "      <td>NaN</td>\n",
       "      <td>NaN</td>\n",
       "      <td>NaN</td>\n",
       "      <td>NaN</td>\n",
       "      <td>NaN</td>\n",
       "      <td>NaN</td>\n",
       "    </tr>\n",
       "    <tr>\n",
       "      <th>1</th>\n",
       "      <td>2012-04-23 00:00:00</td>\n",
       "      <td>81.515717</td>\n",
       "      <td>82.381432</td>\n",
       "      <td>79.517143</td>\n",
       "      <td>81.671425</td>\n",
       "      <td>55.288006</td>\n",
       "      <td>241632300</td>\n",
       "      <td>NaN</td>\n",
       "      <td>NaN</td>\n",
       "      <td>NaN</td>\n",
       "      <td>NaN</td>\n",
       "      <td>NaN</td>\n",
       "      <td>NaN</td>\n",
       "      <td>NaN</td>\n",
       "      <td>NaN</td>\n",
       "      <td>NaN</td>\n",
       "      <td>NaN</td>\n",
       "      <td>NaN</td>\n",
       "      <td>NaN</td>\n",
       "    </tr>\n",
       "    <tr>\n",
       "      <th>2</th>\n",
       "      <td>2012-04-24 00:00:00</td>\n",
       "      <td>80.372856</td>\n",
       "      <td>81.098572</td>\n",
       "      <td>79.285713</td>\n",
       "      <td>80.040001</td>\n",
       "      <td>54.183609</td>\n",
       "      <td>269037300</td>\n",
       "      <td>NaN</td>\n",
       "      <td>NaN</td>\n",
       "      <td>NaN</td>\n",
       "      <td>NaN</td>\n",
       "      <td>NaN</td>\n",
       "      <td>NaN</td>\n",
       "      <td>NaN</td>\n",
       "      <td>NaN</td>\n",
       "      <td>NaN</td>\n",
       "      <td>NaN</td>\n",
       "      <td>NaN</td>\n",
       "      <td>NaN</td>\n",
       "    </tr>\n",
       "    <tr>\n",
       "      <th>3</th>\n",
       "      <td>2012-04-25 00:00:00</td>\n",
       "      <td>87.948570</td>\n",
       "      <td>88.285713</td>\n",
       "      <td>86.571426</td>\n",
       "      <td>87.142860</td>\n",
       "      <td>58.991924</td>\n",
       "      <td>226444400</td>\n",
       "      <td>NaN</td>\n",
       "      <td>NaN</td>\n",
       "      <td>NaN</td>\n",
       "      <td>NaN</td>\n",
       "      <td>NaN</td>\n",
       "      <td>NaN</td>\n",
       "      <td>NaN</td>\n",
       "      <td>NaN</td>\n",
       "      <td>NaN</td>\n",
       "      <td>NaN</td>\n",
       "      <td>NaN</td>\n",
       "      <td>NaN</td>\n",
       "    </tr>\n",
       "    <tr>\n",
       "      <th>4</th>\n",
       "      <td>2012-04-26 00:00:00</td>\n",
       "      <td>87.752853</td>\n",
       "      <td>87.812859</td>\n",
       "      <td>86.018570</td>\n",
       "      <td>86.814285</td>\n",
       "      <td>58.769508</td>\n",
       "      <td>134017100</td>\n",
       "      <td>NaN</td>\n",
       "      <td>NaN</td>\n",
       "      <td>NaN</td>\n",
       "      <td>NaN</td>\n",
       "      <td>NaN</td>\n",
       "      <td>NaN</td>\n",
       "      <td>NaN</td>\n",
       "      <td>NaN</td>\n",
       "      <td>NaN</td>\n",
       "      <td>NaN</td>\n",
       "      <td>NaN</td>\n",
       "      <td>NaN</td>\n",
       "    </tr>\n",
       "  </tbody>\n",
       "</table>\n",
       "</div>"
      ],
      "text/plain": [
       "                  date       Open       High        Low      Close  Adj Close  \\\n",
       "0  2012-04-20 00:00:00  84.482857  84.945717  81.488571  81.854286  55.411781   \n",
       "1  2012-04-23 00:00:00  81.515717  82.381432  79.517143  81.671425  55.288006   \n",
       "2  2012-04-24 00:00:00  80.372856  81.098572  79.285713  80.040001  54.183609   \n",
       "3  2012-04-25 00:00:00  87.948570  88.285713  86.571426  87.142860  58.991924   \n",
       "4  2012-04-26 00:00:00  87.752853  87.812859  86.018570  86.814285  58.769508   \n",
       "\n",
       "      Volume body_x  score_x title_x url_x body_y  score_y title_y url_y body  \\\n",
       "0  257746300    NaN      NaN     NaN   NaN    NaN      NaN     NaN   NaN  NaN   \n",
       "1  241632300    NaN      NaN     NaN   NaN    NaN      NaN     NaN   NaN  NaN   \n",
       "2  269037300    NaN      NaN     NaN   NaN    NaN      NaN     NaN   NaN  NaN   \n",
       "3  226444400    NaN      NaN     NaN   NaN    NaN      NaN     NaN   NaN  NaN   \n",
       "4  134017100    NaN      NaN     NaN   NaN    NaN      NaN     NaN   NaN  NaN   \n",
       "\n",
       "   score title  url  \n",
       "0    NaN   NaN  NaN  \n",
       "1    NaN   NaN  NaN  \n",
       "2    NaN   NaN  NaN  \n",
       "3    NaN   NaN  NaN  \n",
       "4    NaN   NaN  NaN  "
      ]
     },
     "execution_count": 97,
     "metadata": {},
     "output_type": "execute_result"
    }
   ],
   "source": [
    "data_final.head()"
   ]
  },
  {
   "cell_type": "markdown",
   "metadata": {},
   "source": [
    "# Technical Analysis"
   ]
  },
  {
   "cell_type": "code",
   "execution_count": 98,
   "metadata": {},
   "outputs": [
    {
     "data": {
      "text/html": [
       "<div>\n",
       "<style>\n",
       "    .dataframe thead tr:only-child th {\n",
       "        text-align: right;\n",
       "    }\n",
       "\n",
       "    .dataframe thead th {\n",
       "        text-align: left;\n",
       "    }\n",
       "\n",
       "    .dataframe tbody tr th {\n",
       "        vertical-align: top;\n",
       "    }\n",
       "</style>\n",
       "<table border=\"1\" class=\"dataframe\">\n",
       "  <thead>\n",
       "    <tr style=\"text-align: right;\">\n",
       "      <th></th>\n",
       "      <th>date</th>\n",
       "      <th>Open</th>\n",
       "      <th>High</th>\n",
       "      <th>Low</th>\n",
       "      <th>Close</th>\n",
       "      <th>Adj Close</th>\n",
       "      <th>Volume</th>\n",
       "    </tr>\n",
       "  </thead>\n",
       "  <tbody>\n",
       "    <tr>\n",
       "      <th>496</th>\n",
       "      <td>2012-12-20</td>\n",
       "      <td>75.714287</td>\n",
       "      <td>75.742859</td>\n",
       "      <td>74.125717</td>\n",
       "      <td>74.53286</td>\n",
       "      <td>53.721798</td>\n",
       "      <td>120422400</td>\n",
       "    </tr>\n",
       "  </tbody>\n",
       "</table>\n",
       "</div>"
      ],
      "text/plain": [
       "          date       Open       High        Low     Close  Adj Close  \\\n",
       "496 2012-12-20  75.714287  75.742859  74.125717  74.53286  53.721798   \n",
       "\n",
       "        Volume  \n",
       "496  120422400  "
      ]
     },
     "execution_count": 98,
     "metadata": {},
     "output_type": "execute_result"
    }
   ],
   "source": [
    "df.sample()"
   ]
  },
  {
   "cell_type": "code",
   "execution_count": 99,
   "metadata": {},
   "outputs": [
    {
     "name": "stderr",
     "output_type": "stream",
     "text": [
      "c:\\users\\admin\\appdata\\local\\programs\\python\\python36\\lib\\site-packages\\ipykernel_launcher.py:1: SettingWithCopyWarning: \n",
      "A value is trying to be set on a copy of a slice from a DataFrame.\n",
      "Try using .loc[row_indexer,col_indexer] = value instead\n",
      "\n",
      "See the caveats in the documentation: http://pandas.pydata.org/pandas-docs/stable/indexing.html#indexing-view-versus-copy\n",
      "  \"\"\"Entry point for launching an IPython kernel.\n"
     ]
    }
   ],
   "source": [
    "df['date'] = pd.to_datetime(df['date'])"
   ]
  },
  {
   "cell_type": "code",
   "execution_count": 100,
   "metadata": {},
   "outputs": [
    {
     "name": "stderr",
     "output_type": "stream",
     "text": [
      "c:\\users\\admin\\appdata\\local\\programs\\python\\python36\\lib\\site-packages\\pandas\\core\\frame.py:2352: SettingWithCopyWarning: \n",
      "A value is trying to be set on a copy of a slice from a DataFrame.\n",
      "Try using .loc[row_indexer,col_indexer] = value instead\n",
      "\n",
      "See the caveats in the documentation: http://pandas.pydata.org/pandas-docs/stable/indexing.html#indexing-view-versus-copy\n",
      "  self[k1] = value[k2]\n"
     ]
    }
   ],
   "source": [
    "#Converting to string\n",
    "df[['Open', 'High', 'Low', 'Close', 'Adj Close', 'Volume']] = df[['Open', 'High', 'Low', 'Close', 'Adj Close', 'Volume']].astype(str).astype(float).astype(int)\n"
   ]
  },
  {
   "cell_type": "markdown",
   "metadata": {},
   "source": [
    "# 1. Simple Moving Average"
   ]
  },
  {
   "cell_type": "code",
   "execution_count": 101,
   "metadata": {},
   "outputs": [
    {
     "name": "stderr",
     "output_type": "stream",
     "text": [
      "c:\\users\\admin\\appdata\\local\\programs\\python\\python36\\lib\\site-packages\\ipykernel_launcher.py:2: SettingWithCopyWarning: \n",
      "A value is trying to be set on a copy of a slice from a DataFrame.\n",
      "Try using .loc[row_indexer,col_indexer] = value instead\n",
      "\n",
      "See the caveats in the documentation: http://pandas.pydata.org/pandas-docs/stable/indexing.html#indexing-view-versus-copy\n",
      "  \n",
      "c:\\users\\admin\\appdata\\local\\programs\\python\\python36\\lib\\site-packages\\ipykernel_launcher.py:3: SettingWithCopyWarning: \n",
      "A value is trying to be set on a copy of a slice from a DataFrame.\n",
      "Try using .loc[row_indexer,col_indexer] = value instead\n",
      "\n",
      "See the caveats in the documentation: http://pandas.pydata.org/pandas-docs/stable/indexing.html#indexing-view-versus-copy\n",
      "  This is separate from the ipykernel package so we can avoid doing imports until\n",
      "c:\\users\\admin\\appdata\\local\\programs\\python\\python36\\lib\\site-packages\\ipykernel_launcher.py:4: SettingWithCopyWarning: \n",
      "A value is trying to be set on a copy of a slice from a DataFrame.\n",
      "Try using .loc[row_indexer,col_indexer] = value instead\n",
      "\n",
      "See the caveats in the documentation: http://pandas.pydata.org/pandas-docs/stable/indexing.html#indexing-view-versus-copy\n",
      "  after removing the cwd from sys.path.\n"
     ]
    }
   ],
   "source": [
    "#1. Simple Moving Averdf\n",
    "df['sma30'] = df.Close.rolling(window = 30).mean()\n",
    "df['sma40'] = df.Close.rolling(window = 40).mean()\n",
    "df['sma50'] = df.Close.rolling(window = 50).mean()"
   ]
  },
  {
   "cell_type": "code",
   "execution_count": null,
   "metadata": {},
   "outputs": [],
   "source": []
  }
 ],
 "metadata": {
  "kernelspec": {
   "display_name": "Python 3",
   "language": "python",
   "name": "python3"
  },
  "language_info": {
   "codemirror_mode": {
    "name": "ipython",
    "version": 3
   },
   "file_extension": ".py",
   "mimetype": "text/x-python",
   "name": "python",
   "nbconvert_exporter": "python",
   "pygments_lexer": "ipython3",
   "version": "3.6.5"
  }
 },
 "nbformat": 4,
 "nbformat_minor": 2
}
