{
 "cells": [
  {
   "cell_type": "code",
   "execution_count": 9,
   "metadata": {},
   "outputs": [],
   "source": [
    "import tweepy\n",
    "\n",
    "auth = tweepy.OAuthHandler('7VQBPA0RGxocHmPeZNjrUjjCd', 'UgyPO5QKoEu0DnqF1NjgcXMb4PpCHZJsNOnbw1aublNSOtzSmD')\n",
    "auth.set_access_token('4027518732-Duw3VMzwNHHhAcZdiIv6yg4YPNApm135REPf1Kb', '1ghaDwJQnQm5VEeKjHdARMKzhrZE7Sbat87hkHm7acIr7')\n",
    "\n",
    "api = tweepy.API(auth)\n",
    "\n",
    "public_tweets = api.home_timeline()\n",
    "for tweet in public_tweets:\n",
    "    print(tweet.text)"
   ]
  },
  {
   "cell_type": "code",
   "execution_count": 11,
   "metadata": {},
   "outputs": [
    {
     "name": "stdout",
     "output_type": "stream",
     "text": [
      "Twitter\n",
      "62618373\n",
      "TwitterTogether\n",
      "MomentsIndia\n",
      "TwitterMediaJP\n",
      "TwitterAyuda\n",
      "AdsAPI\n",
      "pichette\n",
      "TwitterFashnJP\n",
      "TwitterA11y\n",
      "TwitterComms\n",
      "TwitterSportsCA\n",
      "TwitterVideoIN\n",
      "TwitterREW\n",
      "TwitterAdsHelp\n",
      "TwitterMktgFR\n",
      "JoinTheFlockJP\n",
      "TwitterMktgBR\n",
      "TwitterSportsJP\n",
      "TwitterDevJP\n",
      "TwitterTVJP\n",
      "TwitterMedia\n"
     ]
    }
   ],
   "source": [
    "user = api.get_user('twitter')\n",
    "\n",
    "print(user.screen_name)\n",
    "print(user.followers_count)\n",
    "for friend in user.friends():\n",
    "   print(friend.screen_name)"
   ]
  },
  {
   "cell_type": "code",
   "execution_count": null,
   "metadata": {},
   "outputs": [],
   "source": []
  },
  {
   "cell_type": "code",
   "execution_count": 17,
   "metadata": {},
   "outputs": [],
   "source": [
    "try:\n",
    "    redirect_url = auth.get_authorization_url()\n",
    "except tweepy.TweepError:\n",
    "    print('Error! Failed to get request token.')"
   ]
  },
  {
   "cell_type": "code",
   "execution_count": 18,
   "metadata": {},
   "outputs": [
    {
     "name": "stdout",
     "output_type": "stream",
     "text": [
      "https://api.twitter.com/oauth/authorize?oauth_token=PUy8YQAAAAAA5O5DAAABYm2Z_E8\n"
     ]
    }
   ],
   "source": [
    "print(redirect_url)"
   ]
  },
  {
   "cell_type": "code",
   "execution_count": 20,
   "metadata": {},
   "outputs": [
    {
     "ename": "NameError",
     "evalue": "name 'session' is not defined",
     "output_type": "error",
     "traceback": [
      "\u001b[1;31m---------------------------------------------------------------------------\u001b[0m",
      "\u001b[1;31mNameError\u001b[0m                                 Traceback (most recent call last)",
      "\u001b[1;32m<ipython-input-20-fc36d6b20a4f>\u001b[0m in \u001b[0;36m<module>\u001b[1;34m()\u001b[0m\n\u001b[1;32m----> 1\u001b[1;33m \u001b[0mtoken\u001b[0m \u001b[1;33m=\u001b[0m \u001b[0msession\u001b[0m\u001b[1;33m.\u001b[0m\u001b[0mget\u001b[0m\u001b[1;33m(\u001b[0m\u001b[1;34m'request_token'\u001b[0m\u001b[1;33m)\u001b[0m\u001b[1;33m\u001b[0m\u001b[0m\n\u001b[0m\u001b[0;32m      2\u001b[0m \u001b[0msession\u001b[0m\u001b[1;33m.\u001b[0m\u001b[0mdelete\u001b[0m\u001b[1;33m(\u001b[0m\u001b[1;34m'request_token'\u001b[0m\u001b[1;33m)\u001b[0m\u001b[1;33m\u001b[0m\u001b[0m\n\u001b[0;32m      3\u001b[0m \u001b[0mauth\u001b[0m\u001b[1;33m.\u001b[0m\u001b[0mrequest_token\u001b[0m \u001b[1;33m=\u001b[0m \u001b[0mtoken\u001b[0m\u001b[1;33m\u001b[0m\u001b[0m\n\u001b[0;32m      4\u001b[0m \u001b[1;33m\u001b[0m\u001b[0m\n\u001b[0;32m      5\u001b[0m \u001b[1;32mtry\u001b[0m\u001b[1;33m:\u001b[0m\u001b[1;33m\u001b[0m\u001b[0m\n",
      "\u001b[1;31mNameError\u001b[0m: name 'session' is not defined"
     ]
    }
   ],
   "source": [
    "token = session.get('request_token')\n",
    "session.delete('request_token')\n",
    "auth.request_token = token\n",
    "\n",
    "try:\n",
    "    auth.get_access_token(verifier)\n",
    "except tweepy.TweepError:\n",
    "    print('Error! Failed to get access token.')"
   ]
  },
  {
   "cell_type": "code",
   "execution_count": null,
   "metadata": {},
   "outputs": [],
   "source": []
  },
  {
   "cell_type": "code",
   "execution_count": null,
   "metadata": {},
   "outputs": [],
   "source": []
  },
  {
   "cell_type": "code",
   "execution_count": null,
   "metadata": {},
   "outputs": [],
   "source": []
  },
  {
   "cell_type": "code",
   "execution_count": null,
   "metadata": {},
   "outputs": [],
   "source": [
    "('7VQBPA0RGxocHmPeZNjrUjjCd', 'UgyPO5QKoEu0DnqF1NjgcXMb4PpCHZJsNOnbw1aublNSOtzSmD')\n",
    "auth.set_access_token('4027518732-Duw3VMzwNHHhAcZdiIv6yg4YPNApm135REPf1Kb', '1ghaDwJQnQm5VEeKjHdARMKzhrZE7Sbat87hkHm7acIr7')\n"
   ]
  },
  {
   "cell_type": "code",
   "execution_count": 22,
   "metadata": {},
   "outputs": [
    {
     "name": "stdout",
     "output_type": "stream",
     "text": [
      "getting tweets before 293289746275381247\n",
      "...383 tweets downloaded so far\n",
      "getting tweets before 265965404604747775\n",
      "...574 tweets downloaded so far\n",
      "getting tweets before 223876232096387071\n",
      "...759 tweets downloaded so far\n",
      "getting tweets before 200707976116449279\n",
      "...949 tweets downloaded so far\n",
      "getting tweets before 179861065063079935\n",
      "...988 tweets downloaded so far\n",
      "getting tweets before 128727410161102847\n",
      "...988 tweets downloaded so far\n"
     ]
    },
    {
     "ename": "TypeError",
     "evalue": "a bytes-like object is required, not 'str'",
     "output_type": "error",
     "traceback": [
      "\u001b[1;31m---------------------------------------------------------------------------\u001b[0m",
      "\u001b[1;31mTypeError\u001b[0m                                 Traceback (most recent call last)",
      "\u001b[1;32m<ipython-input-22-1898628307ad>\u001b[0m in \u001b[0;36m<module>\u001b[1;34m()\u001b[0m\n\u001b[0;32m     58\u001b[0m \u001b[1;32mif\u001b[0m \u001b[0m__name__\u001b[0m \u001b[1;33m==\u001b[0m \u001b[1;34m'__main__'\u001b[0m\u001b[1;33m:\u001b[0m\u001b[1;33m\u001b[0m\u001b[0m\n\u001b[0;32m     59\u001b[0m \u001b[1;31m#pass in the username of the account you want to download\u001b[0m\u001b[1;33m\u001b[0m\u001b[1;33m\u001b[0m\u001b[0m\n\u001b[1;32m---> 60\u001b[1;33m     \u001b[0mget_all_tweets\u001b[0m\u001b[1;33m(\u001b[0m\u001b[1;34m\"J_tsar\"\u001b[0m\u001b[1;33m)\u001b[0m\u001b[1;33m\u001b[0m\u001b[0m\n\u001b[0m",
      "\u001b[1;32m<ipython-input-22-1898628307ad>\u001b[0m in \u001b[0;36mget_all_tweets\u001b[1;34m(screen_name)\u001b[0m\n\u001b[0;32m     50\u001b[0m     \u001b[1;32mwith\u001b[0m \u001b[0mopen\u001b[0m\u001b[1;33m(\u001b[0m\u001b[1;34m'%s_tweets.csv'\u001b[0m \u001b[1;33m%\u001b[0m \u001b[0mscreen_name\u001b[0m\u001b[1;33m,\u001b[0m \u001b[1;34m'wb'\u001b[0m\u001b[1;33m)\u001b[0m \u001b[1;32mas\u001b[0m \u001b[0mf\u001b[0m\u001b[1;33m:\u001b[0m\u001b[1;33m\u001b[0m\u001b[0m\n\u001b[0;32m     51\u001b[0m         \u001b[0mwriter\u001b[0m \u001b[1;33m=\u001b[0m \u001b[0mcsv\u001b[0m\u001b[1;33m.\u001b[0m\u001b[0mwriter\u001b[0m\u001b[1;33m(\u001b[0m\u001b[0mf\u001b[0m\u001b[1;33m)\u001b[0m\u001b[1;33m\u001b[0m\u001b[0m\n\u001b[1;32m---> 52\u001b[1;33m         \u001b[0mwriter\u001b[0m\u001b[1;33m.\u001b[0m\u001b[0mwriterow\u001b[0m\u001b[1;33m(\u001b[0m\u001b[1;33m[\u001b[0m\u001b[1;34m\"id\"\u001b[0m\u001b[1;33m,\u001b[0m\u001b[1;34m\"created_at\"\u001b[0m\u001b[1;33m,\u001b[0m\u001b[1;34m\"text\"\u001b[0m\u001b[1;33m]\u001b[0m\u001b[1;33m)\u001b[0m\u001b[1;33m\u001b[0m\u001b[0m\n\u001b[0m\u001b[0;32m     53\u001b[0m         \u001b[0mwriter\u001b[0m\u001b[1;33m.\u001b[0m\u001b[0mwriterows\u001b[0m\u001b[1;33m(\u001b[0m\u001b[0mouttweets\u001b[0m\u001b[1;33m)\u001b[0m\u001b[1;33m\u001b[0m\u001b[0m\n\u001b[0;32m     54\u001b[0m \u001b[1;33m\u001b[0m\u001b[0m\n",
      "\u001b[1;31mTypeError\u001b[0m: a bytes-like object is required, not 'str'"
     ]
    }
   ],
   "source": [
    "import tweepy #https://github.com/tweepy/tweepy\n",
    "import csv\n",
    "\n",
    "#Twitter API credentials\n",
    "consumer_key = \"7VQBPA0RGxocHmPeZNjrUjjCd\"\n",
    "consumer_secret = \"UgyPO5QKoEu0DnqF1NjgcXMb4PpCHZJsNOnbw1aublNSOtzSmD\"\n",
    "access_key = \"4027518732-Duw3VMzwNHHhAcZdiIv6yg4YPNApm135REPf1Kb\"\n",
    "access_secret = \"1ghaDwJQnQm5VEeKjHdARMKzhrZE7Sbat87hkHm7acIr7\"\n",
    "\n",
    "\n",
    "def get_all_tweets(screen_name):\n",
    "    #Twitter only allows access to a users most recent 3240 tweets with this method\n",
    "    \n",
    "    #authorize twitter, initialize tweepy\n",
    "    auth = tweepy.OAuthHandler(consumer_key, consumer_secret)\n",
    "    auth.set_access_token(access_key, access_secret)\n",
    "    api = tweepy.API(auth)\n",
    "    \n",
    "    #initialize a list to hold all the tweepy Tweets\n",
    "    alltweets = []\n",
    "    \n",
    "    #make initial request for most recent tweets (200 is the maximum allowed count)\n",
    "    new_tweets = api.user_timeline(screen_name = screen_name,count=200)\n",
    "    \n",
    "    #save most recent tweets\n",
    "    alltweets.extend(new_tweets)\n",
    "    \n",
    "    #save the id of the oldest tweet less one\n",
    "    oldest = alltweets[-1].id - 1\n",
    "    \n",
    "    #keep grabbing tweets until there are no tweets left to grab\n",
    "    while len(new_tweets) > 0:\n",
    "        print(\"getting tweets before %s\" % (oldest))\n",
    "        \n",
    "        #all subsiquent requests use the max_id param to prevent duplicates\n",
    "        new_tweets = api.user_timeline(screen_name = screen_name,count=200,max_id=oldest)\n",
    "        \n",
    "        #save most recent tweets\n",
    "        alltweets.extend(new_tweets)\n",
    "        \n",
    "        #update the id of the oldest tweet less one\n",
    "        oldest = alltweets[-1].id - 1\n",
    "        \n",
    "        print(\"...%s tweets downloaded so far\" % (len(alltweets)))\n",
    "\n",
    "#transform the tweepy tweets into a 2D array that will populate the csv\t\n",
    "    outtweets = [[tweet.id_str, tweet.created_at, tweet.text.encode(\"utf-8\")] for tweet in alltweets]\n",
    "\n",
    "#write the csv\n",
    "    with open('%s_tweets.csv' % screen_name, 'wb') as f:\n",
    "        writer = csv.writer(f)\n",
    "        writer.writerow([\"id\",\"created_at\",\"text\"])\n",
    "        writer.writerows(outtweets)\n",
    "\n",
    "    pass\n",
    "\n",
    "\n",
    "if __name__ == '__main__':\n",
    "#pass in the username of the account you want to download\n",
    "    get_all_tweets(\"J_tsar\")"
   ]
  },
  {
   "cell_type": "code",
   "execution_count": null,
   "metadata": {},
   "outputs": [],
   "source": []
  },
  {
   "cell_type": "code",
   "execution_count": null,
   "metadata": {},
   "outputs": [],
   "source": []
  },
  {
   "cell_type": "code",
   "execution_count": null,
   "metadata": {},
   "outputs": [],
   "source": []
  },
  {
   "cell_type": "code",
   "execution_count": null,
   "metadata": {},
   "outputs": [],
   "source": []
  },
  {
   "cell_type": "code",
   "execution_count": null,
   "metadata": {},
   "outputs": [],
   "source": []
  },
  {
   "cell_type": "code",
   "execution_count": null,
   "metadata": {},
   "outputs": [],
   "source": []
  },
  {
   "cell_type": "code",
   "execution_count": null,
   "metadata": {},
   "outputs": [],
   "source": []
  },
  {
   "cell_type": "code",
   "execution_count": null,
   "metadata": {},
   "outputs": [],
   "source": []
  },
  {
   "cell_type": "code",
   "execution_count": null,
   "metadata": {},
   "outputs": [],
   "source": [
    "import requests\n",
    "import json\n",
    "import os\n",
    "os.chdir(os.curdir+\"/1.Raw Data\")\n",
    "''' Go to https://newsapi.org/docs/endpoints/everything for parameterisation'''\n",
    "url = ('https://newsapi.org/v2/everything?q=bitcoin&language=en&apiKey=0e4810893f704b91bbc0c4f557f32072')\n",
    "response = requests.get(url)\n",
    "print(response.json())\n",
    "for page_no in range(int(response.json()[\"totalResults\"]/100)-1):\n",
    "\turl = ('https://newsapi.org/v2/everything?q=bitcoin&pageSize=100&page=' + str(\n",
    "\t\tpage_no+1) + '&language=en&apiKey=0e4810893f704b91bbc0c4f557f32072')\n",
    "\tresponse2 = requests.get(url)\n",
    "\tarray = response2.json()\n",
    "\tprint(response2.json())\n",
    "\tarticles = array['articles']\n",
    "\tfor int in range(100):\n",
    "\t\tprint(int+page_no*100)\n",
    "\t\twith open(\"article\"+str(int+page_no*100)+'.json', 'w') as outfile:\n",
    "\t\t\tjson.dump(articles[int][\"description\"], outfile)"
   ]
  },
  {
   "cell_type": "code",
   "execution_count": null,
   "metadata": {},
   "outputs": [],
   "source": []
  },
  {
   "cell_type": "code",
   "execution_count": null,
   "metadata": {},
   "outputs": [],
   "source": []
  },
  {
   "cell_type": "code",
   "execution_count": 31,
   "metadata": {},
   "outputs": [],
   "source": [
    "from newsapi import NewsApiClient\n",
    "newsapi = NewsApiClient(api_key='d8cbf4c635b34ee08d3e20dfe3aae680')\n",
    "\n",
    "sources = newsapi.get_sources()"
   ]
  },
  {
   "cell_type": "code",
   "execution_count": 34,
   "metadata": {},
   "outputs": [],
   "source": [
    "top_headlines = newsapi.get_top_headlines(q='apple',\n",
    "                                          sources='bbc-news,the-verge',\n",
    "                                          category='business',\n",
    "                                          language='en',\n",
    "                                          country='us')"
   ]
  },
  {
   "cell_type": "code",
   "execution_count": 35,
   "metadata": {},
   "outputs": [
    {
     "name": "stdout",
     "output_type": "stream",
     "text": [
      "{'status': 'error', 'code': 'parametersIncompatible', 'message': 'You cannot mix the sources parameter with the country or category parameters.'}\n"
     ]
    }
   ],
   "source": [
    "print(top_headlines)"
   ]
  },
  {
   "cell_type": "code",
   "execution_count": null,
   "metadata": {},
   "outputs": [],
   "source": []
  },
  {
   "cell_type": "code",
   "execution_count": null,
   "metadata": {},
   "outputs": [],
   "source": []
  },
  {
   "cell_type": "code",
   "execution_count": 14,
   "metadata": {},
   "outputs": [
    {
     "ename": "AttributeError",
     "evalue": "module 'test' has no attribute 'ckey'",
     "output_type": "error",
     "traceback": [
      "\u001b[1;31m---------------------------------------------------------------------------\u001b[0m",
      "\u001b[1;31mAttributeError\u001b[0m                            Traceback (most recent call last)",
      "\u001b[1;32m<ipython-input-14-491481ccae42>\u001b[0m in \u001b[0;36m<module>\u001b[1;34m()\u001b[0m\n\u001b[0;32m     23\u001b[0m \u001b[1;32mimport\u001b[0m \u001b[0mtest\u001b[0m\u001b[1;33m\u001b[0m\u001b[0m\n\u001b[0;32m     24\u001b[0m \u001b[1;33m\u001b[0m\u001b[0m\n\u001b[1;32m---> 25\u001b[1;33m \u001b[0mckey\u001b[0m\u001b[1;33m=\u001b[0m\u001b[0mtest\u001b[0m\u001b[1;33m.\u001b[0m\u001b[0mckey\u001b[0m\u001b[1;33m\u001b[0m\u001b[0m\n\u001b[0m\u001b[0;32m     26\u001b[0m \u001b[0mcsecret\u001b[0m\u001b[1;33m=\u001b[0m\u001b[0mtest\u001b[0m\u001b[1;33m.\u001b[0m\u001b[0mcsecret\u001b[0m\u001b[1;33m\u001b[0m\u001b[0m\n\u001b[0;32m     27\u001b[0m \u001b[0matoken\u001b[0m\u001b[1;33m=\u001b[0m\u001b[0mtest\u001b[0m\u001b[1;33m.\u001b[0m\u001b[0matoken\u001b[0m\u001b[1;33m\u001b[0m\u001b[0m\n",
      "\u001b[1;31mAttributeError\u001b[0m: module 'test' has no attribute 'ckey'"
     ]
    }
   ],
   "source": [
    "import time\n",
    "from tweepy import Stream\n",
    "from tweepy import OAuthHandler\n",
    "from tweepy.streaming import StreamListener\n",
    "import json\n",
    "from textblob import TextBlob\n",
    "import matplotlib.pyplot as plt\n",
    "import re\n",
    "\n",
    "\"# -- coding: utf-8 --\"\n",
    "\n",
    "def calctime(a):\n",
    "    return time.time()-a\n",
    "\n",
    "positive=0\n",
    "negative=0\n",
    "compound=0\n",
    "\n",
    "count=0\n",
    "initime=time.time()\n",
    "plt.ion()\n",
    "\n",
    "import test\n",
    "\n",
    "ckey=test.ckey\n",
    "csecret=test.csecret\n",
    "atoken=test.atoken\n",
    "asecret=test.asecret\n",
    "\n",
    "class listener(StreamListener):\n",
    "    \n",
    "    def on_data(self,data):\n",
    "        global initime\n",
    "        t=int(calctime(initime))\n",
    "        all_data=json.loads(data)\n",
    "        tweet=all_data[\"text\"].encode(\"utf-8\")\n",
    "        #username=all_data[\"user\"][\"screen_name\"]\n",
    "        tweet=\" \".join(re.findall(\"[a-zA-Z]+\", tweet))\n",
    "        blob=TextBlob(tweet.strip())\n",
    "\n",
    "        global positive\n",
    "        global negative     \n",
    "        global compound  \n",
    "        global count\n",
    "        \n",
    "        count=count+1\n",
    "        senti=0\n",
    "        for sen in blob.sentences:\n",
    "            senti=senti+sen.sentiment.polarity\n",
    "            if sen.sentiment.polarity >= 0:\n",
    "                positive=positive+sen.sentiment.polarity   \n",
    "            else:\n",
    "                negative=negative+sen.sentiment.polarity  \n",
    "        compound=compound+senti        \n",
    "        print(count)\n",
    "        print(tweet.strip())\n",
    "        print(senti)\n",
    "        print(t)\n",
    "        print(str(positive) + ' ' + str(negative) + ' ' + str(compound) )\n",
    "        \n",
    "    \n",
    "        plt.axis([ 0, 70, -20,20])\n",
    "        plt.xlabel('Time')\n",
    "        plt.ylabel('Sentiment')\n",
    "        plt.plot([t],[positive],'go',[t] ,[negative],'ro',[t],[compound],'bo')\n",
    "        plt.show()\n",
    "        plt.pause(0.0001)\n",
    "        if count==200:\n",
    "            return False\n",
    "        else:\n",
    "            return True\n",
    "        \n",
    "    def on_error(self,status):\n",
    "        print(status)\n",
    "\n",
    "\n",
    "#auth=OAuthHandler(ckey,csecret)\n",
    "#auth.set_access_token(atoken,asecret)\n",
    "\n",
    "auth = tweepy.OAuthHandler('7VQBPA0RGxocHmPeZNjrUjjCd', 'UgyPO5QKoEu0DnqF1NjgcXMb4PpCHZJsNOnbw1aublNSOtzSmD')\n",
    "auth.set_access_token('4027518732-Duw3VMzwNHHhAcZdiIv6yg4YPNApm135REPf1Kb', '1ghaDwJQnQm5VEeKjHdARMKzhrZE7Sbat87hkHm7acIr7')\n",
    "\n",
    "\n",
    "twitterStream=  Stream(auth, listener(count))\n",
    "twitterStream.filter(track=[\"Apple\"])"
   ]
  },
  {
   "cell_type": "code",
   "execution_count": null,
   "metadata": {},
   "outputs": [],
   "source": []
  }
 ],
 "metadata": {
  "kernelspec": {
   "display_name": "Python 3",
   "language": "python",
   "name": "python3"
  },
  "language_info": {
   "codemirror_mode": {
    "name": "ipython",
    "version": 3
   },
   "file_extension": ".py",
   "mimetype": "text/x-python",
   "name": "python",
   "nbconvert_exporter": "python",
   "pygments_lexer": "ipython3",
   "version": "3.6.5"
  }
 },
 "nbformat": 4,
 "nbformat_minor": 2
}
