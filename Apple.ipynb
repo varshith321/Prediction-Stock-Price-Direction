{
 "cells": [
  {
   "cell_type": "markdown",
   "metadata": {},
   "source": [
    "# 1. Importing Libraries"
   ]
  },
  {
   "cell_type": "code",
   "execution_count": 1,
   "metadata": {},
   "outputs": [
    {
     "name": "stderr",
     "output_type": "stream",
     "text": [
      "Using TensorFlow backend.\n"
     ]
    }
   ],
   "source": [
    "import numpy as np\n",
    "import pandas as pd\n",
    "import scipy \n",
    "import matplotlib\n",
    "#matplotlib.use('agg')\n",
    "import matplotlib.pyplot as plt\n",
    "from sklearn.preprocessing  import MinMaxScaler\n",
    "import seaborn as sns\n",
    "import sklearn\n",
    "import keras\n",
    "%matplotlib inline"
   ]
  },
  {
   "cell_type": "markdown",
   "metadata": {},
   "source": [
    "# 2. Importing Data"
   ]
  },
  {
   "cell_type": "code",
   "execution_count": 2,
   "metadata": {},
   "outputs": [],
   "source": [
    "df = pd.read_csv('AAPL (1).csv')\n",
    "data = pd.read_csv('News_Apple_Reddit2.csv', encoding = \"ISO-8859-1\")"
   ]
  },
  {
   "cell_type": "markdown",
   "metadata": {},
   "source": [
    "# 3. Univariate Analysis"
   ]
  },
  {
   "cell_type": "code",
   "execution_count": 3,
   "metadata": {},
   "outputs": [],
   "source": [
    "df = df.sort_values('Date')"
   ]
  },
  {
   "cell_type": "code",
   "execution_count": 4,
   "metadata": {},
   "outputs": [],
   "source": [
    "#Converting to date time\n",
    "df['Date'] = pd.to_datetime(df['Date'])"
   ]
  },
  {
   "cell_type": "code",
   "execution_count": 5,
   "metadata": {},
   "outputs": [
    {
     "data": {
      "text/plain": [
       "Timestamp('2011-08-25 00:00:00')"
      ]
     },
     "execution_count": 5,
     "metadata": {},
     "output_type": "execute_result"
    }
   ],
   "source": [
    "df['Date'].iloc[164]"
   ]
  },
  {
   "cell_type": "code",
   "execution_count": 6,
   "metadata": {},
   "outputs": [],
   "source": [
    "df = df.iloc[164:,]"
   ]
  },
  {
   "cell_type": "code",
   "execution_count": 7,
   "metadata": {},
   "outputs": [
    {
     "data": {
      "text/plain": [
       "Date         0\n",
       "Open         0\n",
       "High         0\n",
       "Low          0\n",
       "Close        0\n",
       "Adj Close    0\n",
       "Volume       0\n",
       "dtype: int64"
      ]
     },
     "execution_count": 7,
     "metadata": {},
     "output_type": "execute_result"
    }
   ],
   "source": [
    "df.isnull().sum()"
   ]
  },
  {
   "cell_type": "code",
   "execution_count": 8,
   "metadata": {},
   "outputs": [
    {
     "data": {
      "text/html": [
       "<div>\n",
       "<style>\n",
       "    .dataframe thead tr:only-child th {\n",
       "        text-align: right;\n",
       "    }\n",
       "\n",
       "    .dataframe thead th {\n",
       "        text-align: left;\n",
       "    }\n",
       "\n",
       "    .dataframe tbody tr th {\n",
       "        vertical-align: top;\n",
       "    }\n",
       "</style>\n",
       "<table border=\"1\" class=\"dataframe\">\n",
       "  <thead>\n",
       "    <tr style=\"text-align: right;\">\n",
       "      <th></th>\n",
       "      <th>Date</th>\n",
       "      <th>Open</th>\n",
       "      <th>High</th>\n",
       "      <th>Low</th>\n",
       "      <th>Close</th>\n",
       "      <th>Adj Close</th>\n",
       "      <th>Volume</th>\n",
       "    </tr>\n",
       "  </thead>\n",
       "  <tbody>\n",
       "    <tr>\n",
       "      <th>164</th>\n",
       "      <td>2011-08-25</td>\n",
       "      <td>52.154285</td>\n",
       "      <td>53.635715</td>\n",
       "      <td>52.142857</td>\n",
       "      <td>53.388573</td>\n",
       "      <td>36.141747</td>\n",
       "      <td>217836500</td>\n",
       "    </tr>\n",
       "    <tr>\n",
       "      <th>165</th>\n",
       "      <td>2011-08-26</td>\n",
       "      <td>53.024284</td>\n",
       "      <td>54.828571</td>\n",
       "      <td>52.971428</td>\n",
       "      <td>54.797142</td>\n",
       "      <td>37.095287</td>\n",
       "      <td>160369300</td>\n",
       "    </tr>\n",
       "    <tr>\n",
       "      <th>166</th>\n",
       "      <td>2011-08-29</td>\n",
       "      <td>55.454285</td>\n",
       "      <td>55.928570</td>\n",
       "      <td>55.428570</td>\n",
       "      <td>55.709999</td>\n",
       "      <td>37.713242</td>\n",
       "      <td>101317300</td>\n",
       "    </tr>\n",
       "    <tr>\n",
       "      <th>167</th>\n",
       "      <td>2011-08-30</td>\n",
       "      <td>55.464287</td>\n",
       "      <td>55.977142</td>\n",
       "      <td>55.172855</td>\n",
       "      <td>55.712856</td>\n",
       "      <td>37.715183</td>\n",
       "      <td>104480600</td>\n",
       "    </tr>\n",
       "    <tr>\n",
       "      <th>168</th>\n",
       "      <td>2011-08-31</td>\n",
       "      <td>55.795715</td>\n",
       "      <td>56.011429</td>\n",
       "      <td>54.551430</td>\n",
       "      <td>54.975716</td>\n",
       "      <td>37.216175</td>\n",
       "      <td>130646600</td>\n",
       "    </tr>\n",
       "  </tbody>\n",
       "</table>\n",
       "</div>"
      ],
      "text/plain": [
       "          Date       Open       High        Low      Close  Adj Close  \\\n",
       "164 2011-08-25  52.154285  53.635715  52.142857  53.388573  36.141747   \n",
       "165 2011-08-26  53.024284  54.828571  52.971428  54.797142  37.095287   \n",
       "166 2011-08-29  55.454285  55.928570  55.428570  55.709999  37.713242   \n",
       "167 2011-08-30  55.464287  55.977142  55.172855  55.712856  37.715183   \n",
       "168 2011-08-31  55.795715  56.011429  54.551430  54.975716  37.216175   \n",
       "\n",
       "        Volume  \n",
       "164  217836500  \n",
       "165  160369300  \n",
       "166  101317300  \n",
       "167  104480600  \n",
       "168  130646600  "
      ]
     },
     "execution_count": 8,
     "metadata": {},
     "output_type": "execute_result"
    }
   ],
   "source": [
    "df.head()"
   ]
  },
  {
   "cell_type": "code",
   "execution_count": 9,
   "metadata": {},
   "outputs": [],
   "source": [
    "df[['Open', 'High', 'Low', 'Close', 'Adj Close', 'Volume']] = df[['Open', 'High', 'Low', 'Close', 'Adj Close', 'Volume']].astype(str).astype(float).astype(int)\n"
   ]
  },
  {
   "cell_type": "code",
   "execution_count": 10,
   "metadata": {},
   "outputs": [
    {
     "data": {
      "text/html": [
       "<div>\n",
       "<style>\n",
       "    .dataframe thead tr:only-child th {\n",
       "        text-align: right;\n",
       "    }\n",
       "\n",
       "    .dataframe thead th {\n",
       "        text-align: left;\n",
       "    }\n",
       "\n",
       "    .dataframe tbody tr th {\n",
       "        vertical-align: top;\n",
       "    }\n",
       "</style>\n",
       "<table border=\"1\" class=\"dataframe\">\n",
       "  <thead>\n",
       "    <tr style=\"text-align: right;\">\n",
       "      <th></th>\n",
       "      <th>Date</th>\n",
       "      <th>Open</th>\n",
       "      <th>High</th>\n",
       "      <th>Low</th>\n",
       "      <th>Close</th>\n",
       "      <th>Adj Close</th>\n",
       "      <th>Volume</th>\n",
       "    </tr>\n",
       "  </thead>\n",
       "  <tbody>\n",
       "    <tr>\n",
       "      <th>164</th>\n",
       "      <td>2011-08-25</td>\n",
       "      <td>52</td>\n",
       "      <td>53</td>\n",
       "      <td>52</td>\n",
       "      <td>53</td>\n",
       "      <td>36</td>\n",
       "      <td>217836500</td>\n",
       "    </tr>\n",
       "    <tr>\n",
       "      <th>165</th>\n",
       "      <td>2011-08-26</td>\n",
       "      <td>53</td>\n",
       "      <td>54</td>\n",
       "      <td>52</td>\n",
       "      <td>54</td>\n",
       "      <td>37</td>\n",
       "      <td>160369300</td>\n",
       "    </tr>\n",
       "    <tr>\n",
       "      <th>166</th>\n",
       "      <td>2011-08-29</td>\n",
       "      <td>55</td>\n",
       "      <td>55</td>\n",
       "      <td>55</td>\n",
       "      <td>55</td>\n",
       "      <td>37</td>\n",
       "      <td>101317300</td>\n",
       "    </tr>\n",
       "    <tr>\n",
       "      <th>167</th>\n",
       "      <td>2011-08-30</td>\n",
       "      <td>55</td>\n",
       "      <td>55</td>\n",
       "      <td>55</td>\n",
       "      <td>55</td>\n",
       "      <td>37</td>\n",
       "      <td>104480600</td>\n",
       "    </tr>\n",
       "    <tr>\n",
       "      <th>168</th>\n",
       "      <td>2011-08-31</td>\n",
       "      <td>55</td>\n",
       "      <td>56</td>\n",
       "      <td>54</td>\n",
       "      <td>54</td>\n",
       "      <td>37</td>\n",
       "      <td>130646600</td>\n",
       "    </tr>\n",
       "  </tbody>\n",
       "</table>\n",
       "</div>"
      ],
      "text/plain": [
       "          Date  Open  High  Low  Close  Adj Close     Volume\n",
       "164 2011-08-25    52    53   52     53         36  217836500\n",
       "165 2011-08-26    53    54   52     54         37  160369300\n",
       "166 2011-08-29    55    55   55     55         37  101317300\n",
       "167 2011-08-30    55    55   55     55         37  104480600\n",
       "168 2011-08-31    55    56   54     54         37  130646600"
      ]
     },
     "execution_count": 10,
     "metadata": {},
     "output_type": "execute_result"
    }
   ],
   "source": [
    "df.head()"
   ]
  },
  {
   "cell_type": "markdown",
   "metadata": {},
   "source": [
    "# 4. Technical Analysis"
   ]
  },
  {
   "cell_type": "markdown",
   "metadata": {},
   "source": [
    "# 4.1. Simple Moving Average"
   ]
  },
  {
   "cell_type": "code",
   "execution_count": 11,
   "metadata": {},
   "outputs": [],
   "source": [
    "#1. Simple Moving Averdf\n",
    "df['sma30'] = df.Close.rolling(window = 30).mean()\n",
    "df['sma40'] = df.Close.rolling(window = 40).mean()\n",
    "df['sma50'] = df.Close.rolling(window = 50).mean()"
   ]
  },
  {
   "cell_type": "markdown",
   "metadata": {},
   "source": [
    "# 4.2. Exponential Moving Average"
   ]
  },
  {
   "cell_type": "code",
   "execution_count": 12,
   "metadata": {},
   "outputs": [],
   "source": [
    "#2. Exponential Moving Average\n",
    "\n",
    "df['ewm30'] = df['Close'].ewm(span=30, adjust=False).mean()\n",
    "df['ewm40'] = df['Close'].ewm(span=40, adjust=False).mean()\n",
    "df['ewm50'] = df['Close'].ewm(span=50, adjust=False).mean()"
   ]
  },
  {
   "cell_type": "markdown",
   "metadata": {},
   "source": [
    "# 4.3. RSI"
   ]
  },
  {
   "cell_type": "code",
   "execution_count": 13,
   "metadata": {},
   "outputs": [
    {
     "name": "stderr",
     "output_type": "stream",
     "text": [
      "c:\\users\\admin\\appdata\\local\\programs\\python\\python36\\lib\\site-packages\\ipykernel_launcher.py:12: FutureWarning: pd.ewm_mean is deprecated for Series and will be removed in a future version, replace with \n",
      "\tSeries.ewm(com=13,min_periods=0,adjust=False,ignore_na=False).mean()\n",
      "  if sys.path[0] == '':\n"
     ]
    }
   ],
   "source": [
    "#RSI\n",
    "def RSI(series, period):\n",
    "    delta = series.diff().dropna()\n",
    "    u = delta * 0\n",
    "    d = u.copy()\n",
    "    u[delta > 0] = delta[delta > 0]\n",
    "    d[delta < 0] = -delta[delta < 0]\n",
    "    u[u.index[period-1]] = np.mean( u[:period] ) #first value is sum of avg gains\n",
    "    u = u.drop(u.index[:(period-1)])\n",
    "    d[d.index[period-1]] = np.mean( d[:period] ) #first value is sum of avg losses\n",
    "    d = d.drop(d.index[:(period-1)])\n",
    "    rs = pd.stats.moments.ewma(u, com=period-1, adjust=False) / \\\n",
    "         pd.stats.moments.ewma(d, com=period-1, adjust=False)\n",
    "    return 100 - 100 / (1 + rs)\n",
    "df['RSI'] = RSI(df['Open'], 14)"
   ]
  },
  {
   "cell_type": "markdown",
   "metadata": {},
   "source": [
    "# 4.4. Bollinger Bands"
   ]
  },
  {
   "cell_type": "code",
   "execution_count": 14,
   "metadata": {},
   "outputs": [
    {
     "name": "stderr",
     "output_type": "stream",
     "text": [
      "c:\\users\\admin\\appdata\\local\\programs\\python\\python36\\lib\\site-packages\\ipykernel_launcher.py:5: FutureWarning: pd.rolling_mean is deprecated for Series and will be removed in a future version, replace with \n",
      "\tSeries.rolling(window=30,center=False).mean()\n",
      "  \"\"\"\n",
      "c:\\users\\admin\\appdata\\local\\programs\\python\\python36\\lib\\site-packages\\ipykernel_launcher.py:5: FutureWarning: pd.rolling_mean is deprecated for Series and will be removed in a future version, replace with \n",
      "\tSeries.rolling(window=40,center=False).mean()\n",
      "  \"\"\"\n",
      "c:\\users\\admin\\appdata\\local\\programs\\python\\python36\\lib\\site-packages\\ipykernel_launcher.py:5: FutureWarning: pd.rolling_mean is deprecated for Series and will be removed in a future version, replace with \n",
      "\tSeries.rolling(window=50,center=False).mean()\n",
      "  \"\"\"\n"
     ]
    }
   ],
   "source": [
    "#Bollinger Bands\n",
    "\n",
    "def bbands(price, length, numsd=2):\n",
    "    \"\"\" returns average, upper band, and lower band\"\"\"\n",
    "    ave = pd.stats.moments.rolling_mean(price,length)\n",
    "    #sd = pd.stats.moments.rolling_std(price,length)\n",
    "    #upband = ave + (sd*numsd)\n",
    "    #dnband = ave - (sd*numsd)\n",
    "    return np.round(ave,3) #np.round(upband,3), np.round(dnband,3)\n",
    "df['bbands30'] = bbands(df.Close, 30)\n",
    "df['bbands40'] = bbands(df.Close, 40)\n",
    "df['bbands50'] = bbands(df.Close, 50)"
   ]
  },
  {
   "cell_type": "markdown",
   "metadata": {},
   "source": [
    "# 4.5. Stochastic Oscillator "
   ]
  },
  {
   "cell_type": "code",
   "execution_count": 15,
   "metadata": {},
   "outputs": [],
   "source": [
    "#Stochastic Oscillator and Stochastic momentum Indicator\n",
    "\n",
    "def STOK(close, low, high, n): \n",
    " STOK = ((close - pd.rolling_min(low, n)) / (pd.rolling_max(high, n) - pd.rolling_min(low, n))) * 100\n",
    " return STOK"
   ]
  },
  {
   "cell_type": "code",
   "execution_count": 16,
   "metadata": {},
   "outputs": [
    {
     "name": "stderr",
     "output_type": "stream",
     "text": [
      "c:\\users\\admin\\appdata\\local\\programs\\python\\python36\\lib\\site-packages\\ipykernel_launcher.py:4: FutureWarning: pd.rolling_min is deprecated for Series and will be removed in a future version, replace with \n",
      "\tSeries.rolling(window=3,center=False).min()\n",
      "  after removing the cwd from sys.path.\n",
      "c:\\users\\admin\\appdata\\local\\programs\\python\\python36\\lib\\site-packages\\ipykernel_launcher.py:4: FutureWarning: pd.rolling_max is deprecated for Series and will be removed in a future version, replace with \n",
      "\tSeries.rolling(window=3,center=False).max()\n",
      "  after removing the cwd from sys.path.\n"
     ]
    }
   ],
   "source": [
    "df['STOK'] = STOK(df.Close, df.Low, df.High, 3) "
   ]
  },
  {
   "cell_type": "markdown",
   "metadata": {},
   "source": [
    "# 6.Stochastic momentum Indicator"
   ]
  },
  {
   "cell_type": "code",
   "execution_count": 17,
   "metadata": {},
   "outputs": [],
   "source": [
    "def STOD(close, low, high, n):\n",
    " STOK = ((close - pd.rolling_min(low, n)) / (pd.rolling_max(high, n) - pd.rolling_min(low, n))) * 100\n",
    " STOD = pd.rolling_mean(STOK, 3)\n",
    " return STOD\n",
    "\n"
   ]
  },
  {
   "cell_type": "code",
   "execution_count": 18,
   "metadata": {},
   "outputs": [
    {
     "name": "stderr",
     "output_type": "stream",
     "text": [
      "c:\\users\\admin\\appdata\\local\\programs\\python\\python36\\lib\\site-packages\\ipykernel_launcher.py:2: FutureWarning: pd.rolling_min is deprecated for Series and will be removed in a future version, replace with \n",
      "\tSeries.rolling(window=3,center=False).min()\n",
      "  \n",
      "c:\\users\\admin\\appdata\\local\\programs\\python\\python36\\lib\\site-packages\\ipykernel_launcher.py:2: FutureWarning: pd.rolling_max is deprecated for Series and will be removed in a future version, replace with \n",
      "\tSeries.rolling(window=3,center=False).max()\n",
      "  \n",
      "c:\\users\\admin\\appdata\\local\\programs\\python\\python36\\lib\\site-packages\\ipykernel_launcher.py:3: FutureWarning: pd.rolling_mean is deprecated for Series and will be removed in a future version, replace with \n",
      "\tSeries.rolling(window=3,center=False).mean()\n",
      "  This is separate from the ipykernel package so we can avoid doing imports until\n"
     ]
    }
   ],
   "source": [
    "df['STOD'] = STOD(df.Close, df.Low, df.High, 3) "
   ]
  },
  {
   "cell_type": "markdown",
   "metadata": {},
   "source": [
    "# 7.Commodity Channel Index"
   ]
  },
  {
   "cell_type": "code",
   "execution_count": 19,
   "metadata": {},
   "outputs": [],
   "source": [
    "#Commodity Channel Index\n",
    "def CCI(data, ndays): \n",
    " TP = (data['High'] + data['Low'] + data['Close']) / 3 \n",
    " CCI = pd.Series((TP - pd.rolling_mean(TP, ndays)) / (0.015 * pd.rolling_std(TP, ndays)),\n",
    " name = 'CCI') \n",
    " #data = data.join(CCI) \n",
    " #return data\n",
    " return CCI\n"
   ]
  },
  {
   "cell_type": "code",
   "execution_count": 20,
   "metadata": {},
   "outputs": [
    {
     "name": "stderr",
     "output_type": "stream",
     "text": [
      "c:\\users\\admin\\appdata\\local\\programs\\python\\python36\\lib\\site-packages\\ipykernel_launcher.py:4: FutureWarning: pd.rolling_mean is deprecated for Series and will be removed in a future version, replace with \n",
      "\tSeries.rolling(window=30,center=False).mean()\n",
      "  after removing the cwd from sys.path.\n",
      "c:\\users\\admin\\appdata\\local\\programs\\python\\python36\\lib\\site-packages\\ipykernel_launcher.py:4: FutureWarning: pd.rolling_std is deprecated for Series and will be removed in a future version, replace with \n",
      "\tSeries.rolling(window=30,center=False).std()\n",
      "  after removing the cwd from sys.path.\n"
     ]
    }
   ],
   "source": [
    "df['CCI30'] = CCI(df, 30)\n",
    "df['CCI40'] = CCI(df, 30)\n",
    "df['CCI50'] = CCI(df, 30)"
   ]
  },
  {
   "cell_type": "markdown",
   "metadata": {},
   "source": [
    "# 8.Trend Detection Index"
   ]
  },
  {
   "cell_type": "code",
   "execution_count": 21,
   "metadata": {},
   "outputs": [],
   "source": [
    "#Trend Detection Index"
   ]
  },
  {
   "cell_type": "markdown",
   "metadata": {},
   "source": [
    "# 9.Rate of Price Change"
   ]
  },
  {
   "cell_type": "code",
   "execution_count": 22,
   "metadata": {},
   "outputs": [],
   "source": [
    "#Rate of Price Change\n",
    "df['Rate_Return30'] = df['Close'].pct_change(periods = 30) \n",
    "df['Rate_Return40'] = df['Close'].pct_change(periods = 40) \n",
    "df['Rate_Return50'] = df['Close'].pct_change(periods = 50) "
   ]
  },
  {
   "cell_type": "markdown",
   "metadata": {},
   "source": [
    "# 10.Rate of Volume Change"
   ]
  },
  {
   "cell_type": "code",
   "execution_count": 23,
   "metadata": {},
   "outputs": [],
   "source": [
    "#Rate of Volume Change\n",
    "df['Rate_Return_volume30'] = df['Volume'].pct_change(periods = 30) \n",
    "df['Rate_Return_volume40'] = df['Volume'].pct_change(periods = 40) \n",
    "df['Rate_Return_volume50'] = df['Volume'].pct_change(periods = 50)"
   ]
  },
  {
   "cell_type": "markdown",
   "metadata": {},
   "source": [
    "# 11. William % R"
   ]
  },
  {
   "cell_type": "code",
   "execution_count": 24,
   "metadata": {},
   "outputs": [],
   "source": [
    "#William % R \n",
    "\n",
    "def WILLR(h, l, c, n):\n",
    "    hh = pd.rolling_max(h, n, min_periods=1)\n",
    "    ll = pd.rolling_min(l, n, min_periods=1)\n",
    "    spread = hh - ll\n",
    "    willr = np.select([spread != 0.], [100 * (hh - c) / spread], default=0.)\n",
    "    return willr\n"
   ]
  },
  {
   "cell_type": "code",
   "execution_count": 25,
   "metadata": {},
   "outputs": [
    {
     "name": "stderr",
     "output_type": "stream",
     "text": [
      "c:\\users\\admin\\appdata\\local\\programs\\python\\python36\\lib\\site-packages\\ipykernel_launcher.py:4: FutureWarning: pd.rolling_max is deprecated for Series and will be removed in a future version, replace with \n",
      "\tSeries.rolling(window=30,min_periods=1,center=False).max()\n",
      "  after removing the cwd from sys.path.\n",
      "c:\\users\\admin\\appdata\\local\\programs\\python\\python36\\lib\\site-packages\\ipykernel_launcher.py:5: FutureWarning: pd.rolling_min is deprecated for Series and will be removed in a future version, replace with \n",
      "\tSeries.rolling(window=30,min_periods=1,center=False).min()\n",
      "  \"\"\"\n",
      "c:\\users\\admin\\appdata\\local\\programs\\python\\python36\\lib\\site-packages\\ipykernel_launcher.py:4: FutureWarning: pd.rolling_max is deprecated for Series and will be removed in a future version, replace with \n",
      "\tSeries.rolling(window=40,min_periods=1,center=False).max()\n",
      "  after removing the cwd from sys.path.\n",
      "c:\\users\\admin\\appdata\\local\\programs\\python\\python36\\lib\\site-packages\\ipykernel_launcher.py:5: FutureWarning: pd.rolling_min is deprecated for Series and will be removed in a future version, replace with \n",
      "\tSeries.rolling(window=40,min_periods=1,center=False).min()\n",
      "  \"\"\"\n",
      "c:\\users\\admin\\appdata\\local\\programs\\python\\python36\\lib\\site-packages\\ipykernel_launcher.py:4: FutureWarning: pd.rolling_max is deprecated for Series and will be removed in a future version, replace with \n",
      "\tSeries.rolling(window=50,min_periods=1,center=False).max()\n",
      "  after removing the cwd from sys.path.\n",
      "c:\\users\\admin\\appdata\\local\\programs\\python\\python36\\lib\\site-packages\\ipykernel_launcher.py:5: FutureWarning: pd.rolling_min is deprecated for Series and will be removed in a future version, replace with \n",
      "\tSeries.rolling(window=50,min_periods=1,center=False).min()\n",
      "  \"\"\"\n"
     ]
    }
   ],
   "source": [
    "df['WILLR30'] = WILLR(df.High, df.Low, df.Close, 30)\n",
    "df['WILLR40'] = WILLR(df.High, df.Low, df.Close, 40)\n",
    "df['WILLR50'] = WILLR(df.High, df.Low, df.Close, 50)"
   ]
  },
  {
   "cell_type": "markdown",
   "metadata": {},
   "source": [
    "# Feature Engineering"
   ]
  },
  {
   "cell_type": "markdown",
   "metadata": {},
   "source": [
    "# 1. Difference between Close and Open"
   ]
  },
  {
   "cell_type": "code",
   "execution_count": 26,
   "metadata": {},
   "outputs": [],
   "source": [
    "#The difference between Close and Open\n",
    "df['difference'] = df['Close'] - df['Open']\n",
    "df['diff_hal'] = df['High'] - df['Low']"
   ]
  },
  {
   "cell_type": "markdown",
   "metadata": {},
   "source": [
    "# 2.Addition of Strandard Deviation"
   ]
  },
  {
   "cell_type": "code",
   "execution_count": 27,
   "metadata": {},
   "outputs": [],
   "source": [
    "#Addition of Strandard Deviation\n",
    "df['st_dev'] = df['Close'].rolling(5).std()"
   ]
  },
  {
   "cell_type": "markdown",
   "metadata": {},
   "source": [
    "# 3. Rate of Changing of Price"
   ]
  },
  {
   "cell_type": "code",
   "execution_count": 28,
   "metadata": {},
   "outputs": [],
   "source": [
    "#Wheather the price is increasing or not\n",
    "df['Price_Rise'] = np.where(df['Close'].shift(-1) > df['Close'], 1, 0)"
   ]
  },
  {
   "cell_type": "markdown",
   "metadata": {},
   "source": [
    "# 4. Removing NULL values"
   ]
  },
  {
   "cell_type": "code",
   "execution_count": 29,
   "metadata": {},
   "outputs": [
    {
     "data": {
      "text/plain": [
       "Date                     0\n",
       "Open                     0\n",
       "High                     0\n",
       "Low                      0\n",
       "Close                    0\n",
       "Adj Close                0\n",
       "Volume                   0\n",
       "sma30                   29\n",
       "sma40                   39\n",
       "sma50                   49\n",
       "ewm30                    0\n",
       "ewm40                    0\n",
       "ewm50                    0\n",
       "RSI                     14\n",
       "bbands30                29\n",
       "bbands40                39\n",
       "bbands50                49\n",
       "STOK                     3\n",
       "STOD                     7\n",
       "CCI30                   29\n",
       "CCI40                   29\n",
       "CCI50                   29\n",
       "Rate_Return30           30\n",
       "Rate_Return40           40\n",
       "Rate_Return50           50\n",
       "Rate_Return_volume30    30\n",
       "Rate_Return_volume40    40\n",
       "Rate_Return_volume50    50\n",
       "WILLR30                  0\n",
       "WILLR40                  0\n",
       "WILLR50                  0\n",
       "difference               0\n",
       "diff_hal                 0\n",
       "st_dev                   4\n",
       "Price_Rise               0\n",
       "dtype: int64"
      ]
     },
     "execution_count": 29,
     "metadata": {},
     "output_type": "execute_result"
    }
   ],
   "source": [
    "df.isnull().sum()"
   ]
  },
  {
   "cell_type": "code",
   "execution_count": 30,
   "metadata": {},
   "outputs": [],
   "source": [
    "df.dropna(inplace = True)"
   ]
  },
  {
   "cell_type": "code",
   "execution_count": 31,
   "metadata": {},
   "outputs": [
    {
     "data": {
      "text/plain": [
       "Date                    0\n",
       "Open                    0\n",
       "High                    0\n",
       "Low                     0\n",
       "Close                   0\n",
       "Adj Close               0\n",
       "Volume                  0\n",
       "sma30                   0\n",
       "sma40                   0\n",
       "sma50                   0\n",
       "ewm30                   0\n",
       "ewm40                   0\n",
       "ewm50                   0\n",
       "RSI                     0\n",
       "bbands30                0\n",
       "bbands40                0\n",
       "bbands50                0\n",
       "STOK                    0\n",
       "STOD                    0\n",
       "CCI30                   0\n",
       "CCI40                   0\n",
       "CCI50                   0\n",
       "Rate_Return30           0\n",
       "Rate_Return40           0\n",
       "Rate_Return50           0\n",
       "Rate_Return_volume30    0\n",
       "Rate_Return_volume40    0\n",
       "Rate_Return_volume50    0\n",
       "WILLR30                 0\n",
       "WILLR40                 0\n",
       "WILLR50                 0\n",
       "difference              0\n",
       "diff_hal                0\n",
       "st_dev                  0\n",
       "Price_Rise              0\n",
       "dtype: int64"
      ]
     },
     "execution_count": 31,
     "metadata": {},
     "output_type": "execute_result"
    }
   ],
   "source": [
    "df.isnull().sum()"
   ]
  },
  {
   "cell_type": "markdown",
   "metadata": {},
   "source": [
    "# Fundamental Analysis"
   ]
  },
  {
   "cell_type": "code",
   "execution_count": 32,
   "metadata": {},
   "outputs": [
    {
     "data": {
      "text/html": [
       "<div>\n",
       "<style>\n",
       "    .dataframe thead tr:only-child th {\n",
       "        text-align: right;\n",
       "    }\n",
       "\n",
       "    .dataframe thead th {\n",
       "        text-align: left;\n",
       "    }\n",
       "\n",
       "    .dataframe tbody tr th {\n",
       "        vertical-align: top;\n",
       "    }\n",
       "</style>\n",
       "<table border=\"1\" class=\"dataframe\">\n",
       "  <thead>\n",
       "    <tr style=\"text-align: right;\">\n",
       "      <th></th>\n",
       "      <th>body_x</th>\n",
       "      <th>score_x</th>\n",
       "      <th>title_x</th>\n",
       "      <th>url_x</th>\n",
       "      <th>date</th>\n",
       "      <th>body_y</th>\n",
       "      <th>score_y</th>\n",
       "      <th>title_y</th>\n",
       "      <th>url_y</th>\n",
       "      <th>body</th>\n",
       "      <th>score</th>\n",
       "      <th>title</th>\n",
       "      <th>url</th>\n",
       "    </tr>\n",
       "  </thead>\n",
       "  <tbody>\n",
       "    <tr>\n",
       "      <th>0</th>\n",
       "      <td>NaN</td>\n",
       "      <td>1614</td>\n",
       "      <td>Apple's Steve Jobs says resigns as CEO</td>\n",
       "      <td>http://www.reuters.com/</td>\n",
       "      <td>2011-08-25</td>\n",
       "      <td>\\r\\n\\r\\nWelcome to the daily Tech Support thre...</td>\n",
       "      <td>1.0</td>\n",
       "      <td>Daily Tech Support Thread [April 15]</td>\n",
       "      <td>https://www.reddit.com/r/apple/comments/8cfqin...</td>\n",
       "      <td>NaN</td>\n",
       "      <td>NaN</td>\n",
       "      <td>NaN</td>\n",
       "      <td>NaN</td>\n",
       "    </tr>\n",
       "  </tbody>\n",
       "</table>\n",
       "</div>"
      ],
      "text/plain": [
       "  body_x  score_x                                 title_x  \\\n",
       "0    NaN     1614  Apple's Steve Jobs says resigns as CEO   \n",
       "\n",
       "                     url_x        date  \\\n",
       "0  http://www.reuters.com/  2011-08-25   \n",
       "\n",
       "                                              body_y  score_y  \\\n",
       "0  \\r\\n\\r\\nWelcome to the daily Tech Support thre...      1.0   \n",
       "\n",
       "                                title_y  \\\n",
       "0  Daily Tech Support Thread [April 15]   \n",
       "\n",
       "                                               url_y body  score title  url  \n",
       "0  https://www.reddit.com/r/apple/comments/8cfqin...  NaN    NaN   NaN  NaN  "
      ]
     },
     "execution_count": 32,
     "metadata": {},
     "output_type": "execute_result"
    }
   ],
   "source": [
    "data.head(1)"
   ]
  },
  {
   "cell_type": "code",
   "execution_count": 33,
   "metadata": {},
   "outputs": [],
   "source": [
    "#renaming the columns for making our job simple \n",
    "data.columns = ['body1', 'score1', 'title1', 'url1', 'date', 'body2', 'score2',\n",
    "       'title2', 'url2', 'body3', 'score3', 'title3', 'url3']"
   ]
  },
  {
   "cell_type": "code",
   "execution_count": 34,
   "metadata": {},
   "outputs": [],
   "source": [
    "#filling the Null values with Unknown\n",
    "data[['body1', 'body2', 'body3']] = data[['body1', 'body2', 'body3']].fillna('Unknown', axis =1)"
   ]
  },
  {
   "cell_type": "code",
   "execution_count": 35,
   "metadata": {},
   "outputs": [],
   "source": [
    "#filling NULL values with unknown\n",
    "data[['title1', 'title2', 'title3']] = data[['title1', 'title2', 'title3']].fillna('Unknown', axis =1)"
   ]
  },
  {
   "cell_type": "code",
   "execution_count": 36,
   "metadata": {},
   "outputs": [],
   "source": [
    "#filling NULL values with unknown\n",
    "data[['url1', 'url2', 'url3']] = data[['url1', 'url2', 'url3']].fillna('Unknown', axis =1)"
   ]
  },
  {
   "cell_type": "markdown",
   "metadata": {},
   "source": [
    "# Text Processing"
   ]
  },
  {
   "cell_type": "code",
   "execution_count": 37,
   "metadata": {},
   "outputs": [],
   "source": [
    "#Creating a list for text analysis\n",
    "cols = ['body1', 'title1', 'url1','body2', 'title2', 'url2','body3', 'title3', 'url3' ]"
   ]
  },
  {
   "cell_type": "code",
   "execution_count": 38,
   "metadata": {},
   "outputs": [],
   "source": [
    "#removing all useless notions from the texr\n",
    "for col in cols:\n",
    "    data[col] = data[col].str.replace('[^a-zA-Z]', ' ')"
   ]
  },
  {
   "cell_type": "code",
   "execution_count": 39,
   "metadata": {},
   "outputs": [],
   "source": [
    "#converting to lower\n",
    "def function(x):\n",
    "    return x.str.lower()\n",
    "\n",
    "data = data.select_dtypes(include=['object']).apply(function)"
   ]
  },
  {
   "cell_type": "code",
   "execution_count": 40,
   "metadata": {},
   "outputs": [],
   "source": [
    "#remvoin words whose length is less than 4\n",
    "for col in cols:\n",
    "    data[col] = data[col].str.findall('\\w{3,}').str.join(' ')"
   ]
  },
  {
   "cell_type": "code",
   "execution_count": 41,
   "metadata": {},
   "outputs": [
    {
     "data": {
      "text/html": [
       "<div>\n",
       "<style>\n",
       "    .dataframe thead tr:only-child th {\n",
       "        text-align: right;\n",
       "    }\n",
       "\n",
       "    .dataframe thead th {\n",
       "        text-align: left;\n",
       "    }\n",
       "\n",
       "    .dataframe tbody tr th {\n",
       "        vertical-align: top;\n",
       "    }\n",
       "</style>\n",
       "<table border=\"1\" class=\"dataframe\">\n",
       "  <thead>\n",
       "    <tr style=\"text-align: right;\">\n",
       "      <th></th>\n",
       "      <th>body1</th>\n",
       "      <th>title1</th>\n",
       "      <th>url1</th>\n",
       "      <th>date</th>\n",
       "      <th>body2</th>\n",
       "      <th>title2</th>\n",
       "      <th>url2</th>\n",
       "      <th>body3</th>\n",
       "      <th>title3</th>\n",
       "      <th>url3</th>\n",
       "    </tr>\n",
       "  </thead>\n",
       "  <tbody>\n",
       "    <tr>\n",
       "      <th>750</th>\n",
       "      <td>unknown</td>\n",
       "      <td>airpods have the highest customer satisfaction...</td>\n",
       "      <td>https daringfireball net linked airpod survey</td>\n",
       "      <td>2017-05-02</td>\n",
       "      <td>iphone was stolen the weeks ago while was holi...</td>\n",
       "      <td>question about find iphone app</td>\n",
       "      <td>https www reddit com apple comments dnk questi...</td>\n",
       "      <td>iphone was stolen the weeks ago while was holi...</td>\n",
       "      <td>question about find iphone app</td>\n",
       "      <td>https www reddit com apple comments dnk questi...</td>\n",
       "    </tr>\n",
       "  </tbody>\n",
       "</table>\n",
       "</div>"
      ],
      "text/plain": [
       "       body1                                             title1  \\\n",
       "750  unknown  airpods have the highest customer satisfaction...   \n",
       "\n",
       "                                              url1        date  \\\n",
       "750  https daringfireball net linked airpod survey  2017-05-02   \n",
       "\n",
       "                                                 body2  \\\n",
       "750  iphone was stolen the weeks ago while was holi...   \n",
       "\n",
       "                             title2  \\\n",
       "750  question about find iphone app   \n",
       "\n",
       "                                                  url2  \\\n",
       "750  https www reddit com apple comments dnk questi...   \n",
       "\n",
       "                                                 body3  \\\n",
       "750  iphone was stolen the weeks ago while was holi...   \n",
       "\n",
       "                             title3  \\\n",
       "750  question about find iphone app   \n",
       "\n",
       "                                                  url3  \n",
       "750  https www reddit com apple comments dnk questi...  "
      ]
     },
     "execution_count": 41,
     "metadata": {},
     "output_type": "execute_result"
    }
   ],
   "source": [
    "data.sample()"
   ]
  },
  {
   "cell_type": "code",
   "execution_count": 42,
   "metadata": {},
   "outputs": [],
   "source": [
    "#tokenizing using NLTK\n",
    "import nltk\n",
    "for col in cols:\n",
    "    data[col] = data.apply(lambda row: nltk.word_tokenize(row[col]), axis=1)\n"
   ]
  },
  {
   "cell_type": "code",
   "execution_count": 43,
   "metadata": {},
   "outputs": [],
   "source": [
    "#stemming\n",
    "from nltk.stem.snowball import SnowballStemmer\n",
    "stemmer = SnowballStemmer(\"english\")\n",
    "\n",
    "for col in cols:\n",
    "    data[col] = data[col].apply(lambda x: [stemmer.stem(y) for y in x])\n"
   ]
  },
  {
   "cell_type": "code",
   "execution_count": 44,
   "metadata": {},
   "outputs": [],
   "source": [
    "from nltk.corpus import stopwords\n",
    "stop = stopwords.words('english')\n",
    "\n",
    "for col in cols:\n",
    "    data[col] = data[col].apply(lambda x: ' '.join([word for word in x if word not in (stop)]))"
   ]
  },
  {
   "cell_type": "markdown",
   "metadata": {},
   "source": [
    "# 2.2 Feature Engineering"
   ]
  },
  {
   "cell_type": "code",
   "execution_count": 45,
   "metadata": {},
   "outputs": [],
   "source": [
    "#One hot Encoding using Keras\n",
    "# integer encode the documents\n",
    "\n",
    "\n",
    "from numpy import array\n",
    "from keras.preprocessing.text import one_hot\n",
    "from keras.preprocessing.sequence import pad_sequences\n",
    "from keras.models import Sequential\n",
    "from keras.layers import Dense\n",
    "from keras.layers import Flatten\n",
    "from keras.layers.embeddings import Embedding\n",
    "\n",
    "\n",
    "vocab_size = 60\n",
    "\n",
    "for col in cols:\n",
    "    data[col] = [one_hot(d, vocab_size) for d in data[col]]\n"
   ]
  },
  {
   "cell_type": "code",
   "execution_count": 46,
   "metadata": {},
   "outputs": [],
   "source": [
    "#Padding the the sequences for the same length using pad_sequence\n",
    "from keras.preprocessing import sequence\n",
    "\n",
    "maxlen = 1 #max of 60 sequences it can hold\n",
    "\n",
    "for col in cols:\n",
    "    data[col] = sequence.pad_sequences(data[col], maxlen=maxlen)"
   ]
  },
  {
   "cell_type": "markdown",
   "metadata": {},
   "source": [
    "# Merging of two DataSets"
   ]
  },
  {
   "cell_type": "code",
   "execution_count": 47,
   "metadata": {},
   "outputs": [
    {
     "data": {
      "text/html": [
       "<div>\n",
       "<style>\n",
       "    .dataframe thead tr:only-child th {\n",
       "        text-align: right;\n",
       "    }\n",
       "\n",
       "    .dataframe thead th {\n",
       "        text-align: left;\n",
       "    }\n",
       "\n",
       "    .dataframe tbody tr th {\n",
       "        vertical-align: top;\n",
       "    }\n",
       "</style>\n",
       "<table border=\"1\" class=\"dataframe\">\n",
       "  <thead>\n",
       "    <tr style=\"text-align: right;\">\n",
       "      <th></th>\n",
       "      <th>Date</th>\n",
       "      <th>Open</th>\n",
       "      <th>High</th>\n",
       "      <th>Low</th>\n",
       "      <th>Close</th>\n",
       "      <th>Adj Close</th>\n",
       "      <th>Volume</th>\n",
       "      <th>sma30</th>\n",
       "      <th>sma40</th>\n",
       "      <th>sma50</th>\n",
       "      <th>...</th>\n",
       "      <th>Rate_Return_volume30</th>\n",
       "      <th>Rate_Return_volume40</th>\n",
       "      <th>Rate_Return_volume50</th>\n",
       "      <th>WILLR30</th>\n",
       "      <th>WILLR40</th>\n",
       "      <th>WILLR50</th>\n",
       "      <th>difference</th>\n",
       "      <th>diff_hal</th>\n",
       "      <th>st_dev</th>\n",
       "      <th>Price_Rise</th>\n",
       "    </tr>\n",
       "  </thead>\n",
       "  <tbody>\n",
       "    <tr>\n",
       "      <th>214</th>\n",
       "      <td>2011-11-04</td>\n",
       "      <td>57</td>\n",
       "      <td>57</td>\n",
       "      <td>57</td>\n",
       "      <td>57</td>\n",
       "      <td>38</td>\n",
       "      <td>75557300</td>\n",
       "      <td>56.166667</td>\n",
       "      <td>56.250</td>\n",
       "      <td>55.80</td>\n",
       "      <td>...</td>\n",
       "      <td>-0.446748</td>\n",
       "      <td>-0.464904</td>\n",
       "      <td>-0.653147</td>\n",
       "      <td>30.0</td>\n",
       "      <td>30.0</td>\n",
       "      <td>30.0</td>\n",
       "      <td>0</td>\n",
       "      <td>0</td>\n",
       "      <td>0.547723</td>\n",
       "      <td>0</td>\n",
       "    </tr>\n",
       "    <tr>\n",
       "      <th>215</th>\n",
       "      <td>2011-11-07</td>\n",
       "      <td>57</td>\n",
       "      <td>57</td>\n",
       "      <td>56</td>\n",
       "      <td>57</td>\n",
       "      <td>38</td>\n",
       "      <td>67568900</td>\n",
       "      <td>56.166667</td>\n",
       "      <td>56.325</td>\n",
       "      <td>55.86</td>\n",
       "      <td>...</td>\n",
       "      <td>-0.667507</td>\n",
       "      <td>-0.422281</td>\n",
       "      <td>-0.578667</td>\n",
       "      <td>30.0</td>\n",
       "      <td>30.0</td>\n",
       "      <td>30.0</td>\n",
       "      <td>0</td>\n",
       "      <td>1</td>\n",
       "      <td>0.547723</td>\n",
       "      <td>1</td>\n",
       "    </tr>\n",
       "    <tr>\n",
       "      <th>216</th>\n",
       "      <td>2011-11-08</td>\n",
       "      <td>57</td>\n",
       "      <td>58</td>\n",
       "      <td>57</td>\n",
       "      <td>58</td>\n",
       "      <td>39</td>\n",
       "      <td>100110500</td>\n",
       "      <td>56.200000</td>\n",
       "      <td>56.425</td>\n",
       "      <td>55.92</td>\n",
       "      <td>...</td>\n",
       "      <td>-0.366888</td>\n",
       "      <td>-0.091062</td>\n",
       "      <td>-0.011911</td>\n",
       "      <td>20.0</td>\n",
       "      <td>20.0</td>\n",
       "      <td>20.0</td>\n",
       "      <td>1</td>\n",
       "      <td>1</td>\n",
       "      <td>0.707107</td>\n",
       "      <td>0</td>\n",
       "    </tr>\n",
       "    <tr>\n",
       "      <th>217</th>\n",
       "      <td>2011-11-09</td>\n",
       "      <td>56</td>\n",
       "      <td>57</td>\n",
       "      <td>56</td>\n",
       "      <td>56</td>\n",
       "      <td>38</td>\n",
       "      <td>139671000</td>\n",
       "      <td>56.200000</td>\n",
       "      <td>56.450</td>\n",
       "      <td>55.94</td>\n",
       "      <td>...</td>\n",
       "      <td>0.300361</td>\n",
       "      <td>0.044807</td>\n",
       "      <td>0.336813</td>\n",
       "      <td>40.0</td>\n",
       "      <td>40.0</td>\n",
       "      <td>40.0</td>\n",
       "      <td>0</td>\n",
       "      <td>1</td>\n",
       "      <td>0.707107</td>\n",
       "      <td>0</td>\n",
       "    </tr>\n",
       "    <tr>\n",
       "      <th>218</th>\n",
       "      <td>2011-11-10</td>\n",
       "      <td>56</td>\n",
       "      <td>56</td>\n",
       "      <td>54</td>\n",
       "      <td>55</td>\n",
       "      <td>37</td>\n",
       "      <td>186188100</td>\n",
       "      <td>56.200000</td>\n",
       "      <td>56.425</td>\n",
       "      <td>55.96</td>\n",
       "      <td>...</td>\n",
       "      <td>0.143860</td>\n",
       "      <td>0.782477</td>\n",
       "      <td>0.425128</td>\n",
       "      <td>50.0</td>\n",
       "      <td>50.0</td>\n",
       "      <td>50.0</td>\n",
       "      <td>-1</td>\n",
       "      <td>2</td>\n",
       "      <td>1.140175</td>\n",
       "      <td>0</td>\n",
       "    </tr>\n",
       "  </tbody>\n",
       "</table>\n",
       "<p>5 rows × 35 columns</p>\n",
       "</div>"
      ],
      "text/plain": [
       "          Date  Open  High  Low  Close  Adj Close     Volume      sma30  \\\n",
       "214 2011-11-04    57    57   57     57         38   75557300  56.166667   \n",
       "215 2011-11-07    57    57   56     57         38   67568900  56.166667   \n",
       "216 2011-11-08    57    58   57     58         39  100110500  56.200000   \n",
       "217 2011-11-09    56    57   56     56         38  139671000  56.200000   \n",
       "218 2011-11-10    56    56   54     55         37  186188100  56.200000   \n",
       "\n",
       "      sma40  sma50     ...      Rate_Return_volume30  Rate_Return_volume40  \\\n",
       "214  56.250  55.80     ...                 -0.446748             -0.464904   \n",
       "215  56.325  55.86     ...                 -0.667507             -0.422281   \n",
       "216  56.425  55.92     ...                 -0.366888             -0.091062   \n",
       "217  56.450  55.94     ...                  0.300361              0.044807   \n",
       "218  56.425  55.96     ...                  0.143860              0.782477   \n",
       "\n",
       "     Rate_Return_volume50  WILLR30  WILLR40  WILLR50  difference  diff_hal  \\\n",
       "214             -0.653147     30.0     30.0     30.0           0         0   \n",
       "215             -0.578667     30.0     30.0     30.0           0         1   \n",
       "216             -0.011911     20.0     20.0     20.0           1         1   \n",
       "217              0.336813     40.0     40.0     40.0           0         1   \n",
       "218              0.425128     50.0     50.0     50.0          -1         2   \n",
       "\n",
       "       st_dev  Price_Rise  \n",
       "214  0.547723           0  \n",
       "215  0.547723           1  \n",
       "216  0.707107           0  \n",
       "217  0.707107           0  \n",
       "218  1.140175           0  \n",
       "\n",
       "[5 rows x 35 columns]"
      ]
     },
     "execution_count": 47,
     "metadata": {},
     "output_type": "execute_result"
    }
   ],
   "source": [
    "df.head()"
   ]
  },
  {
   "cell_type": "code",
   "execution_count": 48,
   "metadata": {},
   "outputs": [
    {
     "data": {
      "text/html": [
       "<div>\n",
       "<style>\n",
       "    .dataframe thead tr:only-child th {\n",
       "        text-align: right;\n",
       "    }\n",
       "\n",
       "    .dataframe thead th {\n",
       "        text-align: left;\n",
       "    }\n",
       "\n",
       "    .dataframe tbody tr th {\n",
       "        vertical-align: top;\n",
       "    }\n",
       "</style>\n",
       "<table border=\"1\" class=\"dataframe\">\n",
       "  <thead>\n",
       "    <tr style=\"text-align: right;\">\n",
       "      <th></th>\n",
       "      <th>body1</th>\n",
       "      <th>title1</th>\n",
       "      <th>url1</th>\n",
       "      <th>date</th>\n",
       "      <th>body2</th>\n",
       "      <th>title2</th>\n",
       "      <th>url2</th>\n",
       "      <th>body3</th>\n",
       "      <th>title3</th>\n",
       "      <th>url3</th>\n",
       "    </tr>\n",
       "  </thead>\n",
       "  <tbody>\n",
       "    <tr>\n",
       "      <th>0</th>\n",
       "      <td>56</td>\n",
       "      <td>52</td>\n",
       "      <td>37</td>\n",
       "      <td>2011-08-25</td>\n",
       "      <td>47</td>\n",
       "      <td>31</td>\n",
       "      <td>31</td>\n",
       "      <td>56</td>\n",
       "      <td>56</td>\n",
       "      <td>56</td>\n",
       "    </tr>\n",
       "    <tr>\n",
       "      <th>1</th>\n",
       "      <td>56</td>\n",
       "      <td>24</td>\n",
       "      <td>53</td>\n",
       "      <td>2011-10-06</td>\n",
       "      <td>44</td>\n",
       "      <td>32</td>\n",
       "      <td>32</td>\n",
       "      <td>56</td>\n",
       "      <td>3</td>\n",
       "      <td>17</td>\n",
       "    </tr>\n",
       "    <tr>\n",
       "      <th>2</th>\n",
       "      <td>56</td>\n",
       "      <td>19</td>\n",
       "      <td>58</td>\n",
       "      <td>2011-11-13</td>\n",
       "      <td>56</td>\n",
       "      <td>21</td>\n",
       "      <td>8</td>\n",
       "      <td>56</td>\n",
       "      <td>56</td>\n",
       "      <td>56</td>\n",
       "    </tr>\n",
       "    <tr>\n",
       "      <th>3</th>\n",
       "      <td>56</td>\n",
       "      <td>3</td>\n",
       "      <td>45</td>\n",
       "      <td>2012-01-29</td>\n",
       "      <td>35</td>\n",
       "      <td>13</td>\n",
       "      <td>13</td>\n",
       "      <td>56</td>\n",
       "      <td>56</td>\n",
       "      <td>56</td>\n",
       "    </tr>\n",
       "    <tr>\n",
       "      <th>4</th>\n",
       "      <td>56</td>\n",
       "      <td>28</td>\n",
       "      <td>45</td>\n",
       "      <td>2012-03-27</td>\n",
       "      <td>31</td>\n",
       "      <td>8</td>\n",
       "      <td>7</td>\n",
       "      <td>56</td>\n",
       "      <td>56</td>\n",
       "      <td>56</td>\n",
       "    </tr>\n",
       "  </tbody>\n",
       "</table>\n",
       "</div>"
      ],
      "text/plain": [
       "   body1  title1  url1        date  body2  title2  url2  body3  title3  url3\n",
       "0     56      52    37  2011-08-25     47      31    31     56      56    56\n",
       "1     56      24    53  2011-10-06     44      32    32     56       3    17\n",
       "2     56      19    58  2011-11-13     56      21     8     56      56    56\n",
       "3     56       3    45  2012-01-29     35      13    13     56      56    56\n",
       "4     56      28    45  2012-03-27     31       8     7     56      56    56"
      ]
     },
     "execution_count": 48,
     "metadata": {},
     "output_type": "execute_result"
    }
   ],
   "source": [
    "data.head()"
   ]
  },
  {
   "cell_type": "code",
   "execution_count": 49,
   "metadata": {},
   "outputs": [
    {
     "data": {
      "text/plain": [
       "Index(['body1', 'title1', 'url1', 'date', 'body2', 'title2', 'url2', 'body3',\n",
       "       'title3', 'url3'],\n",
       "      dtype='object')"
      ]
     },
     "execution_count": 49,
     "metadata": {},
     "output_type": "execute_result"
    }
   ],
   "source": [
    "data.columns"
   ]
  },
  {
   "cell_type": "code",
   "execution_count": 50,
   "metadata": {},
   "outputs": [],
   "source": [
    "data.columns = ['body1', 'title1', 'url1', 'Date', 'body2', 'title2', 'url2', 'body3',\n",
    "       'title3', 'url3']"
   ]
  },
  {
   "cell_type": "code",
   "execution_count": 51,
   "metadata": {},
   "outputs": [
    {
     "data": {
      "text/plain": [
       "(1545, 35)"
      ]
     },
     "execution_count": 51,
     "metadata": {},
     "output_type": "execute_result"
    }
   ],
   "source": [
    "df.shape"
   ]
  },
  {
   "cell_type": "code",
   "execution_count": 52,
   "metadata": {},
   "outputs": [
    {
     "data": {
      "text/plain": [
       "body1     0\n",
       "title1    0\n",
       "url1      0\n",
       "Date      0\n",
       "body2     0\n",
       "title2    0\n",
       "url2      0\n",
       "body3     0\n",
       "title3    0\n",
       "url3      0\n",
       "dtype: int64"
      ]
     },
     "execution_count": 52,
     "metadata": {},
     "output_type": "execute_result"
    }
   ],
   "source": [
    "data.isnull().sum()"
   ]
  },
  {
   "cell_type": "code",
   "execution_count": 53,
   "metadata": {},
   "outputs": [
    {
     "data": {
      "text/html": [
       "<div>\n",
       "<style>\n",
       "    .dataframe thead tr:only-child th {\n",
       "        text-align: right;\n",
       "    }\n",
       "\n",
       "    .dataframe thead th {\n",
       "        text-align: left;\n",
       "    }\n",
       "\n",
       "    .dataframe tbody tr th {\n",
       "        vertical-align: top;\n",
       "    }\n",
       "</style>\n",
       "<table border=\"1\" class=\"dataframe\">\n",
       "  <thead>\n",
       "    <tr style=\"text-align: right;\">\n",
       "      <th></th>\n",
       "      <th>body1</th>\n",
       "      <th>title1</th>\n",
       "      <th>url1</th>\n",
       "      <th>Date</th>\n",
       "      <th>body2</th>\n",
       "      <th>title2</th>\n",
       "      <th>url2</th>\n",
       "      <th>body3</th>\n",
       "      <th>title3</th>\n",
       "      <th>url3</th>\n",
       "    </tr>\n",
       "  </thead>\n",
       "  <tbody>\n",
       "    <tr>\n",
       "      <th>0</th>\n",
       "      <td>56</td>\n",
       "      <td>52</td>\n",
       "      <td>37</td>\n",
       "      <td>2011-08-25</td>\n",
       "      <td>47</td>\n",
       "      <td>31</td>\n",
       "      <td>31</td>\n",
       "      <td>56</td>\n",
       "      <td>56</td>\n",
       "      <td>56</td>\n",
       "    </tr>\n",
       "    <tr>\n",
       "      <th>1</th>\n",
       "      <td>56</td>\n",
       "      <td>24</td>\n",
       "      <td>53</td>\n",
       "      <td>2011-10-06</td>\n",
       "      <td>44</td>\n",
       "      <td>32</td>\n",
       "      <td>32</td>\n",
       "      <td>56</td>\n",
       "      <td>3</td>\n",
       "      <td>17</td>\n",
       "    </tr>\n",
       "    <tr>\n",
       "      <th>2</th>\n",
       "      <td>56</td>\n",
       "      <td>19</td>\n",
       "      <td>58</td>\n",
       "      <td>2011-11-13</td>\n",
       "      <td>56</td>\n",
       "      <td>21</td>\n",
       "      <td>8</td>\n",
       "      <td>56</td>\n",
       "      <td>56</td>\n",
       "      <td>56</td>\n",
       "    </tr>\n",
       "    <tr>\n",
       "      <th>3</th>\n",
       "      <td>56</td>\n",
       "      <td>3</td>\n",
       "      <td>45</td>\n",
       "      <td>2012-01-29</td>\n",
       "      <td>35</td>\n",
       "      <td>13</td>\n",
       "      <td>13</td>\n",
       "      <td>56</td>\n",
       "      <td>56</td>\n",
       "      <td>56</td>\n",
       "    </tr>\n",
       "    <tr>\n",
       "      <th>4</th>\n",
       "      <td>56</td>\n",
       "      <td>28</td>\n",
       "      <td>45</td>\n",
       "      <td>2012-03-27</td>\n",
       "      <td>31</td>\n",
       "      <td>8</td>\n",
       "      <td>7</td>\n",
       "      <td>56</td>\n",
       "      <td>56</td>\n",
       "      <td>56</td>\n",
       "    </tr>\n",
       "  </tbody>\n",
       "</table>\n",
       "</div>"
      ],
      "text/plain": [
       "   body1  title1  url1        Date  body2  title2  url2  body3  title3  url3\n",
       "0     56      52    37  2011-08-25     47      31    31     56      56    56\n",
       "1     56      24    53  2011-10-06     44      32    32     56       3    17\n",
       "2     56      19    58  2011-11-13     56      21     8     56      56    56\n",
       "3     56       3    45  2012-01-29     35      13    13     56      56    56\n",
       "4     56      28    45  2012-03-27     31       8     7     56      56    56"
      ]
     },
     "execution_count": 53,
     "metadata": {},
     "output_type": "execute_result"
    }
   ],
   "source": [
    "data.head()"
   ]
  },
  {
   "cell_type": "code",
   "execution_count": 54,
   "metadata": {},
   "outputs": [
    {
     "data": {
      "text/html": [
       "<div>\n",
       "<style>\n",
       "    .dataframe thead tr:only-child th {\n",
       "        text-align: right;\n",
       "    }\n",
       "\n",
       "    .dataframe thead th {\n",
       "        text-align: left;\n",
       "    }\n",
       "\n",
       "    .dataframe tbody tr th {\n",
       "        vertical-align: top;\n",
       "    }\n",
       "</style>\n",
       "<table border=\"1\" class=\"dataframe\">\n",
       "  <thead>\n",
       "    <tr style=\"text-align: right;\">\n",
       "      <th></th>\n",
       "      <th>Date</th>\n",
       "      <th>Open</th>\n",
       "      <th>High</th>\n",
       "      <th>Low</th>\n",
       "      <th>Close</th>\n",
       "      <th>Adj Close</th>\n",
       "      <th>Volume</th>\n",
       "      <th>sma30</th>\n",
       "      <th>sma40</th>\n",
       "      <th>sma50</th>\n",
       "      <th>...</th>\n",
       "      <th>Rate_Return_volume30</th>\n",
       "      <th>Rate_Return_volume40</th>\n",
       "      <th>Rate_Return_volume50</th>\n",
       "      <th>WILLR30</th>\n",
       "      <th>WILLR40</th>\n",
       "      <th>WILLR50</th>\n",
       "      <th>difference</th>\n",
       "      <th>diff_hal</th>\n",
       "      <th>st_dev</th>\n",
       "      <th>Price_Rise</th>\n",
       "    </tr>\n",
       "  </thead>\n",
       "  <tbody>\n",
       "    <tr>\n",
       "      <th>214</th>\n",
       "      <td>2011-11-04</td>\n",
       "      <td>57</td>\n",
       "      <td>57</td>\n",
       "      <td>57</td>\n",
       "      <td>57</td>\n",
       "      <td>38</td>\n",
       "      <td>75557300</td>\n",
       "      <td>56.166667</td>\n",
       "      <td>56.250</td>\n",
       "      <td>55.80</td>\n",
       "      <td>...</td>\n",
       "      <td>-0.446748</td>\n",
       "      <td>-0.464904</td>\n",
       "      <td>-0.653147</td>\n",
       "      <td>30.0</td>\n",
       "      <td>30.0</td>\n",
       "      <td>30.0</td>\n",
       "      <td>0</td>\n",
       "      <td>0</td>\n",
       "      <td>0.547723</td>\n",
       "      <td>0</td>\n",
       "    </tr>\n",
       "    <tr>\n",
       "      <th>215</th>\n",
       "      <td>2011-11-07</td>\n",
       "      <td>57</td>\n",
       "      <td>57</td>\n",
       "      <td>56</td>\n",
       "      <td>57</td>\n",
       "      <td>38</td>\n",
       "      <td>67568900</td>\n",
       "      <td>56.166667</td>\n",
       "      <td>56.325</td>\n",
       "      <td>55.86</td>\n",
       "      <td>...</td>\n",
       "      <td>-0.667507</td>\n",
       "      <td>-0.422281</td>\n",
       "      <td>-0.578667</td>\n",
       "      <td>30.0</td>\n",
       "      <td>30.0</td>\n",
       "      <td>30.0</td>\n",
       "      <td>0</td>\n",
       "      <td>1</td>\n",
       "      <td>0.547723</td>\n",
       "      <td>1</td>\n",
       "    </tr>\n",
       "    <tr>\n",
       "      <th>216</th>\n",
       "      <td>2011-11-08</td>\n",
       "      <td>57</td>\n",
       "      <td>58</td>\n",
       "      <td>57</td>\n",
       "      <td>58</td>\n",
       "      <td>39</td>\n",
       "      <td>100110500</td>\n",
       "      <td>56.200000</td>\n",
       "      <td>56.425</td>\n",
       "      <td>55.92</td>\n",
       "      <td>...</td>\n",
       "      <td>-0.366888</td>\n",
       "      <td>-0.091062</td>\n",
       "      <td>-0.011911</td>\n",
       "      <td>20.0</td>\n",
       "      <td>20.0</td>\n",
       "      <td>20.0</td>\n",
       "      <td>1</td>\n",
       "      <td>1</td>\n",
       "      <td>0.707107</td>\n",
       "      <td>0</td>\n",
       "    </tr>\n",
       "    <tr>\n",
       "      <th>217</th>\n",
       "      <td>2011-11-09</td>\n",
       "      <td>56</td>\n",
       "      <td>57</td>\n",
       "      <td>56</td>\n",
       "      <td>56</td>\n",
       "      <td>38</td>\n",
       "      <td>139671000</td>\n",
       "      <td>56.200000</td>\n",
       "      <td>56.450</td>\n",
       "      <td>55.94</td>\n",
       "      <td>...</td>\n",
       "      <td>0.300361</td>\n",
       "      <td>0.044807</td>\n",
       "      <td>0.336813</td>\n",
       "      <td>40.0</td>\n",
       "      <td>40.0</td>\n",
       "      <td>40.0</td>\n",
       "      <td>0</td>\n",
       "      <td>1</td>\n",
       "      <td>0.707107</td>\n",
       "      <td>0</td>\n",
       "    </tr>\n",
       "    <tr>\n",
       "      <th>218</th>\n",
       "      <td>2011-11-10</td>\n",
       "      <td>56</td>\n",
       "      <td>56</td>\n",
       "      <td>54</td>\n",
       "      <td>55</td>\n",
       "      <td>37</td>\n",
       "      <td>186188100</td>\n",
       "      <td>56.200000</td>\n",
       "      <td>56.425</td>\n",
       "      <td>55.96</td>\n",
       "      <td>...</td>\n",
       "      <td>0.143860</td>\n",
       "      <td>0.782477</td>\n",
       "      <td>0.425128</td>\n",
       "      <td>50.0</td>\n",
       "      <td>50.0</td>\n",
       "      <td>50.0</td>\n",
       "      <td>-1</td>\n",
       "      <td>2</td>\n",
       "      <td>1.140175</td>\n",
       "      <td>0</td>\n",
       "    </tr>\n",
       "  </tbody>\n",
       "</table>\n",
       "<p>5 rows × 35 columns</p>\n",
       "</div>"
      ],
      "text/plain": [
       "          Date  Open  High  Low  Close  Adj Close     Volume      sma30  \\\n",
       "214 2011-11-04    57    57   57     57         38   75557300  56.166667   \n",
       "215 2011-11-07    57    57   56     57         38   67568900  56.166667   \n",
       "216 2011-11-08    57    58   57     58         39  100110500  56.200000   \n",
       "217 2011-11-09    56    57   56     56         38  139671000  56.200000   \n",
       "218 2011-11-10    56    56   54     55         37  186188100  56.200000   \n",
       "\n",
       "      sma40  sma50     ...      Rate_Return_volume30  Rate_Return_volume40  \\\n",
       "214  56.250  55.80     ...                 -0.446748             -0.464904   \n",
       "215  56.325  55.86     ...                 -0.667507             -0.422281   \n",
       "216  56.425  55.92     ...                 -0.366888             -0.091062   \n",
       "217  56.450  55.94     ...                  0.300361              0.044807   \n",
       "218  56.425  55.96     ...                  0.143860              0.782477   \n",
       "\n",
       "     Rate_Return_volume50  WILLR30  WILLR40  WILLR50  difference  diff_hal  \\\n",
       "214             -0.653147     30.0     30.0     30.0           0         0   \n",
       "215             -0.578667     30.0     30.0     30.0           0         1   \n",
       "216             -0.011911     20.0     20.0     20.0           1         1   \n",
       "217              0.336813     40.0     40.0     40.0           0         1   \n",
       "218              0.425128     50.0     50.0     50.0          -1         2   \n",
       "\n",
       "       st_dev  Price_Rise  \n",
       "214  0.547723           0  \n",
       "215  0.547723           1  \n",
       "216  0.707107           0  \n",
       "217  0.707107           0  \n",
       "218  1.140175           0  \n",
       "\n",
       "[5 rows x 35 columns]"
      ]
     },
     "execution_count": 54,
     "metadata": {},
     "output_type": "execute_result"
    }
   ],
   "source": [
    "df.head()"
   ]
  },
  {
   "cell_type": "code",
   "execution_count": 55,
   "metadata": {},
   "outputs": [],
   "source": [
    "data['Date'] = pd.to_datetime(data['Date'])"
   ]
  },
  {
   "cell_type": "code",
   "execution_count": 56,
   "metadata": {},
   "outputs": [],
   "source": [
    "#data has many duplicate values\n",
    "#dropping duplicate calues\n",
    "\n",
    "data2 = data.drop_duplicates('Date')"
   ]
  },
  {
   "cell_type": "code",
   "execution_count": 57,
   "metadata": {},
   "outputs": [
    {
     "data": {
      "text/plain": [
       "(2338, 10)"
      ]
     },
     "execution_count": 57,
     "metadata": {},
     "output_type": "execute_result"
    }
   ],
   "source": [
    "data.shape"
   ]
  },
  {
   "cell_type": "code",
   "execution_count": 58,
   "metadata": {},
   "outputs": [
    {
     "data": {
      "text/plain": [
       "(771, 10)"
      ]
     },
     "execution_count": 58,
     "metadata": {},
     "output_type": "execute_result"
    }
   ],
   "source": [
    "data2.shape"
   ]
  },
  {
   "cell_type": "code",
   "execution_count": 59,
   "metadata": {},
   "outputs": [
    {
     "data": {
      "text/plain": [
       "(1545, 35)"
      ]
     },
     "execution_count": 59,
     "metadata": {},
     "output_type": "execute_result"
    }
   ],
   "source": [
    "df.shape"
   ]
  },
  {
   "cell_type": "code",
   "execution_count": 60,
   "metadata": {},
   "outputs": [],
   "source": [
    "final = pd.merge(df, data, on = 'Date', how = 'left')"
   ]
  },
  {
   "cell_type": "code",
   "execution_count": 61,
   "metadata": {},
   "outputs": [
    {
     "data": {
      "text/plain": [
       "(2582, 44)"
      ]
     },
     "execution_count": 61,
     "metadata": {},
     "output_type": "execute_result"
    }
   ],
   "source": [
    "final.shape"
   ]
  },
  {
   "cell_type": "code",
   "execution_count": 62,
   "metadata": {},
   "outputs": [
    {
     "data": {
      "text/html": [
       "<div>\n",
       "<style>\n",
       "    .dataframe thead tr:only-child th {\n",
       "        text-align: right;\n",
       "    }\n",
       "\n",
       "    .dataframe thead th {\n",
       "        text-align: left;\n",
       "    }\n",
       "\n",
       "    .dataframe tbody tr th {\n",
       "        vertical-align: top;\n",
       "    }\n",
       "</style>\n",
       "<table border=\"1\" class=\"dataframe\">\n",
       "  <thead>\n",
       "    <tr style=\"text-align: right;\">\n",
       "      <th></th>\n",
       "      <th>Date</th>\n",
       "      <th>Open</th>\n",
       "      <th>High</th>\n",
       "      <th>Low</th>\n",
       "      <th>Close</th>\n",
       "      <th>Adj Close</th>\n",
       "      <th>Volume</th>\n",
       "      <th>sma30</th>\n",
       "      <th>sma40</th>\n",
       "      <th>sma50</th>\n",
       "      <th>...</th>\n",
       "      <th>Price_Rise</th>\n",
       "      <th>body1</th>\n",
       "      <th>title1</th>\n",
       "      <th>url1</th>\n",
       "      <th>body2</th>\n",
       "      <th>title2</th>\n",
       "      <th>url2</th>\n",
       "      <th>body3</th>\n",
       "      <th>title3</th>\n",
       "      <th>url3</th>\n",
       "    </tr>\n",
       "  </thead>\n",
       "  <tbody>\n",
       "    <tr>\n",
       "      <th>0</th>\n",
       "      <td>2011-11-04</td>\n",
       "      <td>57</td>\n",
       "      <td>57</td>\n",
       "      <td>57</td>\n",
       "      <td>57</td>\n",
       "      <td>38</td>\n",
       "      <td>75557300</td>\n",
       "      <td>56.166667</td>\n",
       "      <td>56.250</td>\n",
       "      <td>55.80</td>\n",
       "      <td>...</td>\n",
       "      <td>0</td>\n",
       "      <td>NaN</td>\n",
       "      <td>NaN</td>\n",
       "      <td>NaN</td>\n",
       "      <td>NaN</td>\n",
       "      <td>NaN</td>\n",
       "      <td>NaN</td>\n",
       "      <td>NaN</td>\n",
       "      <td>NaN</td>\n",
       "      <td>NaN</td>\n",
       "    </tr>\n",
       "    <tr>\n",
       "      <th>1</th>\n",
       "      <td>2011-11-07</td>\n",
       "      <td>57</td>\n",
       "      <td>57</td>\n",
       "      <td>56</td>\n",
       "      <td>57</td>\n",
       "      <td>38</td>\n",
       "      <td>67568900</td>\n",
       "      <td>56.166667</td>\n",
       "      <td>56.325</td>\n",
       "      <td>55.86</td>\n",
       "      <td>...</td>\n",
       "      <td>1</td>\n",
       "      <td>NaN</td>\n",
       "      <td>NaN</td>\n",
       "      <td>NaN</td>\n",
       "      <td>NaN</td>\n",
       "      <td>NaN</td>\n",
       "      <td>NaN</td>\n",
       "      <td>NaN</td>\n",
       "      <td>NaN</td>\n",
       "      <td>NaN</td>\n",
       "    </tr>\n",
       "    <tr>\n",
       "      <th>2</th>\n",
       "      <td>2011-11-08</td>\n",
       "      <td>57</td>\n",
       "      <td>58</td>\n",
       "      <td>57</td>\n",
       "      <td>58</td>\n",
       "      <td>39</td>\n",
       "      <td>100110500</td>\n",
       "      <td>56.200000</td>\n",
       "      <td>56.425</td>\n",
       "      <td>55.92</td>\n",
       "      <td>...</td>\n",
       "      <td>0</td>\n",
       "      <td>NaN</td>\n",
       "      <td>NaN</td>\n",
       "      <td>NaN</td>\n",
       "      <td>NaN</td>\n",
       "      <td>NaN</td>\n",
       "      <td>NaN</td>\n",
       "      <td>NaN</td>\n",
       "      <td>NaN</td>\n",
       "      <td>NaN</td>\n",
       "    </tr>\n",
       "    <tr>\n",
       "      <th>3</th>\n",
       "      <td>2011-11-09</td>\n",
       "      <td>56</td>\n",
       "      <td>57</td>\n",
       "      <td>56</td>\n",
       "      <td>56</td>\n",
       "      <td>38</td>\n",
       "      <td>139671000</td>\n",
       "      <td>56.200000</td>\n",
       "      <td>56.450</td>\n",
       "      <td>55.94</td>\n",
       "      <td>...</td>\n",
       "      <td>0</td>\n",
       "      <td>NaN</td>\n",
       "      <td>NaN</td>\n",
       "      <td>NaN</td>\n",
       "      <td>NaN</td>\n",
       "      <td>NaN</td>\n",
       "      <td>NaN</td>\n",
       "      <td>NaN</td>\n",
       "      <td>NaN</td>\n",
       "      <td>NaN</td>\n",
       "    </tr>\n",
       "    <tr>\n",
       "      <th>4</th>\n",
       "      <td>2011-11-10</td>\n",
       "      <td>56</td>\n",
       "      <td>56</td>\n",
       "      <td>54</td>\n",
       "      <td>55</td>\n",
       "      <td>37</td>\n",
       "      <td>186188100</td>\n",
       "      <td>56.200000</td>\n",
       "      <td>56.425</td>\n",
       "      <td>55.96</td>\n",
       "      <td>...</td>\n",
       "      <td>0</td>\n",
       "      <td>NaN</td>\n",
       "      <td>NaN</td>\n",
       "      <td>NaN</td>\n",
       "      <td>NaN</td>\n",
       "      <td>NaN</td>\n",
       "      <td>NaN</td>\n",
       "      <td>NaN</td>\n",
       "      <td>NaN</td>\n",
       "      <td>NaN</td>\n",
       "    </tr>\n",
       "  </tbody>\n",
       "</table>\n",
       "<p>5 rows × 44 columns</p>\n",
       "</div>"
      ],
      "text/plain": [
       "        Date  Open  High  Low  Close  Adj Close     Volume      sma30   sma40  \\\n",
       "0 2011-11-04    57    57   57     57         38   75557300  56.166667  56.250   \n",
       "1 2011-11-07    57    57   56     57         38   67568900  56.166667  56.325   \n",
       "2 2011-11-08    57    58   57     58         39  100110500  56.200000  56.425   \n",
       "3 2011-11-09    56    57   56     56         38  139671000  56.200000  56.450   \n",
       "4 2011-11-10    56    56   54     55         37  186188100  56.200000  56.425   \n",
       "\n",
       "   sma50  ...   Price_Rise  body1  title1  url1  body2  title2  url2  body3  \\\n",
       "0  55.80  ...            0    NaN     NaN   NaN    NaN     NaN   NaN    NaN   \n",
       "1  55.86  ...            1    NaN     NaN   NaN    NaN     NaN   NaN    NaN   \n",
       "2  55.92  ...            0    NaN     NaN   NaN    NaN     NaN   NaN    NaN   \n",
       "3  55.94  ...            0    NaN     NaN   NaN    NaN     NaN   NaN    NaN   \n",
       "4  55.96  ...            0    NaN     NaN   NaN    NaN     NaN   NaN    NaN   \n",
       "\n",
       "   title3  url3  \n",
       "0     NaN   NaN  \n",
       "1     NaN   NaN  \n",
       "2     NaN   NaN  \n",
       "3     NaN   NaN  \n",
       "4     NaN   NaN  \n",
       "\n",
       "[5 rows x 44 columns]"
      ]
     },
     "execution_count": 62,
     "metadata": {},
     "output_type": "execute_result"
    }
   ],
   "source": [
    "final.head()"
   ]
  },
  {
   "cell_type": "code",
   "execution_count": 63,
   "metadata": {},
   "outputs": [
    {
     "data": {
      "text/html": [
       "<div>\n",
       "<style>\n",
       "    .dataframe thead tr:only-child th {\n",
       "        text-align: right;\n",
       "    }\n",
       "\n",
       "    .dataframe thead th {\n",
       "        text-align: left;\n",
       "    }\n",
       "\n",
       "    .dataframe tbody tr th {\n",
       "        vertical-align: top;\n",
       "    }\n",
       "</style>\n",
       "<table border=\"1\" class=\"dataframe\">\n",
       "  <thead>\n",
       "    <tr style=\"text-align: right;\">\n",
       "      <th></th>\n",
       "      <th>Date</th>\n",
       "      <th>Open</th>\n",
       "      <th>High</th>\n",
       "      <th>Low</th>\n",
       "      <th>Close</th>\n",
       "      <th>Adj Close</th>\n",
       "      <th>Volume</th>\n",
       "      <th>sma30</th>\n",
       "      <th>sma40</th>\n",
       "      <th>sma50</th>\n",
       "      <th>...</th>\n",
       "      <th>Price_Rise</th>\n",
       "      <th>body1</th>\n",
       "      <th>title1</th>\n",
       "      <th>url1</th>\n",
       "      <th>body2</th>\n",
       "      <th>title2</th>\n",
       "      <th>url2</th>\n",
       "      <th>body3</th>\n",
       "      <th>title3</th>\n",
       "      <th>url3</th>\n",
       "    </tr>\n",
       "  </thead>\n",
       "  <tbody>\n",
       "    <tr>\n",
       "      <th>2577</th>\n",
       "      <td>2017-12-22</td>\n",
       "      <td>174</td>\n",
       "      <td>175</td>\n",
       "      <td>174</td>\n",
       "      <td>175</td>\n",
       "      <td>174</td>\n",
       "      <td>16349400</td>\n",
       "      <td>171.833333</td>\n",
       "      <td>171.450</td>\n",
       "      <td>168.58</td>\n",
       "      <td>...</td>\n",
       "      <td>0</td>\n",
       "      <td>28.0</td>\n",
       "      <td>23.0</td>\n",
       "      <td>42.0</td>\n",
       "      <td>3.0</td>\n",
       "      <td>58.0</td>\n",
       "      <td>57.0</td>\n",
       "      <td>56.0</td>\n",
       "      <td>4.0</td>\n",
       "      <td>55.0</td>\n",
       "    </tr>\n",
       "    <tr>\n",
       "      <th>2578</th>\n",
       "      <td>2017-12-26</td>\n",
       "      <td>170</td>\n",
       "      <td>171</td>\n",
       "      <td>169</td>\n",
       "      <td>170</td>\n",
       "      <td>169</td>\n",
       "      <td>33185500</td>\n",
       "      <td>171.700000</td>\n",
       "      <td>171.625</td>\n",
       "      <td>168.86</td>\n",
       "      <td>...</td>\n",
       "      <td>0</td>\n",
       "      <td>18.0</td>\n",
       "      <td>44.0</td>\n",
       "      <td>10.0</td>\n",
       "      <td>7.0</td>\n",
       "      <td>26.0</td>\n",
       "      <td>26.0</td>\n",
       "      <td>56.0</td>\n",
       "      <td>3.0</td>\n",
       "      <td>8.0</td>\n",
       "    </tr>\n",
       "    <tr>\n",
       "      <th>2579</th>\n",
       "      <td>2017-12-27</td>\n",
       "      <td>170</td>\n",
       "      <td>170</td>\n",
       "      <td>169</td>\n",
       "      <td>170</td>\n",
       "      <td>169</td>\n",
       "      <td>21498200</td>\n",
       "      <td>171.600000</td>\n",
       "      <td>171.725</td>\n",
       "      <td>169.08</td>\n",
       "      <td>...</td>\n",
       "      <td>1</td>\n",
       "      <td>56.0</td>\n",
       "      <td>47.0</td>\n",
       "      <td>14.0</td>\n",
       "      <td>7.0</td>\n",
       "      <td>36.0</td>\n",
       "      <td>49.0</td>\n",
       "      <td>56.0</td>\n",
       "      <td>7.0</td>\n",
       "      <td>31.0</td>\n",
       "    </tr>\n",
       "    <tr>\n",
       "      <th>2580</th>\n",
       "      <td>2017-12-28</td>\n",
       "      <td>171</td>\n",
       "      <td>171</td>\n",
       "      <td>170</td>\n",
       "      <td>171</td>\n",
       "      <td>170</td>\n",
       "      <td>16480200</td>\n",
       "      <td>171.600000</td>\n",
       "      <td>171.775</td>\n",
       "      <td>169.30</td>\n",
       "      <td>...</td>\n",
       "      <td>0</td>\n",
       "      <td>56.0</td>\n",
       "      <td>48.0</td>\n",
       "      <td>3.0</td>\n",
       "      <td>1.0</td>\n",
       "      <td>53.0</td>\n",
       "      <td>53.0</td>\n",
       "      <td>56.0</td>\n",
       "      <td>18.0</td>\n",
       "      <td>7.0</td>\n",
       "    </tr>\n",
       "    <tr>\n",
       "      <th>2581</th>\n",
       "      <td>2017-12-29</td>\n",
       "      <td>170</td>\n",
       "      <td>170</td>\n",
       "      <td>169</td>\n",
       "      <td>169</td>\n",
       "      <td>168</td>\n",
       "      <td>25999900</td>\n",
       "      <td>171.600000</td>\n",
       "      <td>171.850</td>\n",
       "      <td>169.50</td>\n",
       "      <td>...</td>\n",
       "      <td>0</td>\n",
       "      <td>56.0</td>\n",
       "      <td>3.0</td>\n",
       "      <td>48.0</td>\n",
       "      <td>2.0</td>\n",
       "      <td>2.0</td>\n",
       "      <td>32.0</td>\n",
       "      <td>56.0</td>\n",
       "      <td>4.0</td>\n",
       "      <td>4.0</td>\n",
       "    </tr>\n",
       "  </tbody>\n",
       "</table>\n",
       "<p>5 rows × 44 columns</p>\n",
       "</div>"
      ],
      "text/plain": [
       "           Date  Open  High  Low  Close  Adj Close    Volume       sma30  \\\n",
       "2577 2017-12-22   174   175  174    175        174  16349400  171.833333   \n",
       "2578 2017-12-26   170   171  169    170        169  33185500  171.700000   \n",
       "2579 2017-12-27   170   170  169    170        169  21498200  171.600000   \n",
       "2580 2017-12-28   171   171  170    171        170  16480200  171.600000   \n",
       "2581 2017-12-29   170   170  169    169        168  25999900  171.600000   \n",
       "\n",
       "        sma40   sma50  ...   Price_Rise  body1  title1  url1  body2  title2  \\\n",
       "2577  171.450  168.58  ...            0   28.0    23.0  42.0    3.0    58.0   \n",
       "2578  171.625  168.86  ...            0   18.0    44.0  10.0    7.0    26.0   \n",
       "2579  171.725  169.08  ...            1   56.0    47.0  14.0    7.0    36.0   \n",
       "2580  171.775  169.30  ...            0   56.0    48.0   3.0    1.0    53.0   \n",
       "2581  171.850  169.50  ...            0   56.0     3.0  48.0    2.0     2.0   \n",
       "\n",
       "      url2  body3  title3  url3  \n",
       "2577  57.0   56.0     4.0  55.0  \n",
       "2578  26.0   56.0     3.0   8.0  \n",
       "2579  49.0   56.0     7.0  31.0  \n",
       "2580  53.0   56.0    18.0   7.0  \n",
       "2581  32.0   56.0     4.0   4.0  \n",
       "\n",
       "[5 rows x 44 columns]"
      ]
     },
     "execution_count": 63,
     "metadata": {},
     "output_type": "execute_result"
    }
   ],
   "source": [
    "final.tail()"
   ]
  },
  {
   "cell_type": "code",
   "execution_count": 64,
   "metadata": {},
   "outputs": [],
   "source": [
    "#Once again Dropping Duplicate values in order to avoid confusion\n",
    "final = final.drop_duplicates('Date')"
   ]
  },
  {
   "cell_type": "code",
   "execution_count": 65,
   "metadata": {},
   "outputs": [
    {
     "data": {
      "text/plain": [
       "(1545, 44)"
      ]
     },
     "execution_count": 65,
     "metadata": {},
     "output_type": "execute_result"
    }
   ],
   "source": [
    "final.shape"
   ]
  },
  {
   "cell_type": "code",
   "execution_count": 66,
   "metadata": {},
   "outputs": [
    {
     "data": {
      "text/plain": [
       "Date                       0\n",
       "Open                       0\n",
       "High                       0\n",
       "Low                        0\n",
       "Close                      0\n",
       "Adj Close                  0\n",
       "Volume                     0\n",
       "sma30                      0\n",
       "sma40                      0\n",
       "sma50                      0\n",
       "ewm30                      0\n",
       "ewm40                      0\n",
       "ewm50                      0\n",
       "RSI                        0\n",
       "bbands30                   0\n",
       "bbands40                   0\n",
       "bbands50                   0\n",
       "STOK                       0\n",
       "STOD                       0\n",
       "CCI30                      0\n",
       "CCI40                      0\n",
       "CCI50                      0\n",
       "Rate_Return30              0\n",
       "Rate_Return40              0\n",
       "Rate_Return50              0\n",
       "Rate_Return_volume30       0\n",
       "Rate_Return_volume40       0\n",
       "Rate_Return_volume50       0\n",
       "WILLR30                    0\n",
       "WILLR40                    0\n",
       "WILLR50                    0\n",
       "difference                 0\n",
       "diff_hal                   0\n",
       "st_dev                     0\n",
       "Price_Rise                 0\n",
       "body1                   1070\n",
       "title1                  1070\n",
       "url1                    1070\n",
       "body2                   1070\n",
       "title2                  1070\n",
       "url2                    1070\n",
       "body3                   1070\n",
       "title3                  1070\n",
       "url3                    1070\n",
       "dtype: int64"
      ]
     },
     "execution_count": 66,
     "metadata": {},
     "output_type": "execute_result"
    }
   ],
   "source": [
    "final.isnull().sum()"
   ]
  },
  {
   "cell_type": "code",
   "execution_count": 67,
   "metadata": {},
   "outputs": [],
   "source": [
    "final.fillna(0, inplace = True)"
   ]
  },
  {
   "cell_type": "markdown",
   "metadata": {},
   "source": [
    "# Test Train Split"
   ]
  },
  {
   "cell_type": "code",
   "execution_count": 68,
   "metadata": {},
   "outputs": [],
   "source": [
    "#Splitting of test and train models"
   ]
  },
  {
   "cell_type": "code",
   "execution_count": 70,
   "metadata": {},
   "outputs": [
    {
     "data": {
      "text/plain": [
       "Index(['Date', 'Open', 'High', 'Low', 'Close', 'Adj Close', 'Volume', 'sma30',\n",
       "       'sma40', 'sma50', 'ewm30', 'ewm40', 'ewm50', 'RSI', 'bbands30',\n",
       "       'bbands40', 'bbands50', 'STOK', 'STOD', 'CCI30', 'CCI40', 'CCI50',\n",
       "       'Rate_Return30', 'Rate_Return40', 'Rate_Return50',\n",
       "       'Rate_Return_volume30', 'Rate_Return_volume40', 'Rate_Return_volume50',\n",
       "       'WILLR30', 'WILLR40', 'WILLR50', 'difference', 'diff_hal', 'st_dev',\n",
       "       'Price_Rise'],\n",
       "      dtype='object')"
      ]
     },
     "execution_count": 70,
     "metadata": {},
     "output_type": "execute_result"
    }
   ],
   "source": [
    "df.columns"
   ]
  },
  {
   "cell_type": "code",
   "execution_count": 120,
   "metadata": {},
   "outputs": [
    {
     "data": {
      "text/html": [
       "<div>\n",
       "<style>\n",
       "    .dataframe thead tr:only-child th {\n",
       "        text-align: right;\n",
       "    }\n",
       "\n",
       "    .dataframe thead th {\n",
       "        text-align: left;\n",
       "    }\n",
       "\n",
       "    .dataframe tbody tr th {\n",
       "        vertical-align: top;\n",
       "    }\n",
       "</style>\n",
       "<table border=\"1\" class=\"dataframe\">\n",
       "  <thead>\n",
       "    <tr style=\"text-align: right;\">\n",
       "      <th></th>\n",
       "      <th>Date</th>\n",
       "      <th>Open</th>\n",
       "      <th>High</th>\n",
       "      <th>Low</th>\n",
       "      <th>Close</th>\n",
       "      <th>Adj Close</th>\n",
       "      <th>Volume</th>\n",
       "      <th>sma30</th>\n",
       "      <th>sma40</th>\n",
       "      <th>sma50</th>\n",
       "      <th>...</th>\n",
       "      <th>Price_Rise</th>\n",
       "      <th>body1</th>\n",
       "      <th>title1</th>\n",
       "      <th>url1</th>\n",
       "      <th>body2</th>\n",
       "      <th>title2</th>\n",
       "      <th>url2</th>\n",
       "      <th>body3</th>\n",
       "      <th>title3</th>\n",
       "      <th>url3</th>\n",
       "    </tr>\n",
       "  </thead>\n",
       "  <tbody>\n",
       "    <tr>\n",
       "      <th>0</th>\n",
       "      <td>2011-11-04</td>\n",
       "      <td>57</td>\n",
       "      <td>57</td>\n",
       "      <td>57</td>\n",
       "      <td>57</td>\n",
       "      <td>38</td>\n",
       "      <td>75557300</td>\n",
       "      <td>56.166667</td>\n",
       "      <td>56.25</td>\n",
       "      <td>55.8</td>\n",
       "      <td>...</td>\n",
       "      <td>0</td>\n",
       "      <td>0.0</td>\n",
       "      <td>0.0</td>\n",
       "      <td>0.0</td>\n",
       "      <td>0.0</td>\n",
       "      <td>0.0</td>\n",
       "      <td>0.0</td>\n",
       "      <td>0.0</td>\n",
       "      <td>0.0</td>\n",
       "      <td>0.0</td>\n",
       "    </tr>\n",
       "  </tbody>\n",
       "</table>\n",
       "<p>1 rows × 44 columns</p>\n",
       "</div>"
      ],
      "text/plain": [
       "        Date  Open  High  Low  Close  Adj Close    Volume      sma30  sma40  \\\n",
       "0 2011-11-04    57    57   57     57         38  75557300  56.166667  56.25   \n",
       "\n",
       "   sma50  ...   Price_Rise  body1  title1  url1  body2  title2  url2  body3  \\\n",
       "0   55.8  ...            0    0.0     0.0   0.0    0.0     0.0   0.0    0.0   \n",
       "\n",
       "   title3  url3  \n",
       "0     0.0   0.0  \n",
       "\n",
       "[1 rows x 44 columns]"
      ]
     },
     "execution_count": 120,
     "metadata": {},
     "output_type": "execute_result"
    }
   ],
   "source": [
    "final.head(1)"
   ]
  },
  {
   "cell_type": "code",
   "execution_count": 121,
   "metadata": {},
   "outputs": [],
   "source": [
    "X = final.drop(['difference','Open','Low', 'Date', 'High'], axis =1)"
   ]
  },
  {
   "cell_type": "code",
   "execution_count": 122,
   "metadata": {},
   "outputs": [],
   "source": [
    "y = final['difference'].copy()"
   ]
  },
  {
   "cell_type": "code",
   "execution_count": 123,
   "metadata": {},
   "outputs": [],
   "source": [
    "# X = df.iloc[:, 4:-1]\n",
    "# y = df.iloc[:, -1]"
   ]
  },
  {
   "cell_type": "code",
   "execution_count": 124,
   "metadata": {},
   "outputs": [
    {
     "data": {
      "text/html": [
       "<div>\n",
       "<style>\n",
       "    .dataframe thead tr:only-child th {\n",
       "        text-align: right;\n",
       "    }\n",
       "\n",
       "    .dataframe thead th {\n",
       "        text-align: left;\n",
       "    }\n",
       "\n",
       "    .dataframe tbody tr th {\n",
       "        vertical-align: top;\n",
       "    }\n",
       "</style>\n",
       "<table border=\"1\" class=\"dataframe\">\n",
       "  <thead>\n",
       "    <tr style=\"text-align: right;\">\n",
       "      <th></th>\n",
       "      <th>Close</th>\n",
       "      <th>Adj Close</th>\n",
       "      <th>Volume</th>\n",
       "      <th>sma30</th>\n",
       "      <th>sma40</th>\n",
       "      <th>sma50</th>\n",
       "      <th>ewm30</th>\n",
       "      <th>ewm40</th>\n",
       "      <th>ewm50</th>\n",
       "      <th>RSI</th>\n",
       "      <th>...</th>\n",
       "      <th>Price_Rise</th>\n",
       "      <th>body1</th>\n",
       "      <th>title1</th>\n",
       "      <th>url1</th>\n",
       "      <th>body2</th>\n",
       "      <th>title2</th>\n",
       "      <th>url2</th>\n",
       "      <th>body3</th>\n",
       "      <th>title3</th>\n",
       "      <th>url3</th>\n",
       "    </tr>\n",
       "  </thead>\n",
       "  <tbody>\n",
       "    <tr>\n",
       "      <th>0</th>\n",
       "      <td>57</td>\n",
       "      <td>38</td>\n",
       "      <td>75557300</td>\n",
       "      <td>56.166667</td>\n",
       "      <td>56.250</td>\n",
       "      <td>55.80</td>\n",
       "      <td>56.313715</td>\n",
       "      <td>56.047076</td>\n",
       "      <td>55.797111</td>\n",
       "      <td>52.734644</td>\n",
       "      <td>...</td>\n",
       "      <td>0</td>\n",
       "      <td>0.0</td>\n",
       "      <td>0.0</td>\n",
       "      <td>0.0</td>\n",
       "      <td>0.0</td>\n",
       "      <td>0.0</td>\n",
       "      <td>0.0</td>\n",
       "      <td>0.0</td>\n",
       "      <td>0.0</td>\n",
       "      <td>0.0</td>\n",
       "    </tr>\n",
       "    <tr>\n",
       "      <th>1</th>\n",
       "      <td>57</td>\n",
       "      <td>38</td>\n",
       "      <td>67568900</td>\n",
       "      <td>56.166667</td>\n",
       "      <td>56.325</td>\n",
       "      <td>55.86</td>\n",
       "      <td>56.357992</td>\n",
       "      <td>56.093560</td>\n",
       "      <td>55.844284</td>\n",
       "      <td>52.734644</td>\n",
       "      <td>...</td>\n",
       "      <td>1</td>\n",
       "      <td>0.0</td>\n",
       "      <td>0.0</td>\n",
       "      <td>0.0</td>\n",
       "      <td>0.0</td>\n",
       "      <td>0.0</td>\n",
       "      <td>0.0</td>\n",
       "      <td>0.0</td>\n",
       "      <td>0.0</td>\n",
       "      <td>0.0</td>\n",
       "    </tr>\n",
       "    <tr>\n",
       "      <th>2</th>\n",
       "      <td>58</td>\n",
       "      <td>39</td>\n",
       "      <td>100110500</td>\n",
       "      <td>56.200000</td>\n",
       "      <td>56.425</td>\n",
       "      <td>55.92</td>\n",
       "      <td>56.463928</td>\n",
       "      <td>56.186557</td>\n",
       "      <td>55.928821</td>\n",
       "      <td>52.734644</td>\n",
       "      <td>...</td>\n",
       "      <td>0</td>\n",
       "      <td>0.0</td>\n",
       "      <td>0.0</td>\n",
       "      <td>0.0</td>\n",
       "      <td>0.0</td>\n",
       "      <td>0.0</td>\n",
       "      <td>0.0</td>\n",
       "      <td>0.0</td>\n",
       "      <td>0.0</td>\n",
       "      <td>0.0</td>\n",
       "    </tr>\n",
       "    <tr>\n",
       "      <th>3</th>\n",
       "      <td>56</td>\n",
       "      <td>38</td>\n",
       "      <td>139671000</td>\n",
       "      <td>56.200000</td>\n",
       "      <td>56.450</td>\n",
       "      <td>55.94</td>\n",
       "      <td>56.433997</td>\n",
       "      <td>56.177457</td>\n",
       "      <td>55.931613</td>\n",
       "      <td>47.214757</td>\n",
       "      <td>...</td>\n",
       "      <td>0</td>\n",
       "      <td>0.0</td>\n",
       "      <td>0.0</td>\n",
       "      <td>0.0</td>\n",
       "      <td>0.0</td>\n",
       "      <td>0.0</td>\n",
       "      <td>0.0</td>\n",
       "      <td>0.0</td>\n",
       "      <td>0.0</td>\n",
       "      <td>0.0</td>\n",
       "    </tr>\n",
       "    <tr>\n",
       "      <th>4</th>\n",
       "      <td>55</td>\n",
       "      <td>37</td>\n",
       "      <td>186188100</td>\n",
       "      <td>56.200000</td>\n",
       "      <td>56.425</td>\n",
       "      <td>55.96</td>\n",
       "      <td>56.341481</td>\n",
       "      <td>56.120020</td>\n",
       "      <td>55.895079</td>\n",
       "      <td>47.214757</td>\n",
       "      <td>...</td>\n",
       "      <td>0</td>\n",
       "      <td>0.0</td>\n",
       "      <td>0.0</td>\n",
       "      <td>0.0</td>\n",
       "      <td>0.0</td>\n",
       "      <td>0.0</td>\n",
       "      <td>0.0</td>\n",
       "      <td>0.0</td>\n",
       "      <td>0.0</td>\n",
       "      <td>0.0</td>\n",
       "    </tr>\n",
       "  </tbody>\n",
       "</table>\n",
       "<p>5 rows × 39 columns</p>\n",
       "</div>"
      ],
      "text/plain": [
       "   Close  Adj Close     Volume      sma30   sma40  sma50      ewm30  \\\n",
       "0     57         38   75557300  56.166667  56.250  55.80  56.313715   \n",
       "1     57         38   67568900  56.166667  56.325  55.86  56.357992   \n",
       "2     58         39  100110500  56.200000  56.425  55.92  56.463928   \n",
       "3     56         38  139671000  56.200000  56.450  55.94  56.433997   \n",
       "4     55         37  186188100  56.200000  56.425  55.96  56.341481   \n",
       "\n",
       "       ewm40      ewm50        RSI  ...   Price_Rise  body1  title1  url1  \\\n",
       "0  56.047076  55.797111  52.734644  ...            0    0.0     0.0   0.0   \n",
       "1  56.093560  55.844284  52.734644  ...            1    0.0     0.0   0.0   \n",
       "2  56.186557  55.928821  52.734644  ...            0    0.0     0.0   0.0   \n",
       "3  56.177457  55.931613  47.214757  ...            0    0.0     0.0   0.0   \n",
       "4  56.120020  55.895079  47.214757  ...            0    0.0     0.0   0.0   \n",
       "\n",
       "   body2  title2  url2  body3  title3  url3  \n",
       "0    0.0     0.0   0.0    0.0     0.0   0.0  \n",
       "1    0.0     0.0   0.0    0.0     0.0   0.0  \n",
       "2    0.0     0.0   0.0    0.0     0.0   0.0  \n",
       "3    0.0     0.0   0.0    0.0     0.0   0.0  \n",
       "4    0.0     0.0   0.0    0.0     0.0   0.0  \n",
       "\n",
       "[5 rows x 39 columns]"
      ]
     },
     "execution_count": 124,
     "metadata": {},
     "output_type": "execute_result"
    }
   ],
   "source": [
    "X.head()"
   ]
  },
  {
   "cell_type": "code",
   "execution_count": 125,
   "metadata": {},
   "outputs": [
    {
     "data": {
      "text/plain": [
       "0    0\n",
       "1    0\n",
       "2    1\n",
       "3    0\n",
       "4   -1\n",
       "Name: difference, dtype: int32"
      ]
     },
     "execution_count": 125,
     "metadata": {},
     "output_type": "execute_result"
    }
   ],
   "source": [
    "y.head()"
   ]
  },
  {
   "cell_type": "markdown",
   "metadata": {},
   "source": [
    "# Splitting"
   ]
  },
  {
   "cell_type": "code",
   "execution_count": 126,
   "metadata": {},
   "outputs": [],
   "source": [
    "split = int(len(df)*0.8)\n",
    "X_train, X_test, y_train, y_test = X[:split], X[split:], y[:split], y[split:]"
   ]
  },
  {
   "cell_type": "code",
   "execution_count": 127,
   "metadata": {},
   "outputs": [
    {
     "data": {
      "text/plain": [
       "(1236, 39)"
      ]
     },
     "execution_count": 127,
     "metadata": {},
     "output_type": "execute_result"
    }
   ],
   "source": [
    "X_train.shape"
   ]
  },
  {
   "cell_type": "code",
   "execution_count": 128,
   "metadata": {},
   "outputs": [
    {
     "data": {
      "text/plain": [
       "(309, 39)"
      ]
     },
     "execution_count": 128,
     "metadata": {},
     "output_type": "execute_result"
    }
   ],
   "source": [
    "X_test.shape"
   ]
  },
  {
   "cell_type": "code",
   "execution_count": 129,
   "metadata": {},
   "outputs": [
    {
     "data": {
      "text/plain": [
       "(1236,)"
      ]
     },
     "execution_count": 129,
     "metadata": {},
     "output_type": "execute_result"
    }
   ],
   "source": [
    "y_train.shape"
   ]
  },
  {
   "cell_type": "code",
   "execution_count": 130,
   "metadata": {},
   "outputs": [
    {
     "data": {
      "text/plain": [
       "(309,)"
      ]
     },
     "execution_count": 130,
     "metadata": {},
     "output_type": "execute_result"
    }
   ],
   "source": [
    "y_test.shape"
   ]
  },
  {
   "cell_type": "markdown",
   "metadata": {},
   "source": [
    "# Scalling"
   ]
  },
  {
   "cell_type": "code",
   "execution_count": 131,
   "metadata": {},
   "outputs": [
    {
     "data": {
      "text/plain": [
       "0"
      ]
     },
     "execution_count": 131,
     "metadata": {},
     "output_type": "execute_result"
    }
   ],
   "source": [
    "X_train.isnull().sum().sum()"
   ]
  },
  {
   "cell_type": "code",
   "execution_count": 132,
   "metadata": {},
   "outputs": [],
   "source": [
    "#removing the infinate values\n",
    "X_train = X_train.replace([np.inf, -np.inf], np.nan)"
   ]
  },
  {
   "cell_type": "code",
   "execution_count": 133,
   "metadata": {},
   "outputs": [
    {
     "data": {
      "text/plain": [
       "0"
      ]
     },
     "execution_count": 133,
     "metadata": {},
     "output_type": "execute_result"
    }
   ],
   "source": [
    "X_train.isnull().sum().sum()"
   ]
  },
  {
   "cell_type": "code",
   "execution_count": 134,
   "metadata": {},
   "outputs": [],
   "source": [
    "X_test = X_test.replace([np.inf, -np.inf], np.nan)"
   ]
  },
  {
   "cell_type": "code",
   "execution_count": 135,
   "metadata": {},
   "outputs": [
    {
     "data": {
      "text/plain": [
       "0"
      ]
     },
     "execution_count": 135,
     "metadata": {},
     "output_type": "execute_result"
    }
   ],
   "source": [
    "X_test.isnull().sum().sum()"
   ]
  },
  {
   "cell_type": "code",
   "execution_count": 136,
   "metadata": {},
   "outputs": [],
   "source": [
    "from sklearn.preprocessing import StandardScaler\n",
    "from sklearn.preprocessing import MinMaxScaler"
   ]
  },
  {
   "cell_type": "code",
   "execution_count": 137,
   "metadata": {},
   "outputs": [],
   "source": [
    "sc = StandardScaler()\n",
    "X_train = sc.fit_transform(X_train)\n",
    "X_test = sc.transform(X_test)"
   ]
  },
  {
   "cell_type": "code",
   "execution_count": 138,
   "metadata": {},
   "outputs": [
    {
     "data": {
      "text/plain": [
       "array([-1.61574693, -1.57552579, -0.08457914, -1.63096598, -1.61794798,\n",
       "       -1.63047872, -1.63454349, -1.64182465, -1.64832004, -0.0621823 ,\n",
       "       -1.6309487 , -1.61794798, -1.63047872,  1.30741149,  0.52487326,\n",
       "        0.13301051,  0.13301051,  0.13301051, -0.21861598,  0.40634052,\n",
       "        0.30726078, -0.87595585, -0.79026287, -1.08583348, -0.40403123,\n",
       "       -0.37926399, -0.35817606, -1.55330272, -0.91893557, -0.74085908,\n",
       "       -0.4830152 , -0.4053684 , -0.43337461, -0.44801153, -0.41107693,\n",
       "       -0.41151316, -0.46786026, -0.46016666, -0.4539531 ])"
      ]
     },
     "execution_count": 138,
     "metadata": {},
     "output_type": "execute_result"
    }
   ],
   "source": [
    "X_train[0]"
   ]
  },
  {
   "cell_type": "code",
   "execution_count": 139,
   "metadata": {},
   "outputs": [
    {
     "data": {
      "text/plain": [
       "0    0\n",
       "1    0\n",
       "2    1\n",
       "3    0\n",
       "4   -1\n",
       "5   -1\n",
       "6    0\n",
       "7    1\n",
       "8   -1\n",
       "9   -1\n",
       "Name: difference, dtype: int32"
      ]
     },
     "execution_count": 139,
     "metadata": {},
     "output_type": "execute_result"
    }
   ],
   "source": [
    "y_train[0:10]"
   ]
  },
  {
   "cell_type": "markdown",
   "metadata": {},
   "source": [
    "# Final Model"
   ]
  },
  {
   "cell_type": "code",
   "execution_count": 140,
   "metadata": {},
   "outputs": [],
   "source": [
    "X_train = X_train.reshape(X_train.shape[0], X_train.shape[1], 1)"
   ]
  },
  {
   "cell_type": "code",
   "execution_count": 141,
   "metadata": {},
   "outputs": [],
   "source": [
    "X_test= X_test.reshape(X_test.shape[0], X_test.shape[1], 1)"
   ]
  },
  {
   "cell_type": "code",
   "execution_count": 142,
   "metadata": {},
   "outputs": [
    {
     "name": "stdout",
     "output_type": "stream",
     "text": [
      "Epoch 1/100\n",
      "1236/1236 [==============================] - 17s 14ms/step - loss: 1.6908 - acc: 0.3835\n",
      "Epoch 2/100\n",
      "1236/1236 [==============================] - 9s 7ms/step - loss: 1.6675 - acc: 0.3794\n",
      "Epoch 3/100\n",
      "1236/1236 [==============================] - 10s 8ms/step - loss: 1.6376 - acc: 0.3746\n",
      "Epoch 4/100\n",
      "1236/1236 [==============================] - 9s 8ms/step - loss: 1.6463 - acc: 0.3819\n",
      "Epoch 5/100\n",
      "1236/1236 [==============================] - 9s 8ms/step - loss: 1.6284 - acc: 0.3794\n",
      "Epoch 6/100\n",
      "1236/1236 [==============================] - 10s 8ms/step - loss: 1.6180 - acc: 0.3835\n",
      "Epoch 7/100\n",
      "1236/1236 [==============================] - 9s 7ms/step - loss: 1.6300 - acc: 0.3859\n",
      "Epoch 8/100\n",
      "1236/1236 [==============================] - 9s 8ms/step - loss: 1.6268 - acc: 0.3851\n",
      "Epoch 9/100\n",
      "1236/1236 [==============================] - 9s 7ms/step - loss: 1.6184 - acc: 0.3819\n",
      "Epoch 10/100\n",
      "1236/1236 [==============================] - 9s 7ms/step - loss: 1.6208 - acc: 0.3762\n",
      "Epoch 11/100\n",
      "1236/1236 [==============================] - 9s 7ms/step - loss: 1.5861 - acc: 0.3875\n",
      "Epoch 12/100\n",
      "1236/1236 [==============================] - 9s 8ms/step - loss: 1.5894 - acc: 0.3875\n",
      "Epoch 13/100\n",
      "1236/1236 [==============================] - 9s 7ms/step - loss: 1.5893 - acc: 0.3892\n",
      "Epoch 14/100\n",
      "1236/1236 [==============================] - 9s 7ms/step - loss: 1.5854 - acc: 0.3851\n",
      "Epoch 15/100\n",
      "1236/1236 [==============================] - 9s 8ms/step - loss: 1.6227 - acc: 0.3859\n",
      "Epoch 16/100\n",
      "1236/1236 [==============================] - 10s 8ms/step - loss: 1.5859 - acc: 0.3722\n",
      "Epoch 17/100\n",
      "1236/1236 [==============================] - 10s 8ms/step - loss: 1.5602 - acc: 0.3883\n",
      "Epoch 18/100\n",
      "1236/1236 [==============================] - 10s 8ms/step - loss: 1.5327 - acc: 0.3794\n",
      "Epoch 19/100\n",
      "1236/1236 [==============================] - 8s 7ms/step - loss: 1.5577 - acc: 0.3754\n",
      "Epoch 20/100\n",
      "1236/1236 [==============================] - 8s 6ms/step - loss: 1.5256 - acc: 0.3811\n",
      "Epoch 21/100\n",
      "1236/1236 [==============================] - 9s 7ms/step - loss: 1.4576 - acc: 0.3746\n",
      "Epoch 22/100\n",
      "1236/1236 [==============================] - 11s 9ms/step - loss: 1.6268 - acc: 0.3867\n",
      "Epoch 23/100\n",
      "1236/1236 [==============================] - 10s 8ms/step - loss: 1.5123 - acc: 0.4053\n",
      "Epoch 24/100\n",
      "1236/1236 [==============================] - 10s 8ms/step - loss: 1.3650 - acc: 0.3786\n",
      "Epoch 25/100\n",
      "1236/1236 [==============================] - 9s 7ms/step - loss: 1.3217 - acc: 0.3972\n",
      "Epoch 26/100\n",
      "1236/1236 [==============================] - 9s 7ms/step - loss: 1.4558 - acc: 0.3867\n",
      "Epoch 27/100\n",
      "1236/1236 [==============================] - 10s 8ms/step - loss: 1.3355 - acc: 0.3964\n",
      "Epoch 28/100\n",
      "1236/1236 [==============================] - 10s 8ms/step - loss: 1.2142 - acc: 0.3924\n",
      "Epoch 29/100\n",
      "1236/1236 [==============================] - 9s 7ms/step - loss: 1.2223 - acc: 0.3924\n",
      "Epoch 30/100\n",
      "1236/1236 [==============================] - 9s 8ms/step - loss: 1.2295 - acc: 0.4021\n",
      "Epoch 31/100\n",
      "1236/1236 [==============================] - 9s 8ms/step - loss: 1.1997 - acc: 0.4150\n",
      "Epoch 32/100\n",
      "1236/1236 [==============================] - 9s 7ms/step - loss: 1.2485 - acc: 0.3997\n",
      "Epoch 33/100\n",
      "1236/1236 [==============================] - 9s 7ms/step - loss: 1.1789 - acc: 0.4110\n",
      "Epoch 34/100\n",
      "1236/1236 [==============================] - 9s 7ms/step - loss: 1.2166 - acc: 0.4078\n",
      "Epoch 35/100\n",
      "1236/1236 [==============================] - 9s 8ms/step - loss: 1.2517 - acc: 0.4094\n",
      "Epoch 36/100\n",
      "1236/1236 [==============================] - 10s 8ms/step - loss: 1.1478 - acc: 0.4142\n",
      "Epoch 37/100\n",
      "1236/1236 [==============================] - 10s 8ms/step - loss: 1.1385 - acc: 0.4175\n",
      "Epoch 38/100\n",
      "1236/1236 [==============================] - 9s 7ms/step - loss: 1.1996 - acc: 0.4029\n",
      "Epoch 39/100\n",
      "1236/1236 [==============================] - 9s 7ms/step - loss: 1.1063 - acc: 0.4312\n",
      "Epoch 40/100\n",
      "1236/1236 [==============================] - 9s 7ms/step - loss: 1.1545 - acc: 0.4264\n",
      "Epoch 41/100\n",
      "1236/1236 [==============================] - 9s 7ms/step - loss: 1.0306 - acc: 0.4345\n",
      "Epoch 42/100\n",
      "1236/1236 [==============================] - 9s 7ms/step - loss: 1.2247 - acc: 0.4094\n",
      "Epoch 43/100\n",
      "1236/1236 [==============================] - 9s 8ms/step - loss: 1.0356 - acc: 0.4466\n",
      "Epoch 44/100\n",
      "1236/1236 [==============================] - 9s 8ms/step - loss: 1.2211 - acc: 0.4053\n",
      "Epoch 45/100\n",
      "1236/1236 [==============================] - 9s 7ms/step - loss: 1.0077 - acc: 0.4304\n",
      "Epoch 46/100\n",
      "1236/1236 [==============================] - 9s 7ms/step - loss: 1.0432 - acc: 0.4215\n",
      "Epoch 47/100\n",
      "1236/1236 [==============================] - 9s 7ms/step - loss: 1.1095 - acc: 0.4215\n",
      "Epoch 48/100\n",
      "1236/1236 [==============================] - 9s 8ms/step - loss: 1.0029 - acc: 0.4345\n",
      "Epoch 49/100\n",
      "1236/1236 [==============================] - 9s 7ms/step - loss: 0.9816 - acc: 0.4377\n",
      "Epoch 50/100\n",
      "1236/1236 [==============================] - 9s 8ms/step - loss: 1.0038 - acc: 0.4393\n",
      "Epoch 51/100\n",
      "1236/1236 [==============================] - 9s 7ms/step - loss: 1.0051 - acc: 0.4304\n",
      "Epoch 52/100\n",
      "1236/1236 [==============================] - 9s 8ms/step - loss: 0.9872 - acc: 0.4579\n",
      "Epoch 53/100\n",
      "1236/1236 [==============================] - 9s 7ms/step - loss: 0.9763 - acc: 0.4167\n",
      "Epoch 54/100\n",
      "1236/1236 [==============================] - 9s 7ms/step - loss: 0.9869 - acc: 0.4434\n",
      "Epoch 55/100\n",
      "1236/1236 [==============================] - 9s 7ms/step - loss: 0.9435 - acc: 0.4458\n",
      "Epoch 56/100\n",
      "1236/1236 [==============================] - 9s 7ms/step - loss: 0.8986 - acc: 0.4498\n",
      "Epoch 57/100\n",
      "1236/1236 [==============================] - 9s 8ms/step - loss: 0.8716 - acc: 0.4409\n",
      "Epoch 58/100\n",
      "1236/1236 [==============================] - 9s 7ms/step - loss: 0.8809 - acc: 0.4709\n",
      "Epoch 59/100\n",
      "1236/1236 [==============================] - 9s 7ms/step - loss: 0.9855 - acc: 0.4393\n",
      "Epoch 60/100\n",
      "1236/1236 [==============================] - 10s 8ms/step - loss: 0.9548 - acc: 0.4474\n",
      "Epoch 61/100\n",
      "1236/1236 [==============================] - 10s 8ms/step - loss: 0.9268 - acc: 0.4498\n",
      "Epoch 62/100\n",
      "1236/1236 [==============================] - 9s 7ms/step - loss: 0.9502 - acc: 0.4474\n",
      "Epoch 63/100\n",
      "1236/1236 [==============================] - 9s 7ms/step - loss: 0.9163 - acc: 0.4320A: 5s -\n",
      "Epoch 64/100\n",
      "1236/1236 [==============================] - 9s 7ms/step - loss: 0.8602 - acc: 0.4417A: 5s - los\n",
      "Epoch 65/100\n",
      "1236/1236 [==============================] - 9s 7ms/step - loss: 0.8809 - acc: 0.4571\n",
      "Epoch 66/100\n",
      "1236/1236 [==============================] - 8s 7ms/step - loss: 0.8178 - acc: 0.4733A: 0s - loss: 0.7938 - acc: 0.\n",
      "Epoch 67/100\n",
      "1236/1236 [==============================] - 10s 8ms/step - loss: 0.7867 - acc: 0.4434\n",
      "Epoch 68/100\n",
      "1236/1236 [==============================] - 10s 8ms/step - loss: 0.7923 - acc: 0.4782\n",
      "Epoch 69/100\n",
      "1236/1236 [==============================] - 11s 9ms/step - loss: 0.8171 - acc: 0.4515\n",
      "Epoch 70/100\n",
      "1236/1236 [==============================] - 10s 8ms/step - loss: 0.7657 - acc: 0.4474\n",
      "Epoch 71/100\n",
      "1236/1236 [==============================] - 10s 8ms/step - loss: 0.7647 - acc: 0.4943\n",
      "Epoch 72/100\n",
      "1236/1236 [==============================] - 9s 8ms/step - loss: 0.8337 - acc: 0.4490\n",
      "Epoch 73/100\n",
      "1236/1236 [==============================] - 9s 8ms/step - loss: 0.7502 - acc: 0.4595\n",
      "Epoch 74/100\n",
      "1236/1236 [==============================] - 9s 7ms/step - loss: 0.7441 - acc: 0.4701\n",
      "Epoch 75/100\n",
      "1236/1236 [==============================] - 9s 8ms/step - loss: 0.7438 - acc: 0.4668\n",
      "Epoch 76/100\n",
      "1236/1236 [==============================] - 9s 7ms/step - loss: 0.7533 - acc: 0.4830\n",
      "Epoch 77/100\n",
      "1236/1236 [==============================] - 9s 8ms/step - loss: 0.8121 - acc: 0.4579\n",
      "Epoch 78/100\n",
      "1236/1236 [==============================] - 9s 7ms/step - loss: 0.7205 - acc: 0.4806\n",
      "Epoch 79/100\n",
      "1236/1236 [==============================] - 9s 7ms/step - loss: 0.7406 - acc: 0.4798\n",
      "Epoch 80/100\n",
      "1236/1236 [==============================] - 9s 7ms/step - loss: 0.7443 - acc: 0.4676\n",
      "Epoch 81/100\n",
      "1236/1236 [==============================] - 9s 7ms/step - loss: 0.6846 - acc: 0.5016\n",
      "Epoch 82/100\n",
      "1236/1236 [==============================] - 9s 7ms/step - loss: 0.7163 - acc: 0.4733\n",
      "Epoch 83/100\n"
     ]
    },
    {
     "name": "stdout",
     "output_type": "stream",
     "text": [
      "1236/1236 [==============================] - 9s 7ms/step - loss: 0.7878 - acc: 0.4838\n",
      "Epoch 84/100\n",
      "1236/1236 [==============================] - 9s 7ms/step - loss: 0.7238 - acc: 0.4927\n",
      "Epoch 85/100\n",
      "1236/1236 [==============================] - 9s 7ms/step - loss: 0.6787 - acc: 0.4984\n",
      "Epoch 86/100\n",
      "1236/1236 [==============================] - 9s 7ms/step - loss: 0.7147 - acc: 0.4887\n",
      "Epoch 87/100\n",
      "1236/1236 [==============================] - 9s 7ms/step - loss: 0.7408 - acc: 0.4919\n",
      "Epoch 88/100\n",
      "1236/1236 [==============================] - 9s 7ms/step - loss: 0.7070 - acc: 0.5000\n",
      "Epoch 89/100\n",
      "1236/1236 [==============================] - 9s 7ms/step - loss: 0.6833 - acc: 0.4887\n",
      "Epoch 90/100\n",
      "1236/1236 [==============================] - 9s 7ms/step - loss: 0.6817 - acc: 0.4927\n",
      "Epoch 91/100\n",
      "1236/1236 [==============================] - 9s 7ms/step - loss: 0.7006 - acc: 0.5016\n",
      "Epoch 92/100\n",
      "1236/1236 [==============================] - 9s 7ms/step - loss: 0.6156 - acc: 0.5032\n",
      "Epoch 93/100\n",
      "1236/1236 [==============================] - 9s 7ms/step - loss: 0.5885 - acc: 0.5194\n",
      "Epoch 94/100\n",
      "1236/1236 [==============================] - 9s 7ms/step - loss: 0.5716 - acc: 0.5162\n",
      "Epoch 95/100\n",
      "1236/1236 [==============================] - 9s 7ms/step - loss: 0.5964 - acc: 0.5202\n",
      "Epoch 96/100\n",
      "1236/1236 [==============================] - 9s 7ms/step - loss: 0.5425 - acc: 0.5283\n",
      "Epoch 97/100\n",
      "1236/1236 [==============================] - 9s 7ms/step - loss: 0.5429 - acc: 0.5364\n",
      "Epoch 98/100\n",
      "1236/1236 [==============================] - 9s 7ms/step - loss: 0.6153 - acc: 0.5291\n",
      "Epoch 99/100\n",
      "1236/1236 [==============================] - 9s 7ms/step - loss: 0.5064 - acc: 0.5477\n",
      "Epoch 100/100\n",
      "1236/1236 [==============================] - 9s 7ms/step - loss: 0.4926 - acc: 0.5518\n"
     ]
    },
    {
     "data": {
      "text/plain": [
       "<keras.callbacks.History at 0x21ad0c8cda0>"
      ]
     },
     "execution_count": 142,
     "metadata": {},
     "output_type": "execute_result"
    }
   ],
   "source": [
    "from keras.models import Sequential\n",
    "from keras.layers import Dense, Flatten\n",
    "from keras.layers import LSTM\n",
    "from keras.layers import Dropout\n",
    "\n",
    "regressor=Sequential()\n",
    "regressor.add(LSTM(units=100,return_sequences=True,input_shape=(X_train.shape[1], 1)))\n",
    "regressor.add(Dropout(0.4))\n",
    "\n",
    "regressor.add(LSTM(units=100,return_sequences=True))\n",
    "regressor.add(Dropout(0.6))\n",
    "\n",
    "regressor.add(LSTM(units=100,return_sequences=True))\n",
    "regressor.add(Dropout(0.6))\n",
    "\n",
    "regressor.add(LSTM(units=100,return_sequences=True))\n",
    "regressor.add(Dropout(0.4))\n",
    "\n",
    "regressor.add(LSTM(units=100))\n",
    "regressor.add(Dropout(0.4))\n",
    "\n",
    "#regressor.add(Flatten())\n",
    "regressor.add(Dense(units=1))\n",
    "\n",
    "regressor.compile(optimizer='adam',loss='mean_squared_error',metrics = ['accuracy'])\n",
    "\n",
    "regressor.fit(X_train,y_train,epochs=100,batch_size=32)"
   ]
  },
  {
   "cell_type": "code",
   "execution_count": 113,
   "metadata": {},
   "outputs": [],
   "source": [
    "y_pred = regressor.predict(X_test)\n",
    "y_pred = (y_pred > 0.5)"
   ]
  },
  {
   "cell_type": "code",
   "execution_count": 114,
   "metadata": {},
   "outputs": [],
   "source": [
    "df['y_pred'] = np.NaN\n",
    "df.iloc[(len(df) - len(y_pred)):,-1:] = y_pred\n",
    "trade_df = df.dropna()"
   ]
  },
  {
   "cell_type": "code",
   "execution_count": 115,
   "metadata": {},
   "outputs": [
    {
     "name": "stderr",
     "output_type": "stream",
     "text": [
      "c:\\users\\admin\\appdata\\local\\programs\\python\\python36\\lib\\site-packages\\ipykernel_launcher.py:1: SettingWithCopyWarning: \n",
      "A value is trying to be set on a copy of a slice from a DataFrame.\n",
      "Try using .loc[row_indexer,col_indexer] = value instead\n",
      "\n",
      "See the caveats in the documentation: http://pandas.pydata.org/pandas-docs/stable/indexing.html#indexing-view-versus-copy\n",
      "  \"\"\"Entry point for launching an IPython kernel.\n",
      "c:\\users\\admin\\appdata\\local\\programs\\python\\python36\\lib\\site-packages\\ipykernel_launcher.py:2: SettingWithCopyWarning: \n",
      "A value is trying to be set on a copy of a slice from a DataFrame.\n",
      "Try using .loc[row_indexer,col_indexer] = value instead\n",
      "\n",
      "See the caveats in the documentation: http://pandas.pydata.org/pandas-docs/stable/indexing.html#indexing-view-versus-copy\n",
      "  \n",
      "c:\\users\\admin\\appdata\\local\\programs\\python\\python36\\lib\\site-packages\\ipykernel_launcher.py:3: SettingWithCopyWarning: \n",
      "A value is trying to be set on a copy of a slice from a DataFrame.\n",
      "Try using .loc[row_indexer,col_indexer] = value instead\n",
      "\n",
      "See the caveats in the documentation: http://pandas.pydata.org/pandas-docs/stable/indexing.html#indexing-view-versus-copy\n",
      "  This is separate from the ipykernel package so we can avoid doing imports until\n"
     ]
    }
   ],
   "source": [
    "trade_df['Tomorrows Returns'] = 0.\n",
    "trade_df['Tomorrows Returns'] = np.log(trade_df['Close']/trade_df['Close'].shift(1))\n",
    "trade_df['Tomorrows Returns'] = trade_df['Tomorrows Returns'].shift(-1)"
   ]
  },
  {
   "cell_type": "code",
   "execution_count": 116,
   "metadata": {},
   "outputs": [
    {
     "name": "stderr",
     "output_type": "stream",
     "text": [
      "c:\\users\\admin\\appdata\\local\\programs\\python\\python36\\lib\\site-packages\\ipykernel_launcher.py:1: SettingWithCopyWarning: \n",
      "A value is trying to be set on a copy of a slice from a DataFrame.\n",
      "Try using .loc[row_indexer,col_indexer] = value instead\n",
      "\n",
      "See the caveats in the documentation: http://pandas.pydata.org/pandas-docs/stable/indexing.html#indexing-view-versus-copy\n",
      "  \"\"\"Entry point for launching an IPython kernel.\n",
      "c:\\users\\admin\\appdata\\local\\programs\\python\\python36\\lib\\site-packages\\ipykernel_launcher.py:2: SettingWithCopyWarning: \n",
      "A value is trying to be set on a copy of a slice from a DataFrame.\n",
      "Try using .loc[row_indexer,col_indexer] = value instead\n",
      "\n",
      "See the caveats in the documentation: http://pandas.pydata.org/pandas-docs/stable/indexing.html#indexing-view-versus-copy\n",
      "  \n"
     ]
    }
   ],
   "source": [
    "trade_df['Strategy Returns'] = 0.\n",
    "trade_df['Strategy Returns'] = np.where(trade_df['y_pred'] == True, trade_df['Tomorrows Returns'], - trade_df['Tomorrows Returns'])"
   ]
  },
  {
   "cell_type": "code",
   "execution_count": 117,
   "metadata": {},
   "outputs": [
    {
     "name": "stderr",
     "output_type": "stream",
     "text": [
      "c:\\users\\admin\\appdata\\local\\programs\\python\\python36\\lib\\site-packages\\ipykernel_launcher.py:1: SettingWithCopyWarning: \n",
      "A value is trying to be set on a copy of a slice from a DataFrame.\n",
      "Try using .loc[row_indexer,col_indexer] = value instead\n",
      "\n",
      "See the caveats in the documentation: http://pandas.pydata.org/pandas-docs/stable/indexing.html#indexing-view-versus-copy\n",
      "  \"\"\"Entry point for launching an IPython kernel.\n",
      "c:\\users\\admin\\appdata\\local\\programs\\python\\python36\\lib\\site-packages\\ipykernel_launcher.py:2: SettingWithCopyWarning: \n",
      "A value is trying to be set on a copy of a slice from a DataFrame.\n",
      "Try using .loc[row_indexer,col_indexer] = value instead\n",
      "\n",
      "See the caveats in the documentation: http://pandas.pydata.org/pandas-docs/stable/indexing.html#indexing-view-versus-copy\n",
      "  \n"
     ]
    }
   ],
   "source": [
    "trade_df['Cumulative Market Returns'] = np.cumsum(trade_df['Tomorrows Returns'])\n",
    "trade_df['Cumulative Strategy Returns'] = np.cumsum(trade_df['Strategy Returns'])"
   ]
  },
  {
   "cell_type": "code",
   "execution_count": 118,
   "metadata": {},
   "outputs": [
    {
     "data": {
      "text/plain": [
       "[<matplotlib.lines.Line2D at 0x21acf4d9438>]"
      ]
     },
     "execution_count": 118,
     "metadata": {},
     "output_type": "execute_result"
    },
    {
     "data": {
      "image/png": "[encoded data removed]",
      "text/plain": [
       "<matplotlib.figure.Figure at 0x21ac613e9b0>"
      ]
     },
     "metadata": {},
     "output_type": "display_data"
    }
   ],
   "source": [
    "plt.plot(trade_df['Cumulative Market Returns'], color='r', label='Market Returns')\n"
   ]
  },
  {
   "cell_type": "code",
   "execution_count": 119,
   "metadata": {},
   "outputs": [
    {
     "data": {
      "text/plain": [
       "[<matplotlib.lines.Line2D at 0x21acf446ac8>]"
      ]
     },
     "execution_count": 119,
     "metadata": {},
     "output_type": "execute_result"
    },
    {
     "data": {
      "image/png": "[encoded data removed]",
      "text/plain": [
       "<matplotlib.figure.Figure at 0x21ad125a2b0>"
      ]
     },
     "metadata": {},
     "output_type": "display_data"
    }
   ],
   "source": [
    "plt.plot(df['Close'], color='r', label='Market Returns')"
   ]
  },
  {
   "cell_type": "markdown",
   "metadata": {},
   "source": [
    "# Alternate Model"
   ]
  },
  {
   "cell_type": "code",
   "execution_count": 150,
   "metadata": {},
   "outputs": [],
   "source": [
    "X = df.iloc[:, 4:-1]\n",
    "y = df.iloc[:, -1]"
   ]
  },
  {
   "cell_type": "code",
   "execution_count": 151,
   "metadata": {},
   "outputs": [],
   "source": [
    "split = int(len(df)*0.8)\n",
    "X_train, X_test, y_train, y_test = X[:split], X[split:], y[:split], y[split:]"
   ]
  },
  {
   "cell_type": "code",
   "execution_count": 152,
   "metadata": {},
   "outputs": [
    {
     "data": {
      "text/plain": [
       "0"
      ]
     },
     "execution_count": 152,
     "metadata": {},
     "output_type": "execute_result"
    }
   ],
   "source": [
    "X_train.isnull().sum().sum()"
   ]
  },
  {
   "cell_type": "code",
   "execution_count": 153,
   "metadata": {},
   "outputs": [],
   "source": [
    "#removing the infinate values\n",
    "X_train = X_train.replace([np.inf, -np.inf], np.nan)"
   ]
  },
  {
   "cell_type": "code",
   "execution_count": 154,
   "metadata": {},
   "outputs": [],
   "source": [
    "from sklearn.preprocessing import StandardScaler\n",
    "from sklearn.preprocessing import MinMaxScaler\n",
    "\n",
    "sc = StandardScaler()\n",
    "X_train = sc.fit_transform(X_train)\n",
    "X_test = sc.transform(X_test)"
   ]
  },
  {
   "cell_type": "code",
   "execution_count": 155,
   "metadata": {},
   "outputs": [],
   "source": [
    "X_train = X_train.reshape(X_train.shape[0], X_train.shape[1], 1)\n",
    "X_test= X_test.reshape(X_test.shape[0], X_test.shape[1], 1)"
   ]
  },
  {
   "cell_type": "code",
   "execution_count": 156,
   "metadata": {},
   "outputs": [
    {
     "name": "stdout",
     "output_type": "stream",
     "text": [
      "Epoch 1/100\n",
      "1236/1236 [==============================] - 15s 12ms/step - loss: nan - acc: 0.0000e+00\n",
      "Epoch 2/100\n",
      "1236/1236 [==============================] - 7s 6ms/step - loss: nan - acc: 0.0000e+00\n",
      "Epoch 3/100\n",
      "1236/1236 [==============================] - 7s 6ms/step - loss: nan - acc: 0.0000e+00\n",
      "Epoch 4/100\n",
      "1236/1236 [==============================] - 7s 6ms/step - loss: nan - acc: 0.0000e+00\n",
      "Epoch 5/100\n",
      "1236/1236 [==============================] - 7s 6ms/step - loss: nan - acc: 0.0000e+00\n",
      "Epoch 6/100\n",
      "1236/1236 [==============================] - 7s 6ms/step - loss: nan - acc: 0.0000e+00\n",
      "Epoch 7/100\n",
      "1236/1236 [==============================] - 8s 6ms/step - loss: nan - acc: 0.0000e+00\n",
      "Epoch 8/100\n",
      "1236/1236 [==============================] - 8s 6ms/step - loss: nan - acc: 0.0000e+00\n",
      "Epoch 9/100\n",
      "1236/1236 [==============================] - 8s 6ms/step - loss: nan - acc: 0.0000e+00\n",
      "Epoch 10/100\n",
      " 608/1236 [=============>................] - ETA: 3s - loss: nan - acc: 0.0000e+00"
     ]
    },
    {
     "ename": "KeyboardInterrupt",
     "evalue": "",
     "output_type": "error",
     "traceback": [
      "\u001b[1;31m---------------------------------------------------------------------------\u001b[0m",
      "\u001b[1;31mKeyboardInterrupt\u001b[0m                         Traceback (most recent call last)",
      "\u001b[1;32m<ipython-input-156-7b8a27a1170e>\u001b[0m in \u001b[0;36m<module>\u001b[1;34m()\u001b[0m\n\u001b[0;32m     25\u001b[0m \u001b[0mregressor\u001b[0m\u001b[1;33m.\u001b[0m\u001b[0mcompile\u001b[0m\u001b[1;33m(\u001b[0m\u001b[0moptimizer\u001b[0m\u001b[1;33m=\u001b[0m\u001b[1;34m'adam'\u001b[0m\u001b[1;33m,\u001b[0m\u001b[0mloss\u001b[0m\u001b[1;33m=\u001b[0m\u001b[1;34m'mean_squared_error'\u001b[0m\u001b[1;33m,\u001b[0m\u001b[0mmetrics\u001b[0m \u001b[1;33m=\u001b[0m \u001b[1;33m[\u001b[0m\u001b[1;34m'accuracy'\u001b[0m\u001b[1;33m]\u001b[0m\u001b[1;33m)\u001b[0m\u001b[1;33m\u001b[0m\u001b[0m\n\u001b[0;32m     26\u001b[0m \u001b[1;33m\u001b[0m\u001b[0m\n\u001b[1;32m---> 27\u001b[1;33m \u001b[0mregressor\u001b[0m\u001b[1;33m.\u001b[0m\u001b[0mfit\u001b[0m\u001b[1;33m(\u001b[0m\u001b[0mX_train\u001b[0m\u001b[1;33m,\u001b[0m\u001b[0my_train\u001b[0m\u001b[1;33m,\u001b[0m\u001b[0mepochs\u001b[0m\u001b[1;33m=\u001b[0m\u001b[1;36m100\u001b[0m\u001b[1;33m,\u001b[0m\u001b[0mbatch_size\u001b[0m\u001b[1;33m=\u001b[0m\u001b[1;36m32\u001b[0m\u001b[1;33m)\u001b[0m\u001b[1;33m\u001b[0m\u001b[0m\n\u001b[0m",
      "\u001b[1;32mc:\\users\\admin\\appdata\\local\\programs\\python\\python36\\lib\\site-packages\\keras\\models.py\u001b[0m in \u001b[0;36mfit\u001b[1;34m(self, x, y, batch_size, epochs, verbose, callbacks, validation_split, validation_data, shuffle, class_weight, sample_weight, initial_epoch, steps_per_epoch, validation_steps, **kwargs)\u001b[0m\n\u001b[0;32m    958\u001b[0m                               \u001b[0minitial_epoch\u001b[0m\u001b[1;33m=\u001b[0m\u001b[0minitial_epoch\u001b[0m\u001b[1;33m,\u001b[0m\u001b[1;33m\u001b[0m\u001b[0m\n\u001b[0;32m    959\u001b[0m                               \u001b[0msteps_per_epoch\u001b[0m\u001b[1;33m=\u001b[0m\u001b[0msteps_per_epoch\u001b[0m\u001b[1;33m,\u001b[0m\u001b[1;33m\u001b[0m\u001b[0m\n\u001b[1;32m--> 960\u001b[1;33m                               validation_steps=validation_steps)\n\u001b[0m\u001b[0;32m    961\u001b[0m \u001b[1;33m\u001b[0m\u001b[0m\n\u001b[0;32m    962\u001b[0m     def evaluate(self, x, y, batch_size=32, verbose=1,\n",
      "\u001b[1;32mc:\\users\\admin\\appdata\\local\\programs\\python\\python36\\lib\\site-packages\\keras\\engine\\training.py\u001b[0m in \u001b[0;36mfit\u001b[1;34m(self, x, y, batch_size, epochs, verbose, callbacks, validation_split, validation_data, shuffle, class_weight, sample_weight, initial_epoch, steps_per_epoch, validation_steps, **kwargs)\u001b[0m\n\u001b[0;32m   1655\u001b[0m                               \u001b[0minitial_epoch\u001b[0m\u001b[1;33m=\u001b[0m\u001b[0minitial_epoch\u001b[0m\u001b[1;33m,\u001b[0m\u001b[1;33m\u001b[0m\u001b[0m\n\u001b[0;32m   1656\u001b[0m                               \u001b[0msteps_per_epoch\u001b[0m\u001b[1;33m=\u001b[0m\u001b[0msteps_per_epoch\u001b[0m\u001b[1;33m,\u001b[0m\u001b[1;33m\u001b[0m\u001b[0m\n\u001b[1;32m-> 1657\u001b[1;33m                               validation_steps=validation_steps)\n\u001b[0m\u001b[0;32m   1658\u001b[0m \u001b[1;33m\u001b[0m\u001b[0m\n\u001b[0;32m   1659\u001b[0m     def evaluate(self, x=None, y=None,\n",
      "\u001b[1;32mc:\\users\\admin\\appdata\\local\\programs\\python\\python36\\lib\\site-packages\\keras\\engine\\training.py\u001b[0m in \u001b[0;36m_fit_loop\u001b[1;34m(self, f, ins, out_labels, batch_size, epochs, verbose, callbacks, val_f, val_ins, shuffle, callback_metrics, initial_epoch, steps_per_epoch, validation_steps)\u001b[0m\n\u001b[0;32m   1211\u001b[0m                     \u001b[0mbatch_logs\u001b[0m\u001b[1;33m[\u001b[0m\u001b[1;34m'size'\u001b[0m\u001b[1;33m]\u001b[0m \u001b[1;33m=\u001b[0m \u001b[0mlen\u001b[0m\u001b[1;33m(\u001b[0m\u001b[0mbatch_ids\u001b[0m\u001b[1;33m)\u001b[0m\u001b[1;33m\u001b[0m\u001b[0m\n\u001b[0;32m   1212\u001b[0m                     \u001b[0mcallbacks\u001b[0m\u001b[1;33m.\u001b[0m\u001b[0mon_batch_begin\u001b[0m\u001b[1;33m(\u001b[0m\u001b[0mbatch_index\u001b[0m\u001b[1;33m,\u001b[0m \u001b[0mbatch_logs\u001b[0m\u001b[1;33m)\u001b[0m\u001b[1;33m\u001b[0m\u001b[0m\n\u001b[1;32m-> 1213\u001b[1;33m                     \u001b[0mouts\u001b[0m \u001b[1;33m=\u001b[0m \u001b[0mf\u001b[0m\u001b[1;33m(\u001b[0m\u001b[0mins_batch\u001b[0m\u001b[1;33m)\u001b[0m\u001b[1;33m\u001b[0m\u001b[0m\n\u001b[0m\u001b[0;32m   1214\u001b[0m                     \u001b[1;32mif\u001b[0m \u001b[1;32mnot\u001b[0m \u001b[0misinstance\u001b[0m\u001b[1;33m(\u001b[0m\u001b[0mouts\u001b[0m\u001b[1;33m,\u001b[0m \u001b[0mlist\u001b[0m\u001b[1;33m)\u001b[0m\u001b[1;33m:\u001b[0m\u001b[1;33m\u001b[0m\u001b[0m\n\u001b[0;32m   1215\u001b[0m                         \u001b[0mouts\u001b[0m \u001b[1;33m=\u001b[0m \u001b[1;33m[\u001b[0m\u001b[0mouts\u001b[0m\u001b[1;33m]\u001b[0m\u001b[1;33m\u001b[0m\u001b[0m\n",
      "\u001b[1;32mc:\\users\\admin\\appdata\\local\\programs\\python\\python36\\lib\\site-packages\\keras\\backend\\tensorflow_backend.py\u001b[0m in \u001b[0;36m__call__\u001b[1;34m(self, inputs)\u001b[0m\n\u001b[0;32m   2355\u001b[0m         \u001b[0msession\u001b[0m \u001b[1;33m=\u001b[0m \u001b[0mget_session\u001b[0m\u001b[1;33m(\u001b[0m\u001b[1;33m)\u001b[0m\u001b[1;33m\u001b[0m\u001b[0m\n\u001b[0;32m   2356\u001b[0m         updated = session.run(fetches=fetches, feed_dict=feed_dict,\n\u001b[1;32m-> 2357\u001b[1;33m                               **self.session_kwargs)\n\u001b[0m\u001b[0;32m   2358\u001b[0m         \u001b[1;32mreturn\u001b[0m \u001b[0mupdated\u001b[0m\u001b[1;33m[\u001b[0m\u001b[1;33m:\u001b[0m\u001b[0mlen\u001b[0m\u001b[1;33m(\u001b[0m\u001b[0mself\u001b[0m\u001b[1;33m.\u001b[0m\u001b[0moutputs\u001b[0m\u001b[1;33m)\u001b[0m\u001b[1;33m]\u001b[0m\u001b[1;33m\u001b[0m\u001b[0m\n\u001b[0;32m   2359\u001b[0m \u001b[1;33m\u001b[0m\u001b[0m\n",
      "\u001b[1;32mc:\\users\\admin\\appdata\\local\\programs\\python\\python36\\lib\\site-packages\\tensorflow\\python\\client\\session.py\u001b[0m in \u001b[0;36mrun\u001b[1;34m(self, fetches, feed_dict, options, run_metadata)\u001b[0m\n\u001b[0;32m    903\u001b[0m     \u001b[1;32mtry\u001b[0m\u001b[1;33m:\u001b[0m\u001b[1;33m\u001b[0m\u001b[0m\n\u001b[0;32m    904\u001b[0m       result = self._run(None, fetches, feed_dict, options_ptr,\n\u001b[1;32m--> 905\u001b[1;33m                          run_metadata_ptr)\n\u001b[0m\u001b[0;32m    906\u001b[0m       \u001b[1;32mif\u001b[0m \u001b[0mrun_metadata\u001b[0m\u001b[1;33m:\u001b[0m\u001b[1;33m\u001b[0m\u001b[0m\n\u001b[0;32m    907\u001b[0m         \u001b[0mproto_data\u001b[0m \u001b[1;33m=\u001b[0m \u001b[0mtf_session\u001b[0m\u001b[1;33m.\u001b[0m\u001b[0mTF_GetBuffer\u001b[0m\u001b[1;33m(\u001b[0m\u001b[0mrun_metadata_ptr\u001b[0m\u001b[1;33m)\u001b[0m\u001b[1;33m\u001b[0m\u001b[0m\n",
      "\u001b[1;32mc:\\users\\admin\\appdata\\local\\programs\\python\\python36\\lib\\site-packages\\tensorflow\\python\\client\\session.py\u001b[0m in \u001b[0;36m_run\u001b[1;34m(self, handle, fetches, feed_dict, options, run_metadata)\u001b[0m\n\u001b[0;32m   1138\u001b[0m     \u001b[1;32mif\u001b[0m \u001b[0mfinal_fetches\u001b[0m \u001b[1;32mor\u001b[0m \u001b[0mfinal_targets\u001b[0m \u001b[1;32mor\u001b[0m \u001b[1;33m(\u001b[0m\u001b[0mhandle\u001b[0m \u001b[1;32mand\u001b[0m \u001b[0mfeed_dict_tensor\u001b[0m\u001b[1;33m)\u001b[0m\u001b[1;33m:\u001b[0m\u001b[1;33m\u001b[0m\u001b[0m\n\u001b[0;32m   1139\u001b[0m       results = self._do_run(handle, final_targets, final_fetches,\n\u001b[1;32m-> 1140\u001b[1;33m                              feed_dict_tensor, options, run_metadata)\n\u001b[0m\u001b[0;32m   1141\u001b[0m     \u001b[1;32melse\u001b[0m\u001b[1;33m:\u001b[0m\u001b[1;33m\u001b[0m\u001b[0m\n\u001b[0;32m   1142\u001b[0m       \u001b[0mresults\u001b[0m \u001b[1;33m=\u001b[0m \u001b[1;33m[\u001b[0m\u001b[1;33m]\u001b[0m\u001b[1;33m\u001b[0m\u001b[0m\n",
      "\u001b[1;32mc:\\users\\admin\\appdata\\local\\programs\\python\\python36\\lib\\site-packages\\tensorflow\\python\\client\\session.py\u001b[0m in \u001b[0;36m_do_run\u001b[1;34m(self, handle, target_list, fetch_list, feed_dict, options, run_metadata)\u001b[0m\n\u001b[0;32m   1319\u001b[0m     \u001b[1;32mif\u001b[0m \u001b[0mhandle\u001b[0m \u001b[1;32mis\u001b[0m \u001b[1;32mNone\u001b[0m\u001b[1;33m:\u001b[0m\u001b[1;33m\u001b[0m\u001b[0m\n\u001b[0;32m   1320\u001b[0m       return self._do_call(_run_fn, feeds, fetches, targets, options,\n\u001b[1;32m-> 1321\u001b[1;33m                            run_metadata)\n\u001b[0m\u001b[0;32m   1322\u001b[0m     \u001b[1;32melse\u001b[0m\u001b[1;33m:\u001b[0m\u001b[1;33m\u001b[0m\u001b[0m\n\u001b[0;32m   1323\u001b[0m       \u001b[1;32mreturn\u001b[0m \u001b[0mself\u001b[0m\u001b[1;33m.\u001b[0m\u001b[0m_do_call\u001b[0m\u001b[1;33m(\u001b[0m\u001b[0m_prun_fn\u001b[0m\u001b[1;33m,\u001b[0m \u001b[0mhandle\u001b[0m\u001b[1;33m,\u001b[0m \u001b[0mfeeds\u001b[0m\u001b[1;33m,\u001b[0m \u001b[0mfetches\u001b[0m\u001b[1;33m)\u001b[0m\u001b[1;33m\u001b[0m\u001b[0m\n",
      "\u001b[1;32mc:\\users\\admin\\appdata\\local\\programs\\python\\python36\\lib\\site-packages\\tensorflow\\python\\client\\session.py\u001b[0m in \u001b[0;36m_do_call\u001b[1;34m(self, fn, *args)\u001b[0m\n\u001b[0;32m   1325\u001b[0m   \u001b[1;32mdef\u001b[0m \u001b[0m_do_call\u001b[0m\u001b[1;33m(\u001b[0m\u001b[0mself\u001b[0m\u001b[1;33m,\u001b[0m \u001b[0mfn\u001b[0m\u001b[1;33m,\u001b[0m \u001b[1;33m*\u001b[0m\u001b[0margs\u001b[0m\u001b[1;33m)\u001b[0m\u001b[1;33m:\u001b[0m\u001b[1;33m\u001b[0m\u001b[0m\n\u001b[0;32m   1326\u001b[0m     \u001b[1;32mtry\u001b[0m\u001b[1;33m:\u001b[0m\u001b[1;33m\u001b[0m\u001b[0m\n\u001b[1;32m-> 1327\u001b[1;33m       \u001b[1;32mreturn\u001b[0m \u001b[0mfn\u001b[0m\u001b[1;33m(\u001b[0m\u001b[1;33m*\u001b[0m\u001b[0margs\u001b[0m\u001b[1;33m)\u001b[0m\u001b[1;33m\u001b[0m\u001b[0m\n\u001b[0m\u001b[0;32m   1328\u001b[0m     \u001b[1;32mexcept\u001b[0m \u001b[0merrors\u001b[0m\u001b[1;33m.\u001b[0m\u001b[0mOpError\u001b[0m \u001b[1;32mas\u001b[0m \u001b[0me\u001b[0m\u001b[1;33m:\u001b[0m\u001b[1;33m\u001b[0m\u001b[0m\n\u001b[0;32m   1329\u001b[0m       \u001b[0mmessage\u001b[0m \u001b[1;33m=\u001b[0m \u001b[0mcompat\u001b[0m\u001b[1;33m.\u001b[0m\u001b[0mas_text\u001b[0m\u001b[1;33m(\u001b[0m\u001b[0me\u001b[0m\u001b[1;33m.\u001b[0m\u001b[0mmessage\u001b[0m\u001b[1;33m)\u001b[0m\u001b[1;33m\u001b[0m\u001b[0m\n",
      "\u001b[1;32mc:\\users\\admin\\appdata\\local\\programs\\python\\python36\\lib\\site-packages\\tensorflow\\python\\client\\session.py\u001b[0m in \u001b[0;36m_run_fn\u001b[1;34m(feed_dict, fetch_list, target_list, options, run_metadata)\u001b[0m\n\u001b[0;32m   1310\u001b[0m       \u001b[0mself\u001b[0m\u001b[1;33m.\u001b[0m\u001b[0m_extend_graph\u001b[0m\u001b[1;33m(\u001b[0m\u001b[1;33m)\u001b[0m\u001b[1;33m\u001b[0m\u001b[0m\n\u001b[0;32m   1311\u001b[0m       return self._call_tf_sessionrun(\n\u001b[1;32m-> 1312\u001b[1;33m           options, feed_dict, fetch_list, target_list, run_metadata)\n\u001b[0m\u001b[0;32m   1313\u001b[0m \u001b[1;33m\u001b[0m\u001b[0m\n\u001b[0;32m   1314\u001b[0m     \u001b[1;32mdef\u001b[0m \u001b[0m_prun_fn\u001b[0m\u001b[1;33m(\u001b[0m\u001b[0mhandle\u001b[0m\u001b[1;33m,\u001b[0m \u001b[0mfeed_dict\u001b[0m\u001b[1;33m,\u001b[0m \u001b[0mfetch_list\u001b[0m\u001b[1;33m)\u001b[0m\u001b[1;33m:\u001b[0m\u001b[1;33m\u001b[0m\u001b[0m\n",
      "\u001b[1;32mc:\\users\\admin\\appdata\\local\\programs\\python\\python36\\lib\\site-packages\\tensorflow\\python\\client\\session.py\u001b[0m in \u001b[0;36m_call_tf_sessionrun\u001b[1;34m(self, options, feed_dict, fetch_list, target_list, run_metadata)\u001b[0m\n\u001b[0;32m   1418\u001b[0m         return tf_session.TF_Run(\n\u001b[0;32m   1419\u001b[0m             \u001b[0mself\u001b[0m\u001b[1;33m.\u001b[0m\u001b[0m_session\u001b[0m\u001b[1;33m,\u001b[0m \u001b[0moptions\u001b[0m\u001b[1;33m,\u001b[0m \u001b[0mfeed_dict\u001b[0m\u001b[1;33m,\u001b[0m \u001b[0mfetch_list\u001b[0m\u001b[1;33m,\u001b[0m \u001b[0mtarget_list\u001b[0m\u001b[1;33m,\u001b[0m\u001b[1;33m\u001b[0m\u001b[0m\n\u001b[1;32m-> 1420\u001b[1;33m             status, run_metadata)\n\u001b[0m\u001b[0;32m   1421\u001b[0m \u001b[1;33m\u001b[0m\u001b[0m\n\u001b[0;32m   1422\u001b[0m   \u001b[1;32mdef\u001b[0m \u001b[0m_call_tf_sessionprun\u001b[0m\u001b[1;33m(\u001b[0m\u001b[0mself\u001b[0m\u001b[1;33m,\u001b[0m \u001b[0mhandle\u001b[0m\u001b[1;33m,\u001b[0m \u001b[0mfeed_dict\u001b[0m\u001b[1;33m,\u001b[0m \u001b[0mfetch_list\u001b[0m\u001b[1;33m)\u001b[0m\u001b[1;33m:\u001b[0m\u001b[1;33m\u001b[0m\u001b[0m\n",
      "\u001b[1;31mKeyboardInterrupt\u001b[0m: "
     ]
    }
   ],
   "source": [
    "from keras.models import Sequential\n",
    "from keras.layers import Dense, Flatten\n",
    "from keras.layers import LSTM\n",
    "from keras.layers import Dropout\n",
    "\n",
    "regressor=Sequential()\n",
    "regressor.add(LSTM(units=100,return_sequences=True,input_shape=(X_train.shape[1], 1)))\n",
    "regressor.add(Dropout(0.4))\n",
    "\n",
    "regressor.add(LSTM(units=100,return_sequences=True))\n",
    "regressor.add(Dropout(0.6))\n",
    "\n",
    "regressor.add(LSTM(units=100,return_sequences=True))\n",
    "regressor.add(Dropout(0.6))\n",
    "\n",
    "regressor.add(LSTM(units=100,return_sequences=True))\n",
    "regressor.add(Dropout(0.4))\n",
    "\n",
    "regressor.add(LSTM(units=100))\n",
    "regressor.add(Dropout(0.4))\n",
    "\n",
    "#regressor.add(Flatten())\n",
    "regressor.add(Dense(units=1))\n",
    "\n",
    "regressor.compile(optimizer='adam',loss='mean_squared_error',metrics = ['accuracy'])\n",
    "\n",
    "regressor.fit(X_train,y_train,epochs=100,batch_size=32)"
   ]
  },
  {
   "cell_type": "markdown",
   "metadata": {},
   "source": [
    "# Alternate Models"
   ]
  },
  {
   "cell_type": "code",
   "execution_count": 183,
   "metadata": {},
   "outputs": [],
   "source": [
    "df3 = pd.read_csv('AAPL.csv')\n"
   ]
  },
  {
   "cell_type": "code",
   "execution_count": 184,
   "metadata": {},
   "outputs": [
    {
     "data": {
      "text/html": [
       "<div>\n",
       "<style>\n",
       "    .dataframe thead tr:only-child th {\n",
       "        text-align: right;\n",
       "    }\n",
       "\n",
       "    .dataframe thead th {\n",
       "        text-align: left;\n",
       "    }\n",
       "\n",
       "    .dataframe tbody tr th {\n",
       "        vertical-align: top;\n",
       "    }\n",
       "</style>\n",
       "<table border=\"1\" class=\"dataframe\">\n",
       "  <thead>\n",
       "    <tr style=\"text-align: right;\">\n",
       "      <th></th>\n",
       "      <th>Date</th>\n",
       "      <th>Open</th>\n",
       "      <th>High</th>\n",
       "      <th>Low</th>\n",
       "      <th>Close</th>\n",
       "      <th>Adj Close</th>\n",
       "      <th>Volume</th>\n",
       "    </tr>\n",
       "  </thead>\n",
       "  <tbody>\n",
       "    <tr>\n",
       "      <th>0</th>\n",
       "      <td>2012-01-03</td>\n",
       "      <td>58.485714</td>\n",
       "      <td>58.928570</td>\n",
       "      <td>58.428570</td>\n",
       "      <td>58.747143</td>\n",
       "      <td>39.769264</td>\n",
       "      <td>75555200</td>\n",
       "    </tr>\n",
       "    <tr>\n",
       "      <th>1</th>\n",
       "      <td>2012-01-04</td>\n",
       "      <td>58.571430</td>\n",
       "      <td>59.240002</td>\n",
       "      <td>58.468571</td>\n",
       "      <td>59.062859</td>\n",
       "      <td>39.982990</td>\n",
       "      <td>65005500</td>\n",
       "    </tr>\n",
       "    <tr>\n",
       "      <th>2</th>\n",
       "      <td>2012-01-05</td>\n",
       "      <td>59.278572</td>\n",
       "      <td>59.792858</td>\n",
       "      <td>58.952858</td>\n",
       "      <td>59.718571</td>\n",
       "      <td>40.426876</td>\n",
       "      <td>67817400</td>\n",
       "    </tr>\n",
       "    <tr>\n",
       "      <th>3</th>\n",
       "      <td>2012-01-06</td>\n",
       "      <td>59.967144</td>\n",
       "      <td>60.392857</td>\n",
       "      <td>59.888573</td>\n",
       "      <td>60.342857</td>\n",
       "      <td>40.849491</td>\n",
       "      <td>79573200</td>\n",
       "    </tr>\n",
       "    <tr>\n",
       "      <th>4</th>\n",
       "      <td>2012-01-09</td>\n",
       "      <td>60.785713</td>\n",
       "      <td>61.107143</td>\n",
       "      <td>60.192856</td>\n",
       "      <td>60.247143</td>\n",
       "      <td>40.784698</td>\n",
       "      <td>98506100</td>\n",
       "    </tr>\n",
       "  </tbody>\n",
       "</table>\n",
       "</div>"
      ],
      "text/plain": [
       "         Date       Open       High        Low      Close  Adj Close    Volume\n",
       "0  2012-01-03  58.485714  58.928570  58.428570  58.747143  39.769264  75555200\n",
       "1  2012-01-04  58.571430  59.240002  58.468571  59.062859  39.982990  65005500\n",
       "2  2012-01-05  59.278572  59.792858  58.952858  59.718571  40.426876  67817400\n",
       "3  2012-01-06  59.967144  60.392857  59.888573  60.342857  40.849491  79573200\n",
       "4  2012-01-09  60.785713  61.107143  60.192856  60.247143  40.784698  98506100"
      ]
     },
     "execution_count": 184,
     "metadata": {},
     "output_type": "execute_result"
    }
   ],
   "source": [
    "df3.head()"
   ]
  },
  {
   "cell_type": "code",
   "execution_count": 167,
   "metadata": {},
   "outputs": [],
   "source": [
    "split = int(len(df)*0.8)\n",
    "train, test  = df[:split], df2[split:]"
   ]
  },
  {
   "cell_type": "code",
   "execution_count": 168,
   "metadata": {},
   "outputs": [],
   "source": [
    "training_set=train.iloc[:,1:2].values"
   ]
  },
  {
   "cell_type": "code",
   "execution_count": 169,
   "metadata": {},
   "outputs": [],
   "source": [
    "sc = MinMaxScaler(feature_range = (0, 1))\n",
    "training_set_scaled = sc.fit_transform(training_set)"
   ]
  },
  {
   "cell_type": "code",
   "execution_count": 170,
   "metadata": {},
   "outputs": [
    {
     "data": {
      "text/plain": [
       "(1236, 1)"
      ]
     },
     "execution_count": 170,
     "metadata": {},
     "output_type": "execute_result"
    }
   ],
   "source": [
    "training_set_scaled.shape"
   ]
  },
  {
   "cell_type": "code",
   "execution_count": 171,
   "metadata": {},
   "outputs": [],
   "source": [
    "X_train=[]\n",
    "y_train=[]\n",
    "for i in range(60,1236):\n",
    "    X_train.append(training_set_scaled[i-60:i,0])\n",
    "    y_train.append(training_set_scaled[i,0])\n",
    "X_train, y_train = np.array(X_train), np.array(y_train)"
   ]
  },
  {
   "cell_type": "code",
   "execution_count": 172,
   "metadata": {},
   "outputs": [],
   "source": [
    "X_train = np.reshape(X_train, (X_train.shape[0], X_train.shape[1], 1))"
   ]
  },
  {
   "cell_type": "code",
   "execution_count": 173,
   "metadata": {},
   "outputs": [
    {
     "name": "stdout",
     "output_type": "stream",
     "text": [
      "Epoch 1/100\n",
      "1176/1176 [==============================] - 26s 22ms/step - loss: 0.0346\n",
      "Epoch 2/100\n",
      "1176/1176 [==============================] - 14s 12ms/step - loss: 0.0067\n",
      "Epoch 3/100\n",
      "1176/1176 [==============================] - 14s 12ms/step - loss: 0.0068\n",
      "Epoch 4/100\n",
      "1176/1176 [==============================] - 14s 12ms/step - loss: 0.0067\n",
      "Epoch 5/100\n",
      "1176/1176 [==============================] - 14s 12ms/step - loss: 0.0055\n",
      "Epoch 6/100\n",
      "1176/1176 [==============================] - 14s 12ms/step - loss: 0.0058\n",
      "Epoch 7/100\n",
      "1176/1176 [==============================] - 14s 12ms/step - loss: 0.0056\n",
      "Epoch 8/100\n",
      "1176/1176 [==============================] - 16s 14ms/step - loss: 0.0055\n",
      "Epoch 9/100\n",
      "1176/1176 [==============================] - 14s 12ms/step - loss: 0.0056\n",
      "Epoch 10/100\n",
      "1176/1176 [==============================] - 14s 12ms/step - loss: 0.0057\n",
      "Epoch 11/100\n",
      "1176/1176 [==============================] - 15s 13ms/step - loss: 0.0047\n",
      "Epoch 12/100\n",
      "1176/1176 [==============================] - 15s 13ms/step - loss: 0.0046\n",
      "Epoch 13/100\n",
      "1176/1176 [==============================] - 14s 12ms/step - loss: 0.0049\n",
      "Epoch 14/100\n",
      "1176/1176 [==============================] - 13s 11ms/step - loss: 0.0041\n",
      "Epoch 15/100\n",
      "1176/1176 [==============================] - 17s 14ms/step - loss: 0.0046\n",
      "Epoch 16/100\n",
      "1176/1176 [==============================] - 13s 11ms/step - loss: 0.0044\n",
      "Epoch 17/100\n",
      "1176/1176 [==============================] - 15s 13ms/step - loss: 0.0051\n",
      "Epoch 18/100\n",
      "1176/1176 [==============================] - 15s 13ms/step - loss: 0.0044\n",
      "Epoch 19/100\n",
      "1176/1176 [==============================] - 15s 13ms/step - loss: 0.0035\n",
      "Epoch 20/100\n",
      "1176/1176 [==============================] - 15s 13ms/step - loss: 0.0039\n",
      "Epoch 21/100\n",
      "1176/1176 [==============================] - 15s 13ms/step - loss: 0.0039\n",
      "Epoch 22/100\n",
      "1176/1176 [==============================] - 15s 13ms/step - loss: 0.0036\n",
      "Epoch 23/100\n",
      "1176/1176 [==============================] - 15s 12ms/step - loss: 0.0043\n",
      "Epoch 24/100\n",
      "1176/1176 [==============================] - 15s 12ms/step - loss: 0.0042\n",
      "Epoch 25/100\n",
      "1176/1176 [==============================] - 14s 12ms/step - loss: 0.0035\n",
      "Epoch 26/100\n",
      "1176/1176 [==============================] - 14s 12ms/step - loss: 0.0036\n",
      "Epoch 27/100\n",
      "1176/1176 [==============================] - 16s 13ms/step - loss: 0.0038\n",
      "Epoch 28/100\n",
      "1176/1176 [==============================] - 16s 13ms/step - loss: 0.0035\n",
      "Epoch 29/100\n",
      "1176/1176 [==============================] - 14s 12ms/step - loss: 0.0039\n",
      "Epoch 30/100\n",
      "1176/1176 [==============================] - 17s 14ms/step - loss: 0.0033\n",
      "Epoch 31/100\n",
      "1176/1176 [==============================] - 15s 13ms/step - loss: 0.0034\n",
      "Epoch 32/100\n",
      "1176/1176 [==============================] - 15s 13ms/step - loss: 0.0034\n",
      "Epoch 33/100\n",
      "1176/1176 [==============================] - 15s 13ms/step - loss: 0.0033\n",
      "Epoch 34/100\n",
      "1176/1176 [==============================] - 15s 13ms/step - loss: 0.0035\n",
      "Epoch 35/100\n",
      "1176/1176 [==============================] - 14s 12ms/step - loss: 0.0031\n",
      "Epoch 36/100\n",
      "1176/1176 [==============================] - 15s 12ms/step - loss: 0.0030\n",
      "Epoch 37/100\n",
      "1176/1176 [==============================] - 14s 12ms/step - loss: 0.0034\n",
      "Epoch 38/100\n",
      "1176/1176 [==============================] - 15s 13ms/step - loss: 0.0032\n",
      "Epoch 39/100\n",
      "1176/1176 [==============================] - 14s 12ms/step - loss: 0.0033\n",
      "Epoch 40/100\n",
      "1176/1176 [==============================] - 14s 12ms/step - loss: 0.0030\n",
      "Epoch 41/100\n",
      "1176/1176 [==============================] - 14s 12ms/step - loss: 0.0030\n",
      "Epoch 42/100\n",
      "1176/1176 [==============================] - 15s 13ms/step - loss: 0.0028\n",
      "Epoch 43/100\n",
      "1176/1176 [==============================] - 15s 13ms/step - loss: 0.0034\n",
      "Epoch 44/100\n",
      "1176/1176 [==============================] - 15s 13ms/step - loss: 0.0034\n",
      "Epoch 45/100\n",
      "1176/1176 [==============================] - 17s 14ms/step - loss: 0.0031\n",
      "Epoch 46/100\n",
      "1176/1176 [==============================] - 15s 12ms/step - loss: 0.0033\n",
      "Epoch 47/100\n",
      "1176/1176 [==============================] - 16s 13ms/step - loss: 0.0033\n",
      "Epoch 48/100\n",
      "1176/1176 [==============================] - 16s 14ms/step - loss: 0.0029\n",
      "Epoch 49/100\n",
      "1176/1176 [==============================] - 17s 15ms/step - loss: 0.0029\n",
      "Epoch 50/100\n",
      "1176/1176 [==============================] - 15s 13ms/step - loss: 0.0031\n",
      "Epoch 51/100\n",
      "1176/1176 [==============================] - 15s 13ms/step - loss: 0.0027\n",
      "Epoch 52/100\n",
      "1176/1176 [==============================] - 15s 13ms/step - loss: 0.0026\n",
      "Epoch 53/100\n",
      "1176/1176 [==============================] - 15s 13ms/step - loss: 0.0026\n",
      "Epoch 54/100\n",
      "1176/1176 [==============================] - 15s 13ms/step - loss: 0.0025\n",
      "Epoch 55/100\n",
      "1176/1176 [==============================] - 15s 12ms/step - loss: 0.0026\n",
      "Epoch 56/100\n",
      "1176/1176 [==============================] - 15s 12ms/step - loss: 0.0026\n",
      "Epoch 57/100\n",
      "1176/1176 [==============================] - 14s 12ms/step - loss: 0.0027\n",
      "Epoch 58/100\n",
      "1176/1176 [==============================] - 14s 12ms/step - loss: 0.0029\n",
      "Epoch 59/100\n",
      "1176/1176 [==============================] - 14s 12ms/step - loss: 0.0024\n",
      "Epoch 60/100\n",
      "1176/1176 [==============================] - 15s 13ms/step - loss: 0.0027\n",
      "Epoch 61/100\n",
      "1176/1176 [==============================] - 15s 12ms/step - loss: 0.0025\n",
      "Epoch 62/100\n",
      "1176/1176 [==============================] - 16s 13ms/step - loss: 0.0025\n",
      "Epoch 63/100\n",
      "1176/1176 [==============================] - 15s 13ms/step - loss: 0.0026\n",
      "Epoch 64/100\n",
      "1176/1176 [==============================] - 14s 12ms/step - loss: 0.0021\n",
      "Epoch 65/100\n",
      "1176/1176 [==============================] - 15s 12ms/step - loss: 0.0027\n",
      "Epoch 66/100\n",
      "1176/1176 [==============================] - 15s 13ms/step - loss: 0.0023\n",
      "Epoch 67/100\n",
      "1176/1176 [==============================] - 14s 12ms/step - loss: 0.0024\n",
      "Epoch 68/100\n",
      "1176/1176 [==============================] - 14s 12ms/step - loss: 0.0022\n",
      "Epoch 69/100\n",
      "1176/1176 [==============================] - 14s 12ms/step - loss: 0.0022\n",
      "Epoch 70/100\n",
      "1176/1176 [==============================] - 14s 12ms/step - loss: 0.0029\n",
      "Epoch 71/100\n",
      "1176/1176 [==============================] - 14s 12ms/step - loss: 0.0022\n",
      "Epoch 72/100\n",
      "1176/1176 [==============================] - 14s 12ms/step - loss: 0.0021\n",
      "Epoch 73/100\n",
      "1176/1176 [==============================] - 14s 12ms/step - loss: 0.0022\n",
      "Epoch 74/100\n",
      "1176/1176 [==============================] - 16s 13ms/step - loss: 0.0022\n",
      "Epoch 75/100\n",
      "1176/1176 [==============================] - 15s 13ms/step - loss: 0.0023\n",
      "Epoch 76/100\n",
      "1176/1176 [==============================] - 15s 13ms/step - loss: 0.0023\n",
      "Epoch 77/100\n",
      "1176/1176 [==============================] - 15s 12ms/step - loss: 0.0025\n",
      "Epoch 78/100\n",
      "1176/1176 [==============================] - 15s 12ms/step - loss: 0.0022\n",
      "Epoch 79/100\n",
      "1176/1176 [==============================] - 14s 12ms/step - loss: 0.0021\n",
      "Epoch 80/100\n",
      "1176/1176 [==============================] - 14s 12ms/step - loss: 0.0020\n",
      "Epoch 81/100\n",
      "1176/1176 [==============================] - 14s 12ms/step - loss: 0.0019\n",
      "Epoch 82/100\n",
      "1176/1176 [==============================] - 14s 12ms/step - loss: 0.0021\n",
      "Epoch 83/100\n",
      "1176/1176 [==============================] - 14s 12ms/step - loss: 0.0020\n",
      "Epoch 84/100\n",
      "1176/1176 [==============================] - 14s 12ms/step - loss: 0.0019\n",
      "Epoch 85/100\n",
      "1176/1176 [==============================] - 15s 12ms/step - loss: 0.0019\n",
      "Epoch 86/100\n",
      "1176/1176 [==============================] - 15s 13ms/step - loss: 0.0019\n",
      "Epoch 87/100\n",
      "1176/1176 [==============================] - 16s 13ms/step - loss: 0.0021\n",
      "Epoch 88/100\n",
      "1176/1176 [==============================] - 16s 13ms/step - loss: 0.0018\n",
      "Epoch 89/100\n",
      "1176/1176 [==============================] - 14s 12ms/step - loss: 0.0017\n",
      "Epoch 90/100\n",
      "1176/1176 [==============================] - 14s 12ms/step - loss: 0.0020\n",
      "Epoch 91/100\n",
      "1176/1176 [==============================] - 14s 12ms/step - loss: 0.0019\n",
      "Epoch 92/100\n",
      "1176/1176 [==============================] - 14s 12ms/step - loss: 0.0017\n",
      "Epoch 93/100\n",
      "1176/1176 [==============================] - 15s 13ms/step - loss: 0.0020\n",
      "Epoch 94/100\n",
      "1176/1176 [==============================] - 13s 11ms/step - loss: 0.0020\n",
      "Epoch 95/100\n"
     ]
    },
    {
     "name": "stdout",
     "output_type": "stream",
     "text": [
      "1176/1176 [==============================] - 15s 12ms/step - loss: 0.0018\n",
      "Epoch 96/100\n",
      "1176/1176 [==============================] - 16s 13ms/step - loss: 0.0018\n",
      "Epoch 97/100\n",
      "1176/1176 [==============================] - 16s 14ms/step - loss: 0.0018\n",
      "Epoch 98/100\n",
      "1176/1176 [==============================] - 15s 13ms/step - loss: 0.0019\n",
      "Epoch 99/100\n",
      "1176/1176 [==============================] - 14s 12ms/step - loss: 0.0019\n",
      "Epoch 100/100\n",
      "1176/1176 [==============================] - 15s 12ms/step - loss: 0.0017\n"
     ]
    },
    {
     "data": {
      "text/plain": [
       "<keras.callbacks.History at 0x21a857295f8>"
      ]
     },
     "execution_count": 173,
     "metadata": {},
     "output_type": "execute_result"
    }
   ],
   "source": [
    "from keras.models import Sequential\n",
    "from keras.layers import Dense, Flatten\n",
    "from keras.layers import LSTM\n",
    "from keras.layers import Dropout\n",
    "\n",
    "regressor=Sequential()\n",
    "regressor.add(LSTM(units=100,return_sequences=True,input_shape=(X_train.shape[1], 1)))\n",
    "regressor.add(Dropout(0.4))\n",
    "\n",
    "regressor.add(LSTM(units=100,return_sequences=True))\n",
    "regressor.add(Dropout(0.6))\n",
    "\n",
    "regressor.add(LSTM(units=100,return_sequences=True))\n",
    "regressor.add(Dropout(0.6))\n",
    "\n",
    "regressor.add(LSTM(units=100,return_sequences=True))\n",
    "regressor.add(Dropout(0.4))\n",
    "\n",
    "regressor.add(LSTM(units=100))\n",
    "regressor.add(Dropout(0.4))\n",
    "\n",
    "#regressor.add(Flatten())\n",
    "regressor.add(Dense(units=1))\n",
    "\n",
    "regressor.compile(optimizer='adam',loss='mean_squared_error')\n",
    "\n",
    "regressor.fit(X_train,y_train,epochs=100,batch_size=32)"
   ]
  },
  {
   "cell_type": "code",
   "execution_count": 174,
   "metadata": {},
   "outputs": [],
   "source": [
    "real_stock_price = test.iloc[:, 1:2].values\n",
    "total_data=pd.concat([train['Open'],test['Open']],axis=0)"
   ]
  },
  {
   "cell_type": "code",
   "execution_count": 175,
   "metadata": {},
   "outputs": [],
   "source": [
    "inputs=total_data[len(train)-len(test)-60:].values\n",
    "inputs=inputs.reshape(-1,1)\n",
    "inputs = sc.transform(inputs)"
   ]
  },
  {
   "cell_type": "code",
   "execution_count": 176,
   "metadata": {},
   "outputs": [],
   "source": [
    "X_test=[]\n",
    "for i in range(60,80):\n",
    "    X_test.append(inputs[i-60:i,0])\n",
    "X_test=np.array(X_test)\n",
    "X_test.shape\n",
    "X_test=np.reshape(X_test,(X_test.shape[0],X_test.shape[1],1))"
   ]
  },
  {
   "cell_type": "code",
   "execution_count": 179,
   "metadata": {},
   "outputs": [],
   "source": [
    "predicted_stock_price=regressor.predict(X_test)\n"
   ]
  },
  {
   "cell_type": "code",
   "execution_count": 181,
   "metadata": {},
   "outputs": [
    {
     "name": "stdout",
     "output_type": "stream",
     "text": [
      "[[73.0832  ]\n",
      " [73.41906 ]\n",
      " [73.75444 ]\n",
      " [73.71903 ]\n",
      " [73.41504 ]\n",
      " [73.07431 ]\n",
      " [72.80926 ]\n",
      " [72.762505]\n",
      " [72.92145 ]\n",
      " [73.06179 ]\n",
      " [72.951065]\n",
      " [72.74565 ]\n",
      " [72.552635]\n",
      " [72.43368 ]\n",
      " [72.51097 ]\n",
      " [72.83784 ]\n",
      " [73.23586 ]\n",
      " [73.376816]\n",
      " [73.203926]\n",
      " [72.82849 ]]\n"
     ]
    }
   ],
   "source": [
    "print(predicted_stock_price)"
   ]
  },
  {
   "cell_type": "code",
   "execution_count": 182,
   "metadata": {},
   "outputs": [
    {
     "data": {
      "text/plain": [
       "1453     True\n",
       "1454    False\n",
       "1455    False\n",
       "1456    False\n",
       "1457    False\n",
       "1458    False\n",
       "1459    False\n",
       "1460    False\n",
       "1461    False\n",
       "1462    False\n",
       "1463    False\n",
       "1464     True\n",
       "1465    False\n",
       "1466    False\n",
       "1467    False\n",
       "1468    False\n",
       "1469    False\n",
       "1470    False\n",
       "1471    False\n",
       "1472    False\n",
       "1473    False\n",
       "1474     True\n",
       "1475     True\n",
       "1476    False\n",
       "1477     True\n",
       "1478    False\n",
       "1479     True\n",
       "1480     True\n",
       "1481    False\n",
       "1482     True\n",
       "        ...  \n",
       "1732    False\n",
       "1733    False\n",
       "1734    False\n",
       "1735    False\n",
       "1736    False\n",
       "1737    False\n",
       "1738    False\n",
       "1739    False\n",
       "1740    False\n",
       "1741    False\n",
       "1742    False\n",
       "1743    False\n",
       "1744    False\n",
       "1745    False\n",
       "1746    False\n",
       "1747    False\n",
       "1748    False\n",
       "1749    False\n",
       "1750    False\n",
       "1751    False\n",
       "1752    False\n",
       "1753    False\n",
       "1754    False\n",
       "1755    False\n",
       "1756    False\n",
       "1757    False\n",
       "1758    False\n",
       "1759    False\n",
       "1760    False\n",
       "1761    False\n",
       "Name: y_pred, Length: 309, dtype: object"
      ]
     },
     "execution_count": 182,
     "metadata": {},
     "output_type": "execute_result"
    }
   ],
   "source": [
    "y_test"
   ]
  },
  {
   "cell_type": "code",
   "execution_count": null,
   "metadata": {},
   "outputs": [],
   "source": [
    "predicted_stock_price= sc.inverse_transform(predicted_stock_price)"
   ]
  },
  {
   "cell_type": "code",
   "execution_count": null,
   "metadata": {},
   "outputs": [],
   "source": []
  }
 ],
 "metadata": {
  "kernelspec": {
   "display_name": "Python 3",
   "language": "python",
   "name": "python3"
  },
  "language_info": {
   "codemirror_mode": {
    "name": "ipython",
    "version": 3
   },
   "file_extension": ".py",
   "mimetype": "text/x-python",
   "name": "python",
   "nbconvert_exporter": "python",
   "pygments_lexer": "ipython3",
   "version": "3.6.5"
  }
 },
 "nbformat": 4,
 "nbformat_minor": 2
}
